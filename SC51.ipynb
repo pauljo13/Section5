{
 "cells": [
  {
   "cell_type": "code",
   "execution_count": 4,
   "metadata": {},
   "outputs": [],
   "source": [
    "class Human:\n",
    "    def __init__(self, name, age):\n",
    "        self.name = name\n",
    "        self.age = age\n",
    "\n",
    "\n",
    "# 아래 humans에 할당된 list object는 다음과 같다.\n",
    "# Human(\"이름\", 연령)\n",
    "humans = [\n",
    "    Human(\"Abi\", 29),\n",
    "    Human(\"Batista\", 32),\n",
    "    Human(\"Charlse\", 37),\n",
    "    Human(\"Dolphine\", 30),\n",
    "    Human(\"Eva\", 26),\n",
    "    Human(\"Frin\", 18),\n",
    "    Human(\"Gless\", 42),\n",
    "    Human(\"Harby\", 12),\n",
    "    Human(\"Iris\", 41),\n",
    "    Human(\"David\", 31),\n",
    "]"
   ]
  },
  {
   "cell_type": "code",
   "execution_count": 9,
   "metadata": {},
   "outputs": [
    {
     "data": {
      "text/plain": [
       "'Abi'"
      ]
     },
     "execution_count": 9,
     "metadata": {},
     "output_type": "execute_result"
    }
   ],
   "source": [
    "humans[0].name"
   ]
  },
  {
   "cell_type": "code",
   "execution_count": 16,
   "metadata": {},
   "outputs": [
    {
     "name": "stdout",
     "output_type": "stream",
     "text": [
      "Dolphine\n",
      "David\n"
     ]
    }
   ],
   "source": [
    "for i in range(len(humans)):\n",
    "    if humans[i].name.startswith('D'):\n",
    "        print(humans[i].name)"
   ]
  },
  {
   "cell_type": "code",
   "execution_count": 17,
   "metadata": {},
   "outputs": [
    {
     "data": {
      "text/plain": [
       "['Dolphine', 'David']"
      ]
     },
     "execution_count": 17,
     "metadata": {},
     "output_type": "execute_result"
    }
   ],
   "source": [
    "a = [humans[i].name for i in range(len(humans)) if humans[i].name.startswith('D')]\n",
    "a"
   ]
  },
  {
   "cell_type": "code",
   "execution_count": 30,
   "metadata": {},
   "outputs": [
    {
     "name": "stdout",
     "output_type": "stream",
     "text": [
      "Starts with D:\n",
      "['Charlse', 'Dolphine', 'Eva', 'Frin', 'Gless', 'David']\n"
     ]
    },
    {
     "data": {
      "text/plain": [
       "['Charlse', 'Dolphine', 'Eva', 'Frin', 'Gless', 'David']"
      ]
     },
     "execution_count": 30,
     "metadata": {},
     "output_type": "execute_result"
    }
   ],
   "source": [
    "def quesion1():\n",
    "    print(\"Starts with D:\")\n",
    "    a = [humans[i].name for i in range(len(humans)) if humans[i].name.startswith(('C','D','E','F','G'))]\n",
    "    print(a)\n",
    "    return (a)\n",
    "\n",
    "quesion1()"
   ]
  },
  {
   "cell_type": "code",
   "execution_count": 32,
   "metadata": {},
   "outputs": [
    {
     "name": "stdout",
     "output_type": "stream",
     "text": [
      "Ages plus 10:\n",
      "[39, 42, 47, 40, 36, 28, 52, 22, 51, 41]\n"
     ]
    },
    {
     "data": {
      "text/plain": [
       "[39, 42, 47, 40, 36, 28, 52, 22, 51, 41]"
      ]
     },
     "execution_count": 32,
     "metadata": {},
     "output_type": "execute_result"
    }
   ],
   "source": [
    "def quesion4():\n",
    "    print(\"Ages plus 10:\")\n",
    "    d = [humans[i].age+10 for i in range(len(humans))]\n",
    "    print(d)\n",
    "    return(d)\n",
    "\n",
    "quesion4()"
   ]
  },
  {
   "cell_type": "code",
   "execution_count": 31,
   "metadata": {},
   "outputs": [
    {
     "name": "stdout",
     "output_type": "stream",
     "text": [
      "[39, 42, 47, 40, 36, 28, 52, 22, 51, 41]\n"
     ]
    }
   ],
   "source": [
    "d = []\n",
    "for i in range(len(humans)):\n",
    "    d.append(humans[i].age+10)\n",
    "print(d)"
   ]
  },
  {
   "cell_type": "code",
   "execution_count": 34,
   "metadata": {},
   "outputs": [
    {
     "name": "stdout",
     "output_type": "stream",
     "text": [
      "['Abi-29', 'Batista-32', 'Dolphine-30', 'David-31']\n"
     ]
    }
   ],
   "source": [
    "c = []\n",
    "for i in range(len(humans)):\n",
    "    if humans[i].age >= 27 and humans[i].age <= 32:\n",
    "        c.append(humans[i].name+'-'+str(humans[i].age))\n",
    "print(c)"
   ]
  },
  {
   "cell_type": "code",
   "execution_count": 35,
   "metadata": {},
   "outputs": [
    {
     "data": {
      "text/plain": [
       "['Abi-29', 'Batista-32', 'Dolphine-30', 'David-31']"
      ]
     },
     "execution_count": 35,
     "metadata": {},
     "output_type": "execute_result"
    }
   ],
   "source": [
    "a = [humans[i].name+'-'+str(humans[i].age) for i in range(len(humans)) if humans[i].age >= 27 and humans[i].age <= 32]\n",
    "a"
   ]
  },
  {
   "cell_type": "code",
   "execution_count": 48,
   "metadata": {},
   "outputs": [
    {
     "name": "stdout",
     "output_type": "stream",
     "text": [
      "[5.39, 5.66, 6.08, 5.48, 5.1, 4.24, 6.48, 3.46, 6.4, 5.57]\n"
     ]
    }
   ],
   "source": [
    "c = []\n",
    "for i in range(len(humans)):\n",
    "    c.append(round(humans[i].age**(1/2),2))\n",
    "print(c)"
   ]
  },
  {
   "cell_type": "code",
   "execution_count": 53,
   "metadata": {},
   "outputs": [
    {
     "ename": "TypeError",
     "evalue": "print_method() takes 0 positional arguments but 1 was given",
     "output_type": "error",
     "traceback": [
      "\u001b[0;31m---------------------------------------------------------------------------\u001b[0m",
      "\u001b[0;31mTypeError\u001b[0m                                 Traceback (most recent call last)",
      "Cell \u001b[0;32mIn[53], line 31\u001b[0m\n\u001b[1;32m     28\u001b[0m             \u001b[39mself\u001b[39m\u001b[39m.\u001b[39mcla \u001b[39m=\u001b[39m i\n\u001b[1;32m     29\u001b[0m             \u001b[39mprint\u001b[39m(\u001b[39mself\u001b[39m\u001b[39m.\u001b[39mcla\u001b[39m.\u001b[39mdrive())\n\u001b[0;32m---> 31\u001b[0m print_method(vehicles)\n",
      "\u001b[0;31mTypeError\u001b[0m: print_method() takes 0 positional arguments but 1 was given"
     ]
    }
   ],
   "source": [
    "class GroundVehicle:\n",
    "    def __init__(self, num_wheels=4):\n",
    "        self.num_wheels = num_wheels\n",
    "    \n",
    "    def drive(self):\n",
    "        return 'vroong'\n",
    "\n",
    "class Motorcycle(GroundVehicle):\n",
    "    def __init__(self, num_wheels=2):\n",
    "        super().__init__(num_wheels)\n",
    "\n",
    "    def drive(self):\n",
    "        return 'Bang'\n",
    "    \n",
    "vehicles = [\n",
    "    GroundVehicle(),\n",
    "    GroundVehicle(),\n",
    "    Motorcycle(),\n",
    "    GroundVehicle(),\n",
    "    Motorcycle(),\n",
    "]\n",
    "\n",
    "# 조건3-1 : 위에서 선언된 클래스에 대해 각각 'drive() 메소드'의 호출결과를 출력하세요.\n",
    "def print_method():\n",
    "    #####소스코드작성#####\n",
    "    def __init__(self,list):\n",
    "        for i in list:\n",
    "            self.cla = i\n",
    "            print(self.cla.drive())\n",
    "\n",
    "print_method(vehicles)"
   ]
  },
  {
   "cell_type": "code",
   "execution_count": 56,
   "metadata": {},
   "outputs": [
    {
     "data": {
      "text/plain": [
       "'vroong'"
      ]
     },
     "execution_count": 56,
     "metadata": {},
     "output_type": "execute_result"
    }
   ],
   "source": [
    "vehicles[1].drive()"
   ]
  },
  {
   "cell_type": "code",
   "execution_count": 62,
   "metadata": {},
   "outputs": [
    {
     "name": "stdout",
     "output_type": "stream",
     "text": [
      "vroong\n",
      "vroong\n",
      "Bang\n",
      "vroong\n",
      "Bang\n"
     ]
    }
   ],
   "source": [
    "def print_method():\n",
    "    #####소스코드작성#####\n",
    "    for i in range(len(vehicles)):\n",
    "        print(vehicles[i].drive())\n",
    "\n",
    "print_method()"
   ]
  },
  {
   "cell_type": "code",
   "execution_count": 117,
   "metadata": {},
   "outputs": [
    {
     "name": "stdout",
     "output_type": "stream",
     "text": [
      "[-34, -47, 43, 97, 39, 7, -41, 98, 31, -70]\n",
      "[1, 0, 0, 2, 1, 0, 0, 0, 0, 2, 0] 6 4 6\n"
     ]
    }
   ],
   "source": [
    "import random\n",
    "ls = [random.randint(-100,100) for i in range(10)]\n",
    "print(ls)\n",
    "\n",
    "rs = [0 for i in range(11)]\n",
    "mius = 0\n",
    "pus = 0\n",
    "for i in range(len(ls)):\n",
    "    if ls[i] < 0:\n",
    "        mius += 1\n",
    "        pass\n",
    "    else:\n",
    "        x = ls[i]//10\n",
    "        rs[x] += 1\n",
    "        pus += 1\n",
    "print(rs, sum(rs), mius, pus)"
   ]
  },
  {
   "cell_type": "code",
   "execution_count": 124,
   "metadata": {},
   "outputs": [],
   "source": [
    "def part5(score_list):\n",
    "    person = [0 for i in range(11)]\n",
    "    for i in range(len(score_list)):\n",
    "        if score_list[i] < 0:\n",
    "            pass\n",
    "        else:\n",
    "            x = score_list[i]//10\n",
    "            person[x] += 1       \n",
    "    ######## 소스코드 작성 ########\n",
    "    for i in range(len(person)):\n",
    "        print(f\"{i*10} 점대 - : {person[i]} 명\")"
   ]
  },
  {
   "cell_type": "code",
   "execution_count": 125,
   "metadata": {},
   "outputs": [
    {
     "name": "stdout",
     "output_type": "stream",
     "text": [
      "0 점대 - : 1 명\n",
      "10 점대 - : 0 명\n",
      "20 점대 - : 0 명\n",
      "30 점대 - : 2 명\n",
      "40 점대 - : 1 명\n",
      "50 점대 - : 0 명\n",
      "60 점대 - : 0 명\n",
      "70 점대 - : 0 명\n",
      "80 점대 - : 0 명\n",
      "90 점대 - : 2 명\n",
      "100 점대 - : 0 명\n"
     ]
    }
   ],
   "source": [
    "part5(ls)"
   ]
  }
 ],
 "metadata": {
  "kernelspec": {
   "display_name": "model5",
   "language": "python",
   "name": "python3"
  },
  "language_info": {
   "codemirror_mode": {
    "name": "ipython",
    "version": 3
   },
   "file_extension": ".py",
   "mimetype": "text/x-python",
   "name": "python",
   "nbconvert_exporter": "python",
   "pygments_lexer": "ipython3",
   "version": "3.8.16"
  },
  "orig_nbformat": 4
 },
 "nbformat": 4,
 "nbformat_minor": 2
}
