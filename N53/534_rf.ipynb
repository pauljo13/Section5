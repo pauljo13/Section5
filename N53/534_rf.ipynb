{
  "cells": [
    {
      "cell_type": "markdown",
      "metadata": {
        "id": "GQwXswmo1mUk"
      },
      "source": [
        "### DP"
      ]
    },
    {
      "cell_type": "markdown",
      "metadata": {
        "id": "YEJkiWZ51jjX"
      },
      "source": [
        "동적 계획법(Dynamic Programming)은 복잡한 문제를 해결하기 위해 사용되는 알고리즘 디자인 기법입니다.\n",
        "\n",
        "동적 계획법은 하위 문제(subproblem)의 최적해를 계산하고, 그 결과를 이용하여 큰 문제의 최적해를 구하는 방식으로 작동합니다.\n",
        "\n",
        "이를 통해 중복되는 하위 문제들을 효율적으로 해결하고, 전체 문제의 답을 구할 수 있습니다.\n",
        "\n"
      ]
    },
    {
      "cell_type": "markdown",
      "metadata": {
        "id": "Bu14yz8k1l82"
      },
      "source": [
        "동적 계획법은 다음과 같은 상황에서 유용하게 사용될 수 있습니다:\n",
        "\n",
        "중복되는 하위 문제: 문제를 작은 하위 문제로 분할했을 때, 동일한 하위 문제들이 반복적으로 해결되는 경우 동적 계획법을 적용할 수 있습니다.\n",
        "\n",
        "최적 부분 구조: 큰 문제의 최적해가 작은 문제의 최적해들로부터 구성될 수 있는 경우 동적 계획법을 사용할 수 있습니다.\n",
        "\n",
        "동적 계획법은 일반적으로 다음과 같은 단계를 따릅니다:\n",
        "\n",
        "문제를 작은 하위 문제들로 분할합니다.\n",
        "\n",
        "하위 문제의 최적해를 계산하기 위해 재귀적인 방식이나 반복적인 방식을 사용합니다.\n",
        "\n",
        "작은 하위 문제들의 최적해를 이용하여 큰 문제의 최적해를 구합니다.\n",
        "\n",
        "파이썬으로 동적 계획법을 구현하는 방법을 살펴보겠습니다.\n",
        "\n",
        "\n"
      ]
    },
    {
      "cell_type": "code",
      "execution_count": 1,
      "metadata": {
        "colab": {
          "base_uri": "https://localhost:8080/"
        },
        "id": "Z-lxk3o51oki",
        "outputId": "417f9e13-7f8a-4d9f-ff73-6e73f60e3565"
      },
      "outputs": [
        {
          "name": "stdout",
          "output_type": "stream",
          "text": [
            "피보나치 수열의 10 번째 수: 55\n"
          ]
        }
      ],
      "source": [
        "# 동적 계획법을 사용한 피보나치 수열 계산\n",
        "\n",
        "def fibonacci(n):\n",
        "    # n번째 피보나치 수를 저장하기 위한 배열\n",
        "    fib = [0] * (n+1)\n",
        "\n",
        "    # 초기값 설정\n",
        "    fib[0] = 0\n",
        "    fib[1] = 1\n",
        "\n",
        "    # 작은 하위 문제들의 최적해를 이용하여 큰 문제의 최적해를 구함\n",
        "    for i in range(2, n+1):\n",
        "        fib[i] = fib[i-1] + fib[i-2]\n",
        "\n",
        "    return fib[n]\n",
        "\n",
        "# 예시 실행\n",
        "n = 10\n",
        "result = fibonacci(n)\n",
        "print(\"피보나치 수열의\", n, \"번째 수:\", result)\n"
      ]
    },
    {
      "cell_type": "markdown",
      "metadata": {
        "id": "5KCd3XBw1pxh"
      },
      "source": [
        "위의 예시에서는 fib 배열을 사용하여 하위 문제의 최적해를 저장합니다.\n",
        "\n",
        "반복문을 통해 작은 문제들의 최적해를 계산하고, 이를 이용하여 큰 문제의 최적해를 구합니다.\n",
        "\n",
        "이러한 방식으로 동적 계획법을 활용하여 피보나치 수열의 n번째 수를 효율적으로 계산할 수 있습니다.\n",
        "\n",
        "\n",
        "\n",
        "\n"
      ]
    },
    {
      "cell_type": "markdown",
      "metadata": {
        "id": "fESUCeiO2duR"
      },
      "source": [
        "### 알고리즘 개념을 숲을 보는 시점으로 생각하기.\n"
      ]
    },
    {
      "cell_type": "markdown",
      "metadata": {
        "id": "B90g-ksD2gYw"
      },
      "source": [
        "알고리즘 개념을 숲을 보는 시점으로 생각하는 것은 문제 해결 과정을 전체적인 큰 그림으로 이해하는 것을 의미합니다.\n",
        "\n",
        "숲을 보는 시점에서는 알고리즘의 목적과 작동 방식, 그리고 문제 해결에 필요한 전체적인 단계를 이해할 수 있습니다.\n",
        "\n",
        "일반적으로 알고리즘은 작은 단계들의 연속이며, 각 단계는 입력을 처리하여 출력을 생성하는 과정을 나타냅니다.\n",
        "\n",
        "숲을 보는 시점에서는 다음과 같은 관점을 갖을 수 있습니다:\n",
        "\n",
        "1. 목적: 알고리즘은 특정한 문제를 해결하기 위해 설계됩니다.\n",
        "\n",
        "  숲을 보는 시점에서는 알고리즘의 목적이 무엇인지 이해할 수 있습니다.\n",
        "\n",
        "  이를 통해 문제 해결에 필요한 전반적인 방향성을 파악할 수 있습니다.\n",
        "\n",
        "2. 구성 요소: 알고리즘은 작은 구성 요소들의 집합으로 이루어집니다.\n",
        "\n",
        "  이러한 구성 요소들은 문제를 해결하기 위해 필요한 단계들을 나타내며, 서로 상호작용하면서 전체적인 문제 해결 과정을 형성합니다.\n",
        "\n",
        "  숲을 보는 시점에서는 알고리즘의 구성 요소들을 파악하여 전체적인 흐름을 이해할 수 있습니다.\n",
        "\n",
        "3. 작동 방식: 알고리즘은 입력을 받아 처리하고, 특정한 규칙이나 절차에 따라 연산을 수행하여 원하는 결과를 도출합니다.\n",
        "\n",
        "  숲을 보는 시점에서는 알고리즘의 작동 방식이 어떤지 이해할 수 있으며, 이를 통해 문제를 해결하는 과정을 이해할 수 있습니다.\n",
        "\n",
        "4. 복잡도: 알고리즘의 복잡도는 알고리즘의 효율성과 관련이 있습니다.\n",
        "\n",
        "  숲을 보는 시점에서는 알고리즘의 복잡도를 고려하여 어떤 입력에 대해서도 효율적으로 동작할 수 있는지 판단할 수 있습니다.\n",
        "\n",
        "알고리즘 개념을 숲을 보는 시점으로 바라보는 것은 문제 해결에 필요한 전체적인 그림을 이해하는 데 도움이 됩니다.\n",
        "\n",
        "이를 통해 알고리즘의 목적과 작동 방식을 파악하고, 문제를 해결하기 위한 전체적인 단계를 이해할 수 있습니다."
      ]
    },
    {
      "cell_type": "markdown",
      "metadata": {
        "id": "C52i_So-5Wf2"
      },
      "source": [
        "### DP와 Greedy 사례"
      ]
    },
    {
      "cell_type": "markdown",
      "metadata": {
        "id": "oFnNILCd5YxZ"
      },
      "source": [
        "동적 계획법 사례: 시계열 데이터 예측 (ARIMA 모델)\n",
        "\n",
        "ARIMA(AutoRegressive Integrated Moving Average) 모델은 동적 계획법을 활용하여 시계열 데이터 예측에 사용되는 일반적인 모델입니다.\n",
        "\n",
        "ARIMA 모델은 자기회귀(AR, Autoregressive)와 이동평균(MA, Moving Average)의 조합으로 구성됩니다.\n",
        "\n",
        "아래는 ARIMA 모델을 사용하여 시계열 데이터를 예측하는 예시 코드입니다.\n",
        "\n"
      ]
    },
    {
      "cell_type": "code",
      "execution_count": 2,
      "metadata": {
        "colab": {
          "base_uri": "https://localhost:8080/"
        },
        "id": "bmsg390x5bdf",
        "outputId": "a735d41a-2fb6-44ef-c5aa-f9b2884f2dd2"
      },
      "outputs": [
        {
          "name": "stdout",
          "output_type": "stream",
          "text": [
            "다음 값 예측: 98.70025578567268\n"
          ]
        }
      ],
      "source": [
        "import pandas as pd\n",
        "from statsmodels.tsa.arima.model import ARIMA\n",
        "\n",
        "# 예시 데이터 생성\n",
        "data = [10, 20, 30, 40, 50, 60, 70, 80, 90, 100]\n",
        "\n",
        "# ARIMA 모델 훈련\n",
        "model = ARIMA(data, order=(1, 0, 0))  # (AR, 차분, MA) 순서\n",
        "model_fit = model.fit()\n",
        "\n",
        "# 다음 값 예측\n",
        "prediction = model_fit.predict(len(data), len(data))\n",
        "print(\"다음 값 예측:\", prediction[0])\n"
      ]
    },
    {
      "cell_type": "markdown",
      "metadata": {
        "id": "4rN4bb1S5c-i"
      },
      "source": [
        "위의 예시 코드는 statsmodels 패키지의 ARIMA 모델을 사용하여 시계열 데이터의 다음 값을 예측하는 방법을 보여줍니다.\n",
        "\n"
      ]
    },
    {
      "cell_type": "markdown",
      "metadata": {
        "id": "KIgZ0NdL5eLZ"
      },
      "source": [
        "그리디 알고리즘 사례: 특징 선택 (Forward Selection)\n",
        "\n",
        "특징 선택은 데이터 분석에서 중요한 변수를 선택하고 불필요한 변수를 제거하여 모델의 복잡성을 줄이는 방법입니다.\n",
        "\n",
        "그리디 알고리즘 중 Forward Selection 방법은 변수를 한 번에 하나씩 추가하여 최적의 특징 집합을 찾아갑니다.\n",
        "\n",
        "아래는 Forward Selection을 사용하여 특징 선택을 수행하는 예시 코드입니다.\n",
        "\n"
      ]
    },
    {
      "cell_type": "code",
      "execution_count": 3,
      "metadata": {
        "colab": {
          "base_uri": "https://localhost:8080/"
        },
        "id": "mAuTFrGM5hMZ",
        "outputId": "bc32e869-3b3c-4a01-abad-7b5528aa5ffd"
      },
      "outputs": [
        {
          "name": "stdout",
          "output_type": "stream",
          "text": [
            "선택된 특징 인덱스: [3, 2, 1, 0]\n"
          ]
        },
        {
          "name": "stderr",
          "output_type": "stream",
          "text": [
            "/usr/local/lib/python3.10/dist-packages/sklearn/linear_model/_logistic.py:458: ConvergenceWarning: lbfgs failed to converge (status=1):\n",
            "STOP: TOTAL NO. of ITERATIONS REACHED LIMIT.\n",
            "\n",
            "Increase the number of iterations (max_iter) or scale the data as shown in:\n",
            "    https://scikit-learn.org/stable/modules/preprocessing.html\n",
            "Please also refer to the documentation for alternative solver options:\n",
            "    https://scikit-learn.org/stable/modules/linear_model.html#logistic-regression\n",
            "  n_iter_i = _check_optimize_result(\n"
          ]
        }
      ],
      "source": [
        "import numpy as np\n",
        "from sklearn.datasets import load_iris\n",
        "from sklearn.linear_model import LogisticRegression\n",
        "\n",
        "# 예시 데이터 로드\n",
        "iris = load_iris()\n",
        "X = iris.data\n",
        "y = iris.target\n",
        "\n",
        "# Forward Selection 알고리즘\n",
        "selected_features = []\n",
        "num_features = X.shape[1]\n",
        "\n",
        "for _ in range(num_features):\n",
        "    best_accuracy = 0\n",
        "    best_feature = None\n",
        "\n",
        "    for feature in range(num_features):\n",
        "        if feature not in selected_features:\n",
        "            features = selected_features + [feature]\n",
        "            X_selected = X[:, features]\n",
        "            model = LogisticRegression()\n",
        "            model.fit(X_selected, y)\n",
        "            accuracy = model.score(X_selected, y)\n",
        "\n",
        "            if accuracy > best_accuracy:\n",
        "                best_accuracy = accuracy\n",
        "                best_feature = feature\n",
        "\n",
        "    selected_features.append(best_feature)\n",
        "\n",
        "print(\"선택된 특징 인덱스:\", selected_features)\n"
      ]
    },
    {
      "cell_type": "markdown",
      "metadata": {
        "id": "uMBjZqqB5joz"
      },
      "source": [
        "위의 예시 코드는 붓꽃(iris) 데이터셋에서 Forward Selection을 사용하여 특징 선택을 수행하는 방법을 보여줍니다.\n",
        "\n",
        "Logistic Regression을 사용하여 각 특징을 추가하여 최적의 특징 집합을 선택합니다.\n",
        "\n",
        "위의 코드는 동적 계획법과 그리디 알고리즘이 데이터 분석에서 활용되는 사례와 간단한 파이썬 코드 예시를 제시하였습니다.\n",
        "\n",
        "다양한 데이터 분석 문제에 적용할 수 있는 다양한 알고리즘과 기법들이 있으며, 문제의 특성에 따라 적합한 알고리즘을 선택하여 사용할 수 있습니다.\n",
        "\n",
        "\n",
        "\n",
        "\n"
      ]
    },
    {
      "cell_type": "markdown",
      "metadata": {
        "id": "cybZdHSG582d"
      },
      "source": [
        "동적 계획법 사례: 최장 증가 부분 수열 (Longest Increasing Subsequence)\n",
        "\n",
        "최장 증가 부분 수열(LIS)은 동적 계획법을 활용하여 구할 수 있는 대표적인 문제입니다.\n",
        "\n",
        "LIS는 주어진 수열에서 증가하는 순서로 구성된 가장 긴 부분 수열을 찾는 문제입니다.\n",
        "\n",
        "아래는 동적 계획법을 사용하여 최장 증가 부분 수열을 구하는 예시 코드입니다.\n",
        "\n"
      ]
    },
    {
      "cell_type": "code",
      "execution_count": 4,
      "metadata": {
        "colab": {
          "base_uri": "https://localhost:8080/"
        },
        "id": "FZfPiOhz6ABs",
        "outputId": "9b9917fb-9b00-4a1c-dcfd-e6f16fcb7aa6"
      },
      "outputs": [
        {
          "name": "stdout",
          "output_type": "stream",
          "text": [
            "최장 증가 부분 수열의 길이: 4\n"
          ]
        }
      ],
      "source": [
        "def longest_increasing_subsequence(nums):\n",
        "    n = len(nums)\n",
        "    dp = [1] * n  # 각 인덱스에서 끝나는 LIS의 길이를 저장하는 배열\n",
        "\n",
        "    for i in range(1, n):\n",
        "        for j in range(i):\n",
        "            if nums[i] > nums[j]:\n",
        "                dp[i] = max(dp[i], dp[j] + 1)\n",
        "\n",
        "    return max(dp)\n",
        "\n",
        "# 예시 실행\n",
        "sequence = [3, 1, 4, 1, 5, 9, 2, 6, 5]\n",
        "result = longest_increasing_subsequence(sequence)\n",
        "print(\"최장 증가 부분 수열의 길이:\", result)\n"
      ]
    },
    {
      "cell_type": "markdown",
      "metadata": {
        "id": "oOvBtAAS6BNd"
      },
      "source": [
        "위의 코드는 주어진 수열에서 최장 증가 부분 수열의 길이를 구하는 동적 계획법 기반의 알고리즘입니다.\n",
        "\n",
        "주어진 수열을 순회하면서 각 숫자에 대해 이전 숫자들과 비교하여 LIS의 길이를 갱신합니다.\n",
        "\n"
      ]
    },
    {
      "cell_type": "markdown",
      "metadata": {
        "id": "GYLc0A3P6C0p"
      },
      "source": [
        "그리디 알고리즘 사례: 배낭 문제 (Knapsack Problem)\n",
        "\n",
        "배낭 문제는 그리디 알고리즘을 활용하여 해결할 수 있는 대표적인 문제입니다.\n",
        "\n",
        "배낭 문제는 주어진 가치와 무게를 갖는 물건들을 배낭에 넣을 때, 가치의 합이 최대가 되도록 물건을 선택하는 문제입니다.\n",
        "\n",
        "아래는 그리디 알고리즘을 사용하여 배낭 문제를 해결하는 예시 코드입니다.\n",
        "\n"
      ]
    },
    {
      "cell_type": "code",
      "execution_count": 5,
      "metadata": {
        "colab": {
          "base_uri": "https://localhost:8080/"
        },
        "id": "3lTRIPR56FHx",
        "outputId": "d0026486-e58f-47ea-9ea5-b23d1f5d8a3c"
      },
      "outputs": [
        {
          "name": "stdout",
          "output_type": "stream",
          "text": [
            "최대 가치: 140\n",
            "선택된 물건: [(40, 2), (100, 5)]\n"
          ]
        }
      ],
      "source": [
        "def knapsack(capacity, values, weights):\n",
        "    n = len(values)\n",
        "    items = list(zip(values, weights))\n",
        "    items.sort(key=lambda x: x[0] / x[1], reverse=True)  # 가치 단위 무게 비율을 기준으로 정렬\n",
        "\n",
        "    max_value = 0\n",
        "    selected_items = []\n",
        "\n",
        "    for value, weight in items:\n",
        "        if capacity >= weight:\n",
        "            max_value += value\n",
        "            capacity -= weight\n",
        "            selected_items.append((value, weight))\n",
        "\n",
        "    return max_value, selected_items\n",
        "\n",
        "# 예시 실행\n",
        "capacity = 10\n",
        "values = [40, 100, 50, 60]\n",
        "weights = [2, 5, 10, 6]\n",
        "result_value, result_items = knapsack(capacity, values, weights)\n",
        "print(\"최대 가치:\", result_value)\n",
        "print(\"선택된 물건:\", result_items)\n"
      ]
    },
    {
      "cell_type": "markdown",
      "metadata": {
        "id": "ditvH5tM6GqO"
      },
      "source": [
        "위의 코드는 주어진 배낭 용량과 물건들의 가치 및 무게를 기반으로 그리디 알고리즘을 사용하여 배낭 문제를 해결합니다.\n",
        "\n",
        "가치 단위 무게 비율을 기준으로 물건들을 정렬하고, 순서대로 배낭에 넣을 수 있는지 확인하면서 최대 가치를 구합니다.\n",
        "\n"
      ]
    },
    {
      "cell_type": "markdown",
      "metadata": {
        "id": "Xvqu2vg0p6ZR"
      },
      "source": [
        "### 핸즈온"
      ]
    },
    {
      "cell_type": "code",
      "execution_count": 16,
      "metadata": {
        "id": "pGVz1C10p7M9"
      },
      "outputs": [],
      "source": [
        "# 메모이제이션 코드\n",
        "def memo_fib(input_value, save_memo):\n",
        "\n",
        "    if input_value in save_memo:\n",
        "        return save_memo[input_value]\n",
        "    if input_value == 1 or input_value == 2:\n",
        "        value = 1\n",
        "    elif input_value > 2:\n",
        "        value = memo_fib(input_value - 1, save_memo) + memo_fib(input_value - 2, save_memo)\n",
        "    save_memo[input_value] = value\n",
        "    return value\n",
        "\n",
        "# 태뷸레이션 코드\n",
        "def tabul_fib(input_value):\n",
        "    f = [0, 1]\n",
        "    for i in range(2, input_value + 1):\n",
        "        f.append(f[i - 1] + f[i - 2])\n",
        "    return f[input_value]\n"
      ]
    },
    {
      "cell_type": "code",
      "execution_count": 17,
      "metadata": {
        "colab": {
          "base_uri": "https://localhost:8080/"
        },
        "id": "WagMCytnsJ02",
        "outputId": "05c81965-47bc-4e31-a212-a65047d913d7"
      },
      "outputs": [
        {
          "name": "stdout",
          "output_type": "stream",
          "text": [
            "메모이제이션 결과: 3524578\n",
            "태뷸레이션 결과: 3524578\n"
          ]
        }
      ],
      "source": [
        "save_memo = {}  # 메모이제이션을 위한 빈 딕셔너리 생성\n",
        "\n",
        "result_memo = memo_fib(33, save_memo)\n",
        "print(\"메모이제이션 결과:\", result_memo)\n",
        "\n",
        "result_tabul = tabul_fib(33)\n",
        "print(\"태뷸레이션 결과:\", result_tabul)\n"
      ]
    },
    {
      "cell_type": "markdown",
      "metadata": {
        "id": "EjQkQmE9sTzp"
      },
      "source": [
        "memo_fib 함수는 재귀적인 방식으로 계산하면서 중복 계산을 피하고, tabul_fib 함수는 반복문을 통해 이전 값들을 참조하여 계산합니다.\n",
        "\n",
        "\n",
        "\n",
        "\n"
      ]
    },
    {
      "cell_type": "markdown",
      "metadata": {
        "id": "nrLce5zRsqiR"
      },
      "source": [
        "### 예시"
      ]
    },
    {
      "cell_type": "markdown",
      "metadata": {
        "id": "W6YufOHxtu3W"
      },
      "source": [
        "예를 들어, 계단을 오를 때 한 번에 한 계단 또는 두 계단씩 오를 수 있다고 가정해봅시다.\n",
        "\n",
        "계단의 개수가 주어졌을 때, 최소한의 계단 오르기 횟수로 꼭대기까지 도달하는 방법을 찾는 문제를 DP로 해결할 수 있습니다.\n",
        "\n"
      ]
    },
    {
      "cell_type": "code",
      "execution_count": 1,
      "metadata": {
        "colab": {
          "base_uri": "https://localhost:8080/"
        },
        "id": "Y8yEpudstw3C",
        "outputId": "516022a7-e0c8-4e84-fefc-589023af9d8a"
      },
      "outputs": [
        {
          "name": "stdout",
          "output_type": "stream",
          "text": [
            "계단 오르는 경우의 수: 8\n"
          ]
        }
      ],
      "source": [
        "def min_stair_steps(n):\n",
        "    if n == 1:  # 계단이 한 개인 경우\n",
        "        return 1\n",
        "    if n == 2:  # 계단이 두 개인 경우\n",
        "        return 2\n",
        "\n",
        "    # DP 테이블 초기화\n",
        "    dp = [0] * (n + 1)\n",
        "    dp[1] = 1\n",
        "    dp[2] = 2\n",
        "\n",
        "    # DP 테이블 채우기\n",
        "    for i in range(3, n + 1):\n",
        "        dp[i] = dp[i - 1] + dp[i - 2]\n",
        "\n",
        "    return dp[n]\n",
        "\n",
        "n = 5\n",
        "result = min_stair_steps(n)\n",
        "print(f\"계단 오르는 경우의 수: {result}\")\n"
      ]
    },
    {
      "cell_type": "markdown",
      "metadata": {
        "id": "sIwADLnPt6Mw"
      },
      "source": [
        "위 코드에서 min_stair_steps 함수는 DP를 사용하여 계단 오르기 횟수를 구하는 함수입니다.\n",
        "\n",
        "DP 테이블을 활용하여 작은 계단부터 큰 계단까지 순차적으로 계산합니다.\n",
        "\n"
      ]
    },
    {
      "cell_type": "markdown",
      "metadata": {
        "id": "KwqBGNubu93y"
      },
      "source": [
        "    1 -> 2 -> 3 -> 4 -> 5 : 1계단씩오르기\n",
        "\n",
        "    1 -> 2 -> 3 -> 5 : 1계단씩오르다가 마지막에 2계단\n",
        "\n",
        "    1 -> 2 -> 4 -> 5 : 1계단씩오르다가 2계단 1계단\n",
        "\n",
        "    1 -> 3 -> 4 -> 5\n",
        "\n",
        "    1 -> 3 -> 5 : 2계단 2계단\n",
        "\n",
        "    2 -> 3 -> 4 -> 5\n",
        "\n",
        "    2 -> 3 -> 5\n",
        "\n",
        "    2 -> 4 -> 5"
      ]
    },
    {
      "cell_type": "markdown",
      "metadata": {
        "id": "s0i-nQyKt-fx"
      },
      "source": [
        "그리디 알고리즘은 각 단계에서 가장 좋은 선택을 하는 방식으로 문제를 해결합니다.\n",
        "\n",
        "각 선택이 지역적으로는 최적이지만 전역적으로는 최적해를 보장하지 않을 수 있습니다.\n",
        "\n",
        "\n",
        "예를 들어, 동전을 사용하여 특정 금액을 만드는 문제를 그리디로 해결해봅시다.\n",
        "\n",
        "이때, 동전은 500원, 100원, 50원, 10원으로 가정합니다.\n",
        "\n"
      ]
    },
    {
      "cell_type": "code",
      "execution_count": 20,
      "metadata": {
        "colab": {
          "base_uri": "https://localhost:8080/"
        },
        "id": "jPOD3ELJuBmQ",
        "outputId": "8894abc9-0a37-486c-952d-f0efe04c74bc"
      },
      "outputs": [
        {
          "name": "stdout",
          "output_type": "stream",
          "text": [
            "동전의 최소 개수: 6\n"
          ]
        }
      ],
      "source": [
        "def min_coin_count(target):\n",
        "    coin_types = [500, 100, 50, 10]  # 동전의 종류\n",
        "\n",
        "    total_count = 0\n",
        "    for coin in coin_types:\n",
        "        count = target // coin  # 해당 동전으로 거슬러 줄 수 있는 개수\n",
        "        total_count += count\n",
        "        target %= coin  # 남은 금액\n",
        "\n",
        "    return total_count\n",
        "\n",
        "target = 1260\n",
        "result = min_coin_count(target)\n",
        "print(f\"동전의 최소 개수: {result}\")\n"
      ]
    },
    {
      "cell_type": "markdown",
      "metadata": {
        "id": "WjzZ-tCOuDQm"
      },
      "source": [
        "위 코드에서 min_coin_count 함수는 그리디 알고리즘을 사용하여 동전의 최소 개수를 구하는 함수입니다.\n",
        "\n",
        "가장 큰 동전부터 사용하여 거슬러 줄 수 있는 개수를 계산하고, 남은 금액으로 반복하여 최소 개수를 구합니다.\n",
        "\n"
      ]
    },
    {
      "cell_type": "markdown",
      "metadata": {
        "id": "X-wm-jvQx_m0"
      },
      "source": [
        "그리디 알고리즘을 사용한 또 다른 예시로 \"최대 수입 스케줄링 문제 (Maximum Revenue Scheduling Problem)\"를 살펴보겠습니다.\n",
        "\n",
        "주어진 일정과 해당 일정에서 얻을 수 있는 수입을 고려하여 최대한 많은 수입을 얻는 문제입니다.\n",
        "\n"
      ]
    },
    {
      "cell_type": "code",
      "execution_count": 30,
      "metadata": {
        "colab": {
          "base_uri": "https://localhost:8080/"
        },
        "id": "UpO-iMEmyBNy",
        "outputId": "fa5b8aad-6223-4e57-daa3-c81334e49aa0"
      },
      "outputs": [
        {
          "name": "stdout",
          "output_type": "stream",
          "text": [
            "최대 수입: 370\n"
          ]
        }
      ],
      "source": [
        "def max_revenue_schedule(jobs):\n",
        "    jobs.sort(key=lambda x: x[1], reverse=True)  # 수입을 기준으로 내림차순 정렬\n",
        "\n",
        "    max_revenue = 0\n",
        "    selected_jobs = []\n",
        "\n",
        "    for job in jobs:\n",
        "        if job[0] >= len(selected_jobs):  # 현재 일정이 선택된 일정과 겹치지 않는 경우\n",
        "            max_revenue += job[1]\n",
        "            selected_jobs.append(job)\n",
        "\n",
        "    return max_revenue\n",
        "\n",
        "jobs = [(3, 100), (1, 50), (2, 120), (4, 70), (2, 80)]\n",
        "\n",
        "result = max_revenue_schedule(jobs)\n",
        "print(f\"최대 수입: {result}\")\n",
        "\n"
      ]
    },
    {
      "cell_type": "markdown",
      "metadata": {
        "id": "2C7vfeW6yE0C"
      },
      "source": [
        "위 코드에서 max_revenue_schedule 함수는 그리디 알고리즘을 사용하여 최대 수입을 얻는 함수입니다.\n",
        "\n",
        "일정을 수입을 기준으로 내림차순으로 정렬한 후, 선택된 일정과 겹치지 않는 일정을 선택하며 최대 수입을 누적합니다.\n",
        "\n"
      ]
    },
    {
      "cell_type": "markdown",
      "metadata": {
        "id": "VEeUyNKlyNwO"
      },
      "source": [
        "주어진 일정과 수입 리스트: [(3, 100), (1, 50), (2, 120), (4, 70), (2, 80)]\n",
        "최대 수입: 0\n",
        "선택된 일정: []\n",
        "\n",
        "수입을 기준으로 내림차순으로 정렬합니다.\n",
        "\n",
        "(2, 120)을 선택:\n",
        "- 현재 선택한 일정: [(2, 120)]\n",
        "- 선택된 일정의 길이(1) >= 현재 일정의 시작일(2)인 경우 선택 가능\n",
        "  - 최대 수입: 0 + 120 = 120\n",
        "\n",
        "(3, 100)을 선택:\n",
        "- 현재 선택한 일정: [(2, 120), (3, 100)]\n",
        "- 선택된 일정의 길이(2) >= 현재 일정의 시작일(3)인 경우 선택 가능\n",
        "  - 최대 수입: 120 + 100 = 220\n",
        "\n",
        "(2, 80)을 선택:\n",
        "- 현재 선택한 일정: [(2, 120), (3, 100), (2, 80)]\n",
        "- 선택된 일정의 길이(3) >= 현재 일정의 시작일(2)인 경우 선택 가능\n",
        "  - 최대 수입: 220 + 80 = 300\n",
        "\n",
        "(4, 70)을 선택:\n",
        "- 현재 선택한 일정: [(2, 120), (3, 100), (2, 80), (4, 70)]\n",
        "- 선택된 일정의 길이(4) >= 현재 일정의 시작일(4)인 경우 선택 가능\n",
        "  - 최대 수입: 300 + 70 = 370\n",
        "\n",
        "최대 수입: 370\n",
        "\n"
      ]
    },
    {
      "cell_type": "code",
      "execution_count": null,
      "metadata": {
        "id": "33nB2SjryChQ"
      },
      "outputs": [],
      "source": []
    }
  ],
  "metadata": {
    "colab": {
      "provenance": [],
      "toc_visible": true
    },
    "kernelspec": {
      "display_name": "Python 3",
      "name": "python3"
    },
    "language_info": {
      "codemirror_mode": {
        "name": "ipython",
        "version": 3
      },
      "file_extension": ".py",
      "mimetype": "text/x-python",
      "name": "python",
      "nbconvert_exporter": "python",
      "pygments_lexer": "ipython3",
      "version": "3.8.16"
    }
  },
  "nbformat": 4,
  "nbformat_minor": 0
}
