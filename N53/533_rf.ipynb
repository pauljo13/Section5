{
  "cells": [
    {
      "cell_type": "markdown",
      "metadata": {
        "id": "NLi4jnjTuR9u"
      },
      "source": [
        "### 이론정리"
      ]
    },
    {
      "cell_type": "markdown",
      "metadata": {
        "id": "0YgO9o9nuWXL"
      },
      "source": [
        "BFS(너비 우선 탐색, Breadth-First Search)와 DFS(깊이 우선 탐색, Depth-First Search)는 그래프나 트리에서 사용되는 두 가지 다른 탐색 알고리즘입니다.\n",
        "이 두 알고리즘은 탐색 방식과 자료구조 사용에 차이가 있습니다.\n",
        "\n",
        "1. 탐색 방식:\n",
        "   - BFS: BFS는 너비(레벨)를 기준으로 탐색합니다.\n",
        "    - 시작 노드에서 인접한 노드를 모두 방문한 후, 그 다음 레벨의 인접 노드를 탐색합니다.\n",
        "    - 즉, 한 레벨을 완전히 탐색한 후에 다음 레벨로 이동합니다.\n",
        "   - DFS: DFS는 깊이를 기준으로 탐색합니다.\n",
        "    - 시작 노드에서 한 경로를 따라 최대한 깊이 들어간 후, 더 이상 갈 곳이 없으면 이전 단계로 돌아와서 다른 경로를 탐색합니다.\n",
        "    - 이 과정을 반복합니다.\n",
        "\n",
        "2. 자료구조 사용:\n",
        "   - BFS: BFS는 큐(Queue) 자료구조를 사용합니다.\n",
        "    - 시작 노드를 큐에 넣은 후, 인접한 노드를 큐에 차례로 넣습니다.\n",
        "    - 따라서, 먼저 들어온 노드부터 탐색되기 때문에 너비를 우선으로 탐색할 수 있습니다.\n",
        "   - DFS: DFS는 스택(Stack) 또는 재귀 호출을 통해 구현됩니다.\n",
        "    - 시작 노드를 스택에 넣거나 재귀 호출을 시작한 후, 인접한 노드 중 하나를 선택하여 깊이 들어갑니다.\n",
        "    - 따라서, 한 경로를 따라 최대한 깊이 들어가기 때문에 깊이를 우선으로 탐색할 수 있습니다.\n",
        "\n",
        "따라서, BFS는 너비를 우선으로 탐색하며 큐를 사용하고, DFS는 깊이를 우선으로 탐색하며 스택 또는 재귀 호출을 사용합니다.\n",
        "\n",
        "이러한 차이로 인해 BFS는 최단 경로를 찾는 데 유용하고, DFS는 싸이클을 탐지하거나 특정 경로를 찾는 데 유용한 경우가 많습니다.\n",
        "\n",
        "또한, BFS는 메모리를 많이 사용하는 경향이 있고, DFS는 재귀 호출 스택의 깊이에 따라 스택 오버플로우의 가능성이 있을 수 있습니다."
      ]
    },
    {
      "cell_type": "markdown",
      "metadata": {
        "id": "qI0Fvtm-Naxt"
      },
      "source": [
        "### 핸즈온"
      ]
    },
    {
      "cell_type": "code",
      "execution_count": 1,
      "metadata": {
        "colab": {
          "base_uri": "https://localhost:8080/"
        },
        "id": "BV0pUbYoNaYf",
        "outputId": "c19c318d-1d70-4d84-e9ab-b84030ba0c28"
      },
      "outputs": [
        {
          "data": {
            "text/plain": [
              "[0, 1, 2, 3, 4, 5, 6]"
            ]
          },
          "execution_count": 1,
          "metadata": {},
          "output_type": "execute_result"
        }
      ],
      "source": [
        "# BFS 인접 리스트\n",
        "bfs_graph = {\n",
        "0:[1, 2, 3],\n",
        "1:[4],\n",
        "2:[5],\n",
        "3:[],\n",
        "4:[6],\n",
        "5:[4],\n",
        "6:[5]\n",
        "}\n",
        "def bfs_queue(start_node):\n",
        "    bfs_list = []  # visited\n",
        "    queue = [start_node] # need_visit\n",
        "    while queue:\n",
        "        node = queue.pop(0)\n",
        "        if node not in bfs_list:\n",
        "            bfs_list.append(node)\n",
        "            queue.extend(bfs_graph[node])\n",
        "    return bfs_list\n",
        "bfs_queue(0)"
      ]
    },
    {
      "cell_type": "code",
      "execution_count": 11,
      "metadata": {
        "colab": {
          "base_uri": "https://localhost:8080/"
        },
        "id": "_GqWtTQiNe1o",
        "outputId": "12d397f1-8355-4736-e801-87276b4ee10e"
      },
      "outputs": [
        {
          "data": {
            "text/plain": [
              "[0, 1, 4, 6, 5, 2, 3]"
            ]
          },
          "execution_count": 11,
          "metadata": {},
          "output_type": "execute_result"
        }
      ],
      "source": [
        "# DFS 인접 리스트\n",
        "dfs_graph = {\n",
        "0:[1, 2, 3],\n",
        "1:[4],\n",
        "2:[5],\n",
        "3:[],\n",
        "4:[6],\n",
        "5:[4],\n",
        "6:[5]\n",
        "}\n",
        "\n",
        "def dfs_queue(start_node):\n",
        "    dfs_list = []  # visited\n",
        "    stack = [start_node] # need_visit\n",
        "    while stack:\n",
        "        node = stack.pop()\n",
        "        if node not in dfs_list:\n",
        "            dfs_list.append(node)\n",
        "            stack.extend(bfs_graph[node][::-1])\n",
        "    return dfs_list\n",
        "dfs_queue(0)"
      ]
    },
    {
      "cell_type": "markdown",
      "metadata": {
        "id": "4fT-exFEvK5V"
      },
      "source": [
        "### BFS와 DFS"
      ]
    },
    {
      "cell_type": "markdown",
      "metadata": {
        "id": "dG_wO62RvMbu"
      },
      "source": [
        "BFS와 DFS를 구현할 때 자료구조의 선택에 따라 동작 방식과 코드 구현이 달라집니다. 아래는 각각 BFS와 DFS를 구현하는 파이썬 코드 예시입니다.\n",
        "\n"
      ]
    },
    {
      "cell_type": "markdown",
      "metadata": {
        "id": "xFdqMw2ivOK9"
      },
      "source": [
        "BFS 구현 예시:\n",
        "\n",
        "BFS를 구현할 때 큐(Queue) 자료구조를 사용합니다. 파이썬에서는 collections 모듈의 deque를 사용하여 큐를 구현할 수 있습니다.\n",
        "\n"
      ]
    },
    {
      "cell_type": "code",
      "execution_count": 55,
      "metadata": {
        "colab": {
          "base_uri": "https://localhost:8080/"
        },
        "id": "TBSyNC3svPeK",
        "outputId": "54f500c4-4bf8-4606-dfb4-4f766c9c98cb"
      },
      "outputs": [
        {
          "name": "stdout",
          "output_type": "stream",
          "text": [
            "A\n",
            "B\n",
            "C\n",
            "D\n",
            "E\n",
            "F\n"
          ]
        }
      ],
      "source": [
        "from collections import deque\n",
        "\n",
        "def bfs(graph, start):\n",
        "    visited = set()  # 방문한 노드를 저장하기 위한 집합\n",
        "    queue = deque([start])  # 시작 노드를 큐에 추가\n",
        "    visited.add(start)  # 시작 노드를 방문 처리\n",
        "\n",
        "    while queue:\n",
        "        node = queue.popleft()  # 큐의 가장 앞에 있는 노드를 꺼냄\n",
        "        print(node)  # 현재 노드 방문 처리\n",
        "\n",
        "        for neighbor in graph[node]:  # 현재 노드와 연결된 인접 노드들에 대해\n",
        "            if neighbor not in visited:  # 아직 방문하지 않은 노드라면\n",
        "                queue.append(neighbor)  # 큐에 추가\n",
        "                visited.add(neighbor)  # 방문 처리\n",
        "\n",
        "# 방문한 노드를 저장하기 위한 집합\n",
        "visited = set()\n",
        "\n",
        "# 그래프 정보\n",
        "graph = {\n",
        "    'A': ['B', 'C'],\n",
        "    'B': ['A', 'D', 'E'],\n",
        "    'C': ['A', 'F'],\n",
        "    'D': ['B'],\n",
        "    'E': ['B', 'F'],\n",
        "    'F': ['C', 'E']\n",
        "}\n",
        "\n",
        "bfs(graph, 'A')"
      ]
    },
    {
      "cell_type": "markdown",
      "metadata": {
        "id": "NzKwRj3-vSjK"
      },
      "source": [
        "DFS 구현 예시:\n",
        "\n",
        "DFS를 구현할 때는 스택(Stack) 자료구조를 사용하거나 재귀 호출을 활용할 수 있습니다.\n",
        "\n",
        "스택을 사용한 DFS 구현 예시:\n"
      ]
    },
    {
      "cell_type": "code",
      "execution_count": 59,
      "metadata": {
        "colab": {
          "base_uri": "https://localhost:8080/"
        },
        "id": "1I7A9RK7vQF-",
        "outputId": "06143d24-6547-401c-e597-8a3bcd1fd3c4"
      },
      "outputs": [
        {
          "name": "stdout",
          "output_type": "stream",
          "text": [
            "A\n",
            "C\n",
            "F\n",
            "E\n",
            "B\n",
            "D\n"
          ]
        }
      ],
      "source": [
        "def dfs(graph, start):\n",
        "    visited = set()  # 방문한 노드를 저장하기 위한 집합\n",
        "    stack = [start]  # 시작 노드를 스택에 추가\n",
        "\n",
        "    while stack:\n",
        "        node = stack.pop()  # 스택의 가장 위에 있는 노드를 꺼냄\n",
        "\n",
        "        if node not in visited:\n",
        "            visited.add(node)  # 현재 노드 방문 처리\n",
        "            print(node)\n",
        "\n",
        "            for neighbor in graph[node]:  # 현재 노드와 연결된 인접 노드들에 대해\n",
        "                if neighbor not in visited:  # 아직 방문하지 않은 노드라면\n",
        "                    stack.append(neighbor)  # 스택에 추가\n",
        "\n",
        "# 방문한 노드를 저장하기 위한 집합\n",
        "visited = set()\n",
        "\n",
        "# 그래프 정보\n",
        "graph = {\n",
        "    'A': ['B', 'C'],\n",
        "    'B': ['A', 'D', 'E'],\n",
        "    'C': ['A', 'F'],\n",
        "    'D': ['B'],\n",
        "    'E': ['B', 'F'],\n",
        "    'F': ['C', 'E']\n",
        "}\n",
        "\n",
        "dfs(graph, 'A')"
      ]
    },
    {
      "cell_type": "markdown",
      "metadata": {
        "id": "dO5MOJVvvVCG"
      },
      "source": [
        "재귀 호출을 사용한 DFS 구현 예시:\n"
      ]
    },
    {
      "cell_type": "code",
      "execution_count": 3,
      "metadata": {
        "colab": {
          "base_uri": "https://localhost:8080/"
        },
        "id": "n_13jHySvUCZ",
        "outputId": "6bf741fe-2fad-48d7-dda3-cc630e296045"
      },
      "outputs": [
        {
          "name": "stdout",
          "output_type": "stream",
          "text": [
            "A\n",
            "B\n",
            "D\n",
            "E\n",
            "F\n",
            "C\n"
          ]
        }
      ],
      "source": [
        "def dfs(graph, node, visited):\n",
        "    visited.add(node)  # 현재 노드 방문 처리\n",
        "    print(node)\n",
        "\n",
        "    for neighbor in graph[node]:  # 현재 노드와 연결된 인접 노드들에 대해\n",
        "        if neighbor not in visited:  # 아직 방문하지 않은 노드라면\n",
        "            dfs(graph, neighbor, visited)  # 재귀 호출\n",
        "\n",
        "# 방문한 노드를 저장하기 위한 집합\n",
        "visited = set()\n",
        "\n",
        "# 그래프 정보\n",
        "graph = {\n",
        "    'A': ['B', 'C'],\n",
        "    'B': ['A', 'D', 'E'],\n",
        "    'C': ['A', 'F'],\n",
        "    'D': ['B'],\n",
        "    'E': ['B', 'F'],\n",
        "    'F': ['C', 'E']\n",
        "}\n",
        "\n",
        "dfs(graph, 'A', visited)\n"
      ]
    },
    {
      "cell_type": "markdown",
      "metadata": {
        "id": "yf-9KbwjG96K"
      },
      "source": [
        "### BFS 의사코드"
      ]
    },
    {
      "cell_type": "markdown",
      "metadata": {
        "id": "SFrQN08QHAEg"
      },
      "source": [
        "BFS(Breadth-First Search) 알고리즘은 그래프에서 너비 우선으로 탐색하는 알고리즘입니다.\n",
        "\n",
        "아래에 BFS의 의사코드를 작성해 드리겠습니다.\n",
        "\n"
      ]
    },
    {
      "cell_type": "code",
      "execution_count": null,
      "metadata": {
        "id": "wlEjuzYKvWm_"
      },
      "outputs": [],
      "source": [
        "BFS(graph, start_node):\n",
        "    visited = []                # 방문한 노드를 저장할 리스트\n",
        "    queue = []                  # 탐색할 노드를 저장할 큐\n",
        "    queue.append(start_node)    # 시작 노드를 큐에 추가\n",
        "    visited.append(start_node)  # 시작 노드를 방문한 노드 리스트에 추가\n",
        "\n",
        "    while queue is not empty:   # 큐가 비어있지 않은 동안 반복\n",
        "        current_node = queue.pop(0)    # 큐에서 노드를 하나 꺼냄\n",
        "\n",
        "        for neighbor in graph[current_node]:   # 현재 노드와 연결된 모든 이웃 노드에 대해\n",
        "            if neighbor not in visited:        # 방문하지 않은 이웃 노드일 경우\n",
        "                visited.append(neighbor)       # 방문한 노드 리스트에 추가\n",
        "                queue.append(neighbor)         # 큐에 이웃 노드 추가\n",
        "\n",
        "    return visited    # 방문한 노드 리스트 반환\n"
      ]
    },
    {
      "cell_type": "markdown",
      "metadata": {
        "id": "hXgbVAF3QWLN"
      },
      "source": [
        "### DFS 의사코드"
      ]
    },
    {
      "cell_type": "markdown",
      "metadata": {
        "id": "nPoBMP_-QZzn"
      },
      "source": [
        "DFS(Depth-First Search) 알고리즘은 그래프에서 깊이 우선으로 탐색하는 알고리즘입니다.\n",
        "\n",
        "아래에 DFS의 의사코드를 작성해 드리겠습니다.\n",
        "\n"
      ]
    },
    {
      "cell_type": "code",
      "execution_count": null,
      "metadata": {
        "id": "Eq8e8DBEQbmL"
      },
      "outputs": [],
      "source": [
        "DFS(graph, start_node):\n",
        "    visited = []                # 방문한 노드를 저장할 리스트\n",
        "    stack = []                  # 탐색할 노드를 저장할 스택\n",
        "    stack.append(start_node)    # 시작 노드를 스택에 추가\n",
        "\n",
        "    while stack is not empty:   # 스택이 비어있지 않은 동안 반복\n",
        "        current_node = stack.pop()    # 스택에서 노드를 하나 꺼냄\n",
        "\n",
        "        if current_node not in visited:    # 방문하지 않은 노드일 경우\n",
        "            visited.append(current_node)   # 방문한 노드 리스트에 추가\n",
        "\n",
        "            for neighbor in graph[current_node]:   # 현재 노드와 연결된 모든 이웃 노드에 대해\n",
        "                stack.append(neighbor)              # 스택에 이웃 노드 추가\n",
        "\n",
        "    return visited    # 방문한 노드 리스트 반환\n"
      ]
    },
    {
      "cell_type": "markdown",
      "metadata": {
        "id": "7yjvSwiXZzgY"
      },
      "source": [
        "### BFS 사례"
      ]
    },
    {
      "cell_type": "markdown",
      "metadata": {
        "id": "Cd4RDO3kZ1HC"
      },
      "source": [
        "BFS는 그래프에서 최단 경로, 네트워크 트래픽, 게임 AI 등 다양한 분야에서 활용될 수 있습니다.\n",
        "\n",
        "여기서는 그래프에서 최단 경로를 찾는 예시와 파이썬 코드를 제시해 드리겠습니다.\n",
        "\n",
        "\n",
        "예시: 미로에서 최단 경로 찾기\n",
        "\n",
        "다음은 미로에서 시작점부터 도착점까지의 최단 경로를 찾는 예시입니다.\n",
        "\n",
        "미로는 2차원 그래프로 표현되며, 각 셀은 벽(\"X\")이거나 통로(\".\")로 구성됩니다.\n",
        "\n",
        "시작점은 (0, 0)이고 도착점은 (N-1, M-1)입니다. BFS 알고리즘을 사용하여 최단 경로를 찾습니다.\n",
        "\n"
      ]
    },
    {
      "cell_type": "code",
      "execution_count": 12,
      "metadata": {
        "colab": {
          "base_uri": "https://localhost:8080/"
        },
        "id": "IeZMj0GmZ5Zw",
        "outputId": "ccd9e4a7-fbdd-465f-e19c-bbbee743e48c"
      },
      "outputs": [
        {
          "name": "stdout",
          "output_type": "stream",
          "text": [
            "최단 경로 길이: 9\n"
          ]
        }
      ],
      "source": [
        "from collections import deque\n",
        "\n",
        "def find_shortest_path(maze):\n",
        "    rows = len(maze)\n",
        "    cols = len(maze[0])\n",
        "\n",
        "    # 방문 여부를 저장하는 2차원 배열\n",
        "    visited = [[False] * cols for _ in range(rows)]\n",
        "\n",
        "    # 상하좌우 이동을 위한 방향 벡터\n",
        "    dx = [-1, 1, 0, 0]\n",
        "    dy = [0, 0, -1, 1]\n",
        "\n",
        "    # 시작점 (0, 0)\n",
        "    start = (0, 0)\n",
        "\n",
        "    # 도착점 (rows-1, cols-1)\n",
        "    destination = (rows-1, cols-1)\n",
        "\n",
        "    queue = deque([(start, 1)])  # 큐에 시작점과 거리 1을 넣음\n",
        "\n",
        "    while queue:\n",
        "        current, distance = queue.popleft()\n",
        "        x, y = current\n",
        "\n",
        "        if current == destination:\n",
        "            return distance  # 도착점에 도달한 경우 최단 거리 반환\n",
        "\n",
        "        if not visited[x][y]:\n",
        "            visited[x][y] = True  # 현재 위치를 방문 처리\n",
        "\n",
        "            for i in range(4):\n",
        "                nx = x + dx[i]\n",
        "                ny = y + dy[i]\n",
        "\n",
        "                if 0 <= nx < rows and 0 <= ny < cols and maze[nx][ny] == \".\" and not visited[nx][ny]:\n",
        "                    queue.append(((nx, ny), distance+1))\n",
        "\n",
        "    return -1  # 도착점에 도달할 수 없는 경우\n",
        "\n",
        "# 미로 예시\n",
        "maze = [\n",
        "    [\".\", \".\", \".\", \".\", \".\"],\n",
        "    [\".\", \"X\", \".\", \"X\", \".\"],\n",
        "    [\".\", \".\", \".\", \".\", \".\"],\n",
        "    [\".\", \"X\", \"X\", \"X\", \".\"],\n",
        "    [\".\", \".\", \".\", \".\", \".\"]\n",
        "]\n",
        "\n",
        "shortest_distance = find_shortest_path(maze)\n",
        "print(\"최단 경로 길이:\", shortest_distance)\n"
      ]
    },
    {
      "cell_type": "markdown",
      "metadata": {
        "id": "W2e8fDCuaDLO"
      },
      "source": [
        "위의 코드는 주어진 미로에서 BFS를 활용하여 시작점부터 도착점까지의 최단 경로 길이를 찾는 예시입니다.\n",
        "\n",
        "BFS 알고리즘을 사용하여 미로를 탐색하면서 방문하지 않은 통로를 큐에 추가하고, 도착점에 도달하면 최단 경로 길이를 반환합니다.\n",
        "\n",
        "\n",
        "\n",
        "\n"
      ]
    },
    {
      "cell_type": "markdown",
      "metadata": {
        "id": "l9Sd5C4YaN-K"
      },
      "source": [
        "### BFS 사례2"
      ]
    },
    {
      "cell_type": "markdown",
      "metadata": {
        "id": "TSn7YiOEaQM-"
      },
      "source": [
        "예시: 친구 관계 네트워크에서 가장 가까운 친구 찾기\n",
        "\n",
        "다음은 친구 관계 네트워크에서 특정 사용자와 가장 가까운 친구를 찾는 예시입니다.\n",
        "\n",
        "네트워크는 그래프로 표현되며, 사용자들은 노드로 표현됩니다.\n",
        "\n",
        "BFS 알고리즘을 사용하여 사용자와 가장 가까운 친구를 찾습니다.\n",
        "\n"
      ]
    },
    {
      "cell_type": "code",
      "execution_count": 13,
      "metadata": {
        "colab": {
          "base_uri": "https://localhost:8080/"
        },
        "id": "8wxrn_C2aSuh",
        "outputId": "fbc9ccbd-1f5f-476b-d459-e52a30b9c681"
      },
      "outputs": [
        {
          "name": "stdout",
          "output_type": "stream",
          "text": [
            "가장 가까운 친구: David\n",
            "거리: 1\n"
          ]
        }
      ],
      "source": [
        "from collections import deque\n",
        "\n",
        "def find_closest_friend(network, start_user):\n",
        "    visited = set()   # 방문한 사용자를 저장하는 집합\n",
        "    queue = deque([(start_user, 0)])   # 큐에 시작 사용자와 거리 0을 넣음\n",
        "\n",
        "    while queue:\n",
        "        current_user, distance = queue.popleft()\n",
        "\n",
        "        if current_user in visited:\n",
        "            continue\n",
        "\n",
        "        visited.add(current_user)\n",
        "\n",
        "        if is_target_user(current_user):   # 목표 사용자인지 확인하는 함수\n",
        "            return current_user, distance\n",
        "\n",
        "        for friend in get_friends(network, current_user):   # 현재 사용자의 친구들을 가져옴\n",
        "            if friend not in visited:\n",
        "                queue.append((friend, distance + 1))\n",
        "\n",
        "    return None\n",
        "\n",
        "# 네트워크 그래프 예시\n",
        "network = {\n",
        "    \"Alice\": [\"Bob\", \"Charlie\", \"David\"],\n",
        "    \"Bob\": [\"Alice\", \"Eve\"],\n",
        "    \"Charlie\": [\"Alice\", \"David\"],\n",
        "    \"David\": [\"Alice\", \"Charlie\"],\n",
        "    \"Eve\": [\"Bob\"]\n",
        "}\n",
        "\n",
        "# 목표 사용자인지 확인하는 함수 예시\n",
        "def is_target_user(user):\n",
        "    return user == \"David\"\n",
        "\n",
        "# 현재 사용자의 친구들을 가져오는 함수 예시\n",
        "def get_friends(network, user):\n",
        "    return network.get(user, [])\n",
        "\n",
        "start_user = \"Alice\"\n",
        "closest_friend, distance = find_closest_friend(network, start_user)\n",
        "print(\"가장 가까운 친구:\", closest_friend)\n",
        "print(\"거리:\", distance)\n"
      ]
    },
    {
      "cell_type": "markdown",
      "metadata": {
        "id": "sTNpKMtIaVN9"
      },
      "source": [
        "위의 코드는 주어진 친구 관계 네트워크에서 BFS를 활용하여 시작 사용자와 가장 가까운 친구를 찾는 예시입니다.\n",
        "\n",
        "BFS 알고리즘을 사용하여 친구 관계를 탐색하면서 목표 사용자에 도달하면 가장 가까운 친구와 거리를 반환합니다.\n",
        "\n",
        "\n",
        "\n",
        "\n"
      ]
    },
    {
      "cell_type": "markdown",
      "metadata": {
        "id": "0yIUL4X1aatf"
      },
      "source": [
        "### DFS 사례"
      ]
    },
    {
      "cell_type": "markdown",
      "metadata": {
        "id": "LPHR0Thjafdn"
      },
      "source": [
        "예시: 단어 경로 찾기\n",
        "\n",
        "다음은 주어진 단어 목록에서 시작 단어에서 목표 단어까지의 경로를 찾는 예시입니다.\n",
        "\n",
        "단어는 그래프의 노드로 표현되며, 두 단어가 한 번에 한 글자만 다른 경우에만 경로로 간주합니다. DFS 알고리즘을 사용하여 경로를 찾습니다.\n",
        "\n"
      ]
    },
    {
      "cell_type": "code",
      "execution_count": 60,
      "metadata": {
        "colab": {
          "base_uri": "https://localhost:8080/"
        },
        "id": "TWcFzVMiahpm",
        "outputId": "f79c49ca-34f1-4875-c811-6cc62c5d5f15"
      },
      "outputs": [
        {
          "name": "stdout",
          "output_type": "stream",
          "text": [
            "단어 경로: bat->cat->hat->had->bad->bed->red\n"
          ]
        }
      ],
      "source": [
        "def find_word_path(words, start_word, target_word):\n",
        "    visited = set()  # 방문한 단어를 저장하는 집합\n",
        "    path = []  # 경로를 저장하는 리스트\n",
        "    path.append(start_word)\n",
        "\n",
        "    def dfs(current_word):\n",
        "        if current_word == target_word:  # 목표 단어에 도달한 경우 경로를 반환\n",
        "            return path\n",
        "\n",
        "        visited.add(current_word)\n",
        "\n",
        "        for word in words:\n",
        "            if word not in visited and is_one_letter_different(current_word, word):\n",
        "                path.append(word)\n",
        "                result = dfs(word)\n",
        "                if result:  # 목표 단어에 도달한 경로가 있는 경우\n",
        "                    return result\n",
        "                path.pop()\n",
        "\n",
        "        return None\n",
        "\n",
        "    return dfs(start_word)\n",
        "\n",
        "# 두 단어가 한 글자만 다른지 확인하는 함수 예시\n",
        "def is_one_letter_different(word1, word2):\n",
        "    diff_count = sum(c1 != c2 for c1, c2 in zip(word1, word2))\n",
        "    return diff_count == 1\n",
        "\n",
        "# 단어 목록 예시\n",
        "word_list = [\"cat\", \"bat\", \"hat\", \"bad\", \"had\", \"bed\", \"red\"]\n",
        "\n",
        "start_word = \"bat\"\n",
        "target_word = \"red\"\n",
        "\n",
        "word_path = find_word_path(word_list, start_word, target_word)\n",
        "if word_path:\n",
        "    print(\"단어 경로:\", \"->\".join(word_path))\n",
        "else:\n",
        "    print(\"경로를 찾을 수 없습니다.\")\n"
      ]
    },
    {
      "cell_type": "markdown",
      "metadata": {
        "id": "PdflPFQqajy2"
      },
      "source": [
        "위의 코드는 주어진 단어 목록에서 DFS를 활용하여 시작 단어에서 목표 단어까지의 경로를 찾는 예시입니다.\n",
        "\n",
        "DFS 알고리즘을 사용하여 단어 간의 관계를 탐색하면서 목표 단어에 도달하면 경로를 반환합니다.\n",
        "\n",
        "단어 간의 관계는 두 단어가 한 글자만 다른지 여부로 판단합니다.\n",
        "\n",
        "\n",
        "\n",
        "\n"
      ]
    },
    {
      "cell_type": "markdown",
      "metadata": {
        "id": "1tqdTgu_anr8"
      },
      "source": [
        "### DFS 사례2"
      ]
    },
    {
      "cell_type": "markdown",
      "metadata": {
        "id": "LLOrSxi2apyF"
      },
      "source": [
        "예시: 그래프에서 사이클 찾기\n",
        "\n",
        "다음은 주어진 그래프에서 사이클을 찾는 예시입니다.\n",
        "\n",
        "그래프는 노드와 간선으로 구성되며, DFS 알고리즘을 사용하여 사이클을 탐색합니다.\n",
        "\n"
      ]
    },
    {
      "cell_type": "code",
      "execution_count": 15,
      "metadata": {
        "colab": {
          "base_uri": "https://localhost:8080/"
        },
        "id": "Ev9Fue1_arwy",
        "outputId": "59ec314e-df6e-4fdf-e62d-222156531f7b"
      },
      "outputs": [
        {
          "name": "stdout",
          "output_type": "stream",
          "text": [
            "그래프에 사이클이 있습니다.\n"
          ]
        }
      ],
      "source": [
        "def has_cycle(graph):\n",
        "    visited = set()  # 방문한 노드를 저장하는 집합\n",
        "    rec_stack = set()  # 재귀 스택에 포함된 노드를 저장하는 집합\n",
        "\n",
        "    def dfs(node):\n",
        "        visited.add(node)\n",
        "        rec_stack.add(node)\n",
        "\n",
        "        for neighbor in graph[node]:\n",
        "            if neighbor not in visited:\n",
        "                if dfs(neighbor):  # 이웃 노드를 재귀적으로 탐색하여 사이클이 발견된 경우\n",
        "                    return True\n",
        "            elif neighbor in rec_stack:  # 방문한 이웃 노드가 재귀 스택에 있는 경우 사이클 발견\n",
        "                return True\n",
        "\n",
        "        rec_stack.remove(node)  # 재귀 스택에서 노드 제거\n",
        "        return False\n",
        "\n",
        "    for node in graph:\n",
        "        if node not in visited:\n",
        "            if dfs(node):  # 시작 노드를 기준으로 DFS 탐색하여 사이클이 발견된 경우\n",
        "                return True\n",
        "\n",
        "    return False\n",
        "\n",
        "# 그래프 예시\n",
        "graph = {\n",
        "    'A': ['B', 'C'],\n",
        "    'B': ['C'],\n",
        "    'C': ['D', 'E'],\n",
        "    'D': [],\n",
        "    'E': ['A']\n",
        "}\n",
        "\n",
        "has_cycle = has_cycle(graph)\n",
        "if has_cycle:\n",
        "    print(\"그래프에 사이클이 있습니다.\")\n",
        "else:\n",
        "    print(\"그래프에 사이클이 없습니다.\")\n"
      ]
    },
    {
      "cell_type": "markdown",
      "metadata": {
        "id": "_ySb4OQkauaR"
      },
      "source": [
        "위의 코드는 주어진 그래프에서 DFS를 활용하여 사이클을 찾는 예시입니다.\n",
        "\n",
        "DFS 알고리즘을 사용하여 그래프를 탐색하면서 방문한 노드를 기록하고, 재귀 스택에 포함된 노드를 확인하여 사이클을 탐지합니다.\n",
        "\n",
        "만약 사이클이 발견되면 True를 반환하고, 그렇지 않으면 False를 반환합니다.\n",
        "\n",
        "\n",
        "\n",
        "\n"
      ]
    },
    {
      "cell_type": "markdown",
      "metadata": {
        "id": "j_jtMNnFa2SD"
      },
      "source": [
        "### DFS 사례3"
      ]
    },
    {
      "cell_type": "markdown",
      "metadata": {
        "id": "GkvKKSCja5ko"
      },
      "source": [
        "예시: 연결 요소 개수 세기\n",
        "\n",
        "다음은 주어진 그래프에서 연결 요소의 개수를 세는 예시입니다.\n",
        "\n",
        "그래프는 노드와 간선으로 구성되며, DFS 알고리즘을 사용하여 연결된 요소를 탐색합니다.\n",
        "\n"
      ]
    },
    {
      "cell_type": "code",
      "execution_count": 18,
      "metadata": {
        "colab": {
          "base_uri": "https://localhost:8080/"
        },
        "id": "1jae54v4a7YR",
        "outputId": "5ecd4ab8-2589-4d2e-cc5e-9ef19a8668db"
      },
      "outputs": [
        {
          "name": "stdout",
          "output_type": "stream",
          "text": [
            "연결 요소 개수: 3\n"
          ]
        }
      ],
      "source": [
        "def count_connected_components(graph):\n",
        "    visited = set()  # 방문한 노드를 저장하는 집합\n",
        "    count = 0  # 연결 요소 개수\n",
        "\n",
        "    def dfs(node):\n",
        "        visited.add(node)\n",
        "\n",
        "        for neighbor in graph[node]:\n",
        "            if neighbor not in visited:\n",
        "                dfs(neighbor)\n",
        "\n",
        "    for node in graph:\n",
        "        if node not in visited:\n",
        "            dfs(node)\n",
        "            count += 1\n",
        "\n",
        "    return count\n",
        "\n",
        "# 그래프 예시\n",
        "graph = {\n",
        "    'A': ['B', 'C'],\n",
        "    'B': ['A', 'C'],\n",
        "    'C': ['A', 'B'],\n",
        "    'D': ['E'],\n",
        "    'E': ['D'],\n",
        "    'F': []\n",
        "}\n",
        "\n",
        "connected_components = count_connected_components(graph)\n",
        "print(\"연결 요소 개수:\", connected_components)\n"
      ]
    },
    {
      "cell_type": "markdown",
      "metadata": {
        "id": "KK7BDZNfa_Ec"
      },
      "source": [
        "위의 코드는 주어진 그래프에서 DFS를 활용하여 연결 요소의 개수를 세는 예시입니다.\n",
        "\n",
        "DFS 알고리즘을 사용하여 그래프를 탐색하면서 방문한 노드를 기록하고, 방문하지 않은 노드를 시작점으로 하여 새로운 연결 요소를 찾습니다.\n",
        "\n",
        "연결 요소를 찾을 때마다 개수를 증가시킵니다. 최종적으로 연결 요소의 개수를 반환합니다.\n",
        "\n",
        "\n",
        "\n",
        "\n"
      ]
    },
    {
      "cell_type": "markdown",
      "metadata": {
        "id": "s7qzATnJcLB2"
      },
      "source": [
        "### DFS 스택 사례"
      ]
    },
    {
      "cell_type": "markdown",
      "metadata": {
        "id": "NGj_8yDHcO4i"
      },
      "source": [
        "예시: 파일 탐색기에서 특정 확장자의 파일 찾기\n",
        "\n",
        "다음은 파일 탐색기에서 특정 확장자의 파일을 찾는 예시입니다.\n",
        "\n",
        "파일 시스템은 트리 구조로 표현되며, DFS 알고리즘을 사용하여 특정 디렉토리부터 모든 하위 디렉토리를 순회하며 해당 확장자의 파일을 찾습니다.\n",
        "\n"
      ]
    },
    {
      "cell_type": "code",
      "execution_count": 22,
      "metadata": {
        "colab": {
          "base_uri": "https://localhost:8080/"
        },
        "id": "0BsubqFxcQjF",
        "outputId": "4663b282-cc8e-4b8f-90c6-6f9a0f19ee24"
      },
      "outputs": [
        {
          "name": "stdout",
          "output_type": "stream",
          "text": [
            "찾은 파일:\n",
            "/content/sample_data/README.md\n"
          ]
        }
      ],
      "source": [
        "import os\n",
        "\n",
        "def find_files_with_extension(directory, target_extension):\n",
        "    stack = [directory]   # 탐색할 디렉토리를 스택에 추가\n",
        "    result = []   # 확장자와 일치하는 파일 결과\n",
        "\n",
        "    while stack:\n",
        "        current_dir = stack.pop()   # 스택에서 디렉토리를 꺼냄\n",
        "\n",
        "        # 디렉토리 내의 파일과 디렉토리를 순회\n",
        "        for item in os.listdir(current_dir):\n",
        "            item_path = os.path.join(current_dir, item)\n",
        "\n",
        "            if os.path.isfile(item_path) and item.endswith(target_extension):\n",
        "                result.append(item_path)   # 확장자와 일치하는 파일을 결과에 추가\n",
        "            elif os.path.isdir(item_path):\n",
        "                stack.append(item_path)   # 하위 디렉토리를 스택에 추가\n",
        "\n",
        "    return result\n",
        "\n",
        "# 파일 탐색 예시\n",
        "directory = '/content/sample_data/'   # 탐색할 디렉토리 경로\n",
        "extension = '.md'   # 찾고자 하는 확장자\n",
        "\n",
        "files = find_files_with_extension(directory, extension)\n",
        "if files:\n",
        "    print(\"찾은 파일:\")\n",
        "    for file in files:\n",
        "        print(file)\n",
        "else:\n",
        "    print(\"일치하는 파일이 없습니다.\")\n"
      ]
    },
    {
      "cell_type": "markdown",
      "metadata": {
        "id": "M6zf53wMceHh"
      },
      "source": [
        "위의 코드는 주어진 디렉토리에서 특정 확장자의 파일을 찾는 예시입니다.\n",
        "\n",
        "DFS 알고리즘을 사용하여 디렉토리 내의 파일과 디렉토리를 순회하며 스택에 추가합니다.\n",
        "\n",
        "파일일 경우 해당 확장자와 일치하면 결과에 추가하고, 디렉토리일 경우 하위 디렉토리를 스택에 추가합니다. 최종적으로 일치하는 파일들의 리스트를 반환합니다.\n",
        "\n",
        "\n",
        "\n",
        "\n"
      ]
    },
    {
      "cell_type": "markdown",
      "metadata": {
        "id": "rYKPzIb6c1TI"
      },
      "source": [
        "### DFS 스택 사례2"
      ]
    },
    {
      "cell_type": "markdown",
      "metadata": {
        "id": "6vUlVk-5c2OP"
      },
      "source": [
        "예시: 미로 탐색\n",
        "\n",
        "다음은 미로에서 출발지점부터 도착지점까지의 경로를 찾는 예시입니다.\n",
        "\n",
        "DFS 알고리즘을 사용하여 미로를 탐색하며, 스택을 활용하여 경로를 탐색합니다.\n",
        "\n"
      ]
    },
    {
      "cell_type": "code",
      "execution_count": 30,
      "metadata": {
        "colab": {
          "base_uri": "https://localhost:8080/"
        },
        "id": "MGefuNKQc4Dc",
        "outputId": "ef4a7886-5ea5-40f3-f982-e749b2ba899b"
      },
      "outputs": [
        {
          "name": "stdout",
          "output_type": "stream",
          "text": [
            "경로: [(0, 0), (0, 1), (0, 2), (1, 2), (2, 2), (2, 1), (2, 0), (3, 0), (4, 0), (4, 1), (4, 2), (4, 3), (4, 4), (4, 5), (4, 6)]\n"
          ]
        }
      ],
      "source": [
        "def find_path(maze, start, end):\n",
        "    rows = len(maze)\n",
        "    cols = len(maze[0])\n",
        "\n",
        "    stack = [(start, [start])]  # (현재 위치, 경로)를 저장하는 스택\n",
        "    visited = set()  # 방문한 위치를 저장하는 집합\n",
        "\n",
        "    while stack:\n",
        "        current, path = stack.pop()  # 스택에서 현재 위치와 경로를 꺼냄\n",
        "\n",
        "        if current == end:  # 도착지점에 도달한 경우 경로를 반환\n",
        "            return path\n",
        "\n",
        "        visited.add(current)  # 현재 위치를 방문 처리\n",
        "\n",
        "        row, col = current\n",
        "\n",
        "        # 이웃한 위치를 확인하고 스택에 추가\n",
        "        neighbors = [(row - 1, col), (row + 1, col), (row, col - 1), (row, col + 1)]\n",
        "\n",
        "        for neighbor in neighbors:\n",
        "            neighbor_row, neighbor_col = neighbor\n",
        "\n",
        "            # 이웃한 위치가 미로 내에 있고, 벽이 아니며 방문하지 않은 위치인 경우\n",
        "            if 0 <= neighbor_row < rows and 0 <= neighbor_col < cols and maze[neighbor_row][neighbor_col] != '#' and neighbor not in visited:\n",
        "                stack.append((neighbor, path + [neighbor]))\n",
        "\n",
        "    return None  # 경로를 찾지 못한 경우\n",
        "\n",
        "\n",
        "# 미로 탐색 예시\n",
        "maze = [\n",
        "    ['S', '.', '.', '.', '#', '.', '.'],\n",
        "    ['#', '#', '.', '#', '#', '.', '#'],\n",
        "    ['.', '.', '.', '#', '.', '.', '.'],\n",
        "    ['.', '#', '#', '#', '.', '#', '.'],\n",
        "    ['.', '.', '.', '.', '.', '.', 'E']\n",
        "]\n",
        "\n",
        "start = (0, 0)  # 출발지점 좌표\n",
        "end = (4, 6)  # 도착지점 좌표\n",
        "\n",
        "path = find_path(maze, start, end)\n",
        "if path:\n",
        "    print(\"경로:\", path)\n",
        "else:\n",
        "    print(\"경로를 찾을 수 없습니다.\")\n"
      ]
    },
    {
      "cell_type": "markdown",
      "metadata": {
        "id": "EbcdAFOFdAmU"
      },
      "source": [
        "위의 코드는 주어진 미로에서 DFS를 사용하여 출발지점부터 도착지점까지의 경로를 찾는 예시입니다.\n",
        "\n",
        "미로는 2차원 배열로 표현되며, 출발지점은 'S'로, 도착지점은 'E'로 표시됩니다.\n",
        "\n",
        "벽은 '#'로 표시되고, '.'은 갈 수 있는 경로를 의미합니다.\n",
        "\n",
        "DFS 알고리즘을 사용하여 미로를 탐색하면서 스택을 활용하여 경로를 탐색하고, 도착지점에 도착한 경우 해당 경로를 반환합니다.\n",
        "\n",
        "경로를 찾지 못한 경우 None을 반환합니다.\n",
        "\n",
        "\n",
        "\n",
        "\n"
      ]
    },
    {
      "cell_type": "markdown",
      "metadata": {
        "id": "OYwx7nIceVXB"
      },
      "source": [
        "### DFS 스택 사례3"
      ]
    },
    {
      "cell_type": "markdown",
      "metadata": {
        "id": "f2quGKhqeXIZ"
      },
      "source": [
        "예시: 깊이 우선 탐색을 활용한 이진 트리 순회\n",
        "\n",
        "다음은 이진 트리에서 깊이 우선 탐색(DFS)을 활용하여 노드를 순회하는 예시입니다.\n",
        "\n",
        "이진 트리는 노드(Node)와 왼쪽, 오른쪽 자식 노드로 구성되며, DFS 알고리즘을 사용하여 트리를 탐색합니다.\n",
        "\n",
        "스택을 활용하여 노드를 순차적으로 탐색하고, 방문한 노드를 처리합니다.\n",
        "\n"
      ]
    },
    {
      "cell_type": "code",
      "execution_count": 45,
      "metadata": {
        "colab": {
          "base_uri": "https://localhost:8080/"
        },
        "id": "VRDKZmfeeY5y",
        "outputId": "767f4160-4f64-404f-c2a5-a888d076f0f6"
      },
      "outputs": [
        {
          "name": "stdout",
          "output_type": "stream",
          "text": [
            "A\n",
            "B\n",
            "D\n",
            "E\n",
            "C\n",
            "F\n",
            "G\n"
          ]
        }
      ],
      "source": [
        "# 이진 트리 노드 클래스 정의\n",
        "class TreeNode:\n",
        "    def __init__(self, value):\n",
        "        self.value = value\n",
        "        self.left = None\n",
        "        self.right = None\n",
        "\n",
        "# 이진 트리 클래스 정의\n",
        "class BinaryTree:\n",
        "    def __init__(self):\n",
        "        self.root = None\n",
        "\n",
        "    def dfs(self):\n",
        "        stack = [self.root]  # 루트 노드를 스택에 추가\n",
        "\n",
        "        while stack:\n",
        "            current_node = stack.pop()  # 스택에서 현재 노드를 꺼냄\n",
        "\n",
        "            if current_node:\n",
        "                print(current_node.value)  # 현재 노드의 값을 출력\n",
        "\n",
        "                # 오른쪽 자식을 먼저 스택에 추가하여 왼쪽 자식이 먼저 처리되도록 함\n",
        "                stack.append(current_node.right)\n",
        "                stack.append(current_node.left)\n",
        "\n",
        "\n",
        "# 이진 트리 순회 예시\n",
        "tree = BinaryTree()\n",
        "\n",
        "# 이진 트리 생성\n",
        "tree.root = TreeNode('A')\n",
        "tree.root.left = TreeNode('B')\n",
        "tree.root.right = TreeNode('C')\n",
        "tree.root.left.left = TreeNode('D')\n",
        "tree.root.left.right = TreeNode('E')\n",
        "tree.root.right.left = TreeNode('F')\n",
        "tree.root.right.right = TreeNode('G')\n",
        "\n",
        "tree.dfs()\n"
      ]
    },
    {
      "cell_type": "markdown",
      "metadata": {
        "id": "oG8WKIeXeaox"
      },
      "source": [
        "위의 코드는 주어진 이진 트리에서 DFS를 사용하여 노드를 순회하는 예시입니다.\n",
        "\n",
        "이진 트리는 노드 클래스(TreeNode)와 이진 트리 클래스(BinaryTree)로 구성되며, dfs() 메서드를 사용하여 DFS를 수행합니다.\n",
        "\n",
        "스택을 활용하여 노드를 탐색하고, 방문한 노드의 값을 출력합니다.\n",
        "\n",
        "이진 트리의 경우, 오른쪽 자식 노드를 먼저 스택에 추가하여 왼쪽 자식이 먼저 처리되도록 합니다.\n",
        "\n",
        "이를 통해 이진 트리 순회에 DFS 알고리즘과 스택을 활용할 수 있습니다.\n",
        "\n",
        "\n",
        "\n",
        "\n"
      ]
    },
    {
      "cell_type": "markdown",
      "metadata": {
        "id": "fs7E_XxwgUmt"
      },
      "source": [
        "### DFS 이커머스 사례"
      ]
    },
    {
      "cell_type": "markdown",
      "metadata": {
        "id": "Xh0QW4I_gW9W"
      },
      "source": [
        "예시: 고객 구매 패턴 분석\n",
        "\n",
        "다음은 이커머스 사이트에서 고객들의 구매 패턴을 분석하기 위해 DFS 알고리즘을 사용하는 예시입니다.\n",
        "\n",
        "이커머스 데이터는 그래프 형태로 구성되며, DFS 알고리즘을 사용하여 관련된 상품을 탐색합니다.\n",
        "\n",
        "스택을 활용하여 상품을 탐색하고, 방문한 상품을 처리합니다.\n",
        "\n"
      ]
    },
    {
      "cell_type": "code",
      "execution_count": 49,
      "metadata": {
        "colab": {
          "base_uri": "https://localhost:8080/"
        },
        "id": "M2OD9r9TgZUJ",
        "outputId": "e965736f-4519-4abd-9b8c-464feb7af297"
      },
      "outputs": [
        {
          "name": "stdout",
          "output_type": "stream",
          "text": [
            "고객 ID: 1, 이름: Customer A\n",
            "- 상품 ID: 1, 이름: Item 1\n",
            "- 상품 ID: 3, 이름: Item 3\n",
            "- 상품 ID: 2, 이름: Item 2\n",
            "- 상품 ID: 4, 이름: Item 4\n"
          ]
        }
      ],
      "source": [
        "class Customer:\n",
        "    def __init__(self, id, name):\n",
        "        self.id = id\n",
        "        self.name = name\n",
        "        self.purchased_items = []\n",
        "\n",
        "    def add_purchased_item(self, item):\n",
        "        self.purchased_items.append(item)\n",
        "\n",
        "class Item:\n",
        "    def __init__(self, id, name):\n",
        "        self.id = id\n",
        "        self.name = name\n",
        "        self.related_items = []\n",
        "\n",
        "    def add_related_item(self, item):\n",
        "        self.related_items.append(item)\n",
        "\n",
        "def analyze_purchase_patterns(start_customer):\n",
        "    stack = [start_customer]  # 시작 고객을 스택에 추가\n",
        "    visited = set()  # 방문한 고객을 저장하는 집합\n",
        "\n",
        "    while stack:\n",
        "        current_node = stack.pop()  # 스택에서 현재 고객을 꺼냄\n",
        "\n",
        "        if isinstance(current_node, Customer):\n",
        "            current_customer = current_node\n",
        "\n",
        "            if current_customer not in visited:\n",
        "                print(f\"고객 ID: {current_customer.id}, 이름: {current_customer.name}\")\n",
        "                visited.add(current_customer)  # 현재 고객을 방문 처리\n",
        "\n",
        "                # 현재 고객이 구매한 상품들을 탐색\n",
        "                for purchased_item in current_customer.purchased_items:\n",
        "                    print(f\"- 상품 ID: {purchased_item.id}, 이름: {purchased_item.name}\")\n",
        "\n",
        "                    # 상품과 관련된 상품들을 스택에 추가\n",
        "                    for related_item in purchased_item.related_items:\n",
        "                        stack.append(related_item)\n",
        "        else:\n",
        "            current_item = current_node\n",
        "            print(f\"- 상품 ID: {current_item.id}, 이름: {current_item.name}\")\n",
        "\n",
        "            # 상품과 관련된 상품들을 스택에 추가\n",
        "            for related_item in current_item.related_items:\n",
        "                stack.append(related_item)\n",
        "\n",
        "# 이커머스 데이터 분석 예시\n",
        "# 고객 데이터 생성\n",
        "customer_a = Customer(1, 'Customer A')\n",
        "customer_b = Customer(2, 'Customer B')\n",
        "customer_c = Customer(3, 'Customer C')\n",
        "\n",
        "# 상품 데이터 생성\n",
        "item_1 = Item(1, 'Item 1')\n",
        "item_2 = Item(2, 'Item 2')\n",
        "item_3 = Item(3, 'Item 3')\n",
        "item_4 = Item(4, 'Item 4')\n",
        "\n",
        "# 상품과 관련된 상품 설정\n",
        "item_1.add_related_item(item_2)\n",
        "item_1.add_related_item(item_3)\n",
        "item_2.add_related_item(item_4)\n",
        "\n",
        "# 고객이 구매한 상품 설정\n",
        "customer_a.add_purchased_item(item_1)\n",
        "customer_b.add_purchased_item(item_2)\n",
        "customer_c.add_purchased_item(item_3)\n",
        "\n",
        "start_customer = customer_a  # 시작 고객\n",
        "\n",
        "analyze_purchase_patterns(start_customer)\n"
      ]
    },
    {
      "cell_type": "markdown",
      "metadata": {
        "id": "lnSYBxzQg1dD"
      },
      "source": [
        "위의 코드는 이커머스 데이터 분석을 위해 DFS 알고리즘을 사용하는 예시입니다.\n",
        "\n",
        "Customer 클래스는 고객을 나타내고, Item 클래스는 상품을 나타냅니다.\n",
        "\n",
        "analyze_purchase_patterns 함수는 시작 고객을 입력으로 받아 DFS 알고리즘을 사용하여 구매 패턴을 분석합니다.\n",
        "\n",
        "방문한 고객을 집합에 저장하여 중복 방문을 방지합니다.\n",
        "\n",
        "각 고객이 구매한 상품들과 관련된 상품들을 출력합니다.\n",
        "\n",
        "이를 통해 이커머스 데이터 분석에 DFS 알고리즘과 스택을 활용하여 고객의 구매 패턴을 분석할 수 있습니다.\n",
        "\n",
        "\n",
        "\n",
        "\n"
      ]
    },
    {
      "cell_type": "markdown",
      "metadata": {
        "id": "-eLhU6F1hbyt"
      },
      "source": [
        "### DFS ETL 사례"
      ]
    },
    {
      "cell_type": "code",
      "execution_count": 51,
      "metadata": {
        "colab": {
          "base_uri": "https://localhost:8080/"
        },
        "id": "BUwVmo9PQV_v",
        "outputId": "5751fa6d-8d32-454c-d544-609b94eb0530"
      },
      "outputs": [
        {
          "name": "stdout",
          "output_type": "stream",
          "text": [
            "Extract: 1, Item 1\n",
            "Load: {'id': 1, 'name': 'Item 1', 'formatted_name': 'ITEM 1'}\n",
            "Extract: 2, Item 2\n",
            "Load: {'id': 2, 'name': 'Item 2', 'formatted_name': 'ITEM 2'}\n",
            "Extract: 4, Item 4\n",
            "Load: {'id': 4, 'name': 'Item 4', 'formatted_name': 'ITEM 4'}\n",
            "Extract: 3, Item 3\n",
            "Load: {'id': 3, 'name': 'Item 3', 'formatted_name': 'ITEM 3'}\n",
            "Extract: 5, Item 5\n",
            "Load: {'id': 5, 'name': 'Item 5', 'formatted_name': 'ITEM 5'}\n",
            "Extract: 6, Item 6\n",
            "Load: {'id': 6, 'name': 'Item 6', 'formatted_name': 'ITEM 6'}\n"
          ]
        }
      ],
      "source": [
        "class Item:\n",
        "    def __init__(self, id, name):\n",
        "        self.id = id\n",
        "        self.name = name\n",
        "        self.related_items = []\n",
        "\n",
        "    def add_related_item(self, item):\n",
        "        self.related_items.append(item)\n",
        "\n",
        "def perform_etl(start_item, visited=None):\n",
        "    if visited is None:\n",
        "        visited = set()\n",
        "\n",
        "    print(f\"Extract: {start_item.id}, {start_item.name}\")\n",
        "    visited.add(start_item)\n",
        "\n",
        "    # Extract 작업\n",
        "    extracted_data = extract_data(start_item)\n",
        "\n",
        "    # Transform 작업\n",
        "    transformed_data = transform_data(extracted_data)\n",
        "\n",
        "    # Load 작업\n",
        "    load_data(transformed_data)\n",
        "\n",
        "    for related_item in start_item.related_items:\n",
        "        if related_item not in visited:\n",
        "            perform_etl(related_item, visited)\n",
        "\n",
        "def extract_data(item):\n",
        "    # 상품 데이터를 추출하는 로직\n",
        "    extracted_data = {\n",
        "        \"id\": item.id,\n",
        "        \"name\": item.name\n",
        "    }\n",
        "    return extracted_data\n",
        "\n",
        "def transform_data(data):\n",
        "    # 추출된 데이터를 변환하는 로직\n",
        "    transformed_data = {\n",
        "        \"id\": data[\"id\"],\n",
        "        \"name\": data[\"name\"],\n",
        "        \"formatted_name\": data[\"name\"].upper()\n",
        "    }\n",
        "    return transformed_data\n",
        "\n",
        "def load_data(data):\n",
        "    # 변환된 데이터를 로드하는 로직\n",
        "    print(\"Load:\", data)\n",
        "\n",
        "# 이커머스 ETL 예시\n",
        "# 상품 데이터 생성\n",
        "item_1 = Item(1, 'Item 1')\n",
        "item_2 = Item(2, 'Item 2')\n",
        "item_3 = Item(3, 'Item 3')\n",
        "item_4 = Item(4, 'Item 4')\n",
        "item_5 = Item(5, 'Item 5')\n",
        "item_6 = Item(6, 'Item 6')\n",
        "\n",
        "# 상품과 관련된 상품 설정\n",
        "item_1.add_related_item(item_2)\n",
        "item_1.add_related_item(item_3)\n",
        "item_2.add_related_item(item_4)\n",
        "item_3.add_related_item(item_5)\n",
        "item_3.add_related_item(item_6)\n",
        "\n",
        "start_item = item_1  # 시작 상품\n",
        "\n",
        "perform_etl(start_item)\n"
      ]
    },
    {
      "cell_type": "markdown",
      "metadata": {
        "id": "YHvrCWrZhiWf"
      },
      "source": [
        "위의 코드는 이커머스에서 더 복잡한 ETL 작업을 처리하는 예시입니다.\n",
        "\n",
        "Item 클래스는 상품을 나타내며, perform_etl 함수는 시작 상품을 입력으로 받아 DFS 알고리즘을 사용하여 ETL 작업을 수행합니다.\n",
        "\n",
        "extract_data, transform_data, load_data 함수는 각각 추출, 변환, 로드 작업을 처리합니다.\n",
        "\n",
        "이를 통해 이커머스 데이터의 ETL 작업에 DFS 알고리즘을 활용할 수 있으며, 추출, 변환, 로드 로직을 더 복잡하게 처리할 수 있습니다.\n",
        "\n",
        "\n",
        "\n",
        "\n"
      ]
    },
    {
      "cell_type": "code",
      "execution_count": null,
      "metadata": {
        "id": "RquNi7SChghz"
      },
      "outputs": [],
      "source": []
    }
  ],
  "metadata": {
    "colab": {
      "collapsed_sections": [
        "qI0Fvtm-Naxt"
      ],
      "provenance": [],
      "toc_visible": true
    },
    "kernelspec": {
      "display_name": "Python 3",
      "name": "python3"
    },
    "language_info": {
      "codemirror_mode": {
        "name": "ipython",
        "version": 3
      },
      "file_extension": ".py",
      "mimetype": "text/x-python",
      "name": "python",
      "nbconvert_exporter": "python",
      "pygments_lexer": "ipython3",
      "version": "3.8.16"
    }
  },
  "nbformat": 4,
  "nbformat_minor": 0
}
