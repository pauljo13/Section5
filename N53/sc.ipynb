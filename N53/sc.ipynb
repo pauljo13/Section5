{
 "cells": [
  {
   "cell_type": "code",
   "execution_count": 8,
   "metadata": {},
   "outputs": [
    {
     "name": "stdout",
     "output_type": "stream",
     "text": [
      "결과값 : /nb19cfa3a0f7cef07dc1dd1604cee0a49c57d0e1a4f1baa864ba1c7c2229b147f\n",
      "결과값 : \n",
      "b19cfa3a0f7cef07dc1dd1604cee0a49c57d0e1a4f1baa864ba1c7c2229b147f\n"
     ]
    }
   ],
   "source": [
    "import hashlib\n",
    "\n",
    "def sha_hash_function():\n",
    "  str = 'Test Name'\n",
    "  h = hashlib.sha256(str.encode())\n",
    "  print(f'결과값 : /n{h.hexdigest()}')\n",
    "  return print(f'결과값 : \\n{h.hexdigest()}')\n",
    "\n",
    "\n",
    "sha_hash_function()\n"
   ]
  },
  {
   "cell_type": "code",
   "execution_count": null,
   "metadata": {},
   "outputs": [],
   "source": []
  }
 ],
 "metadata": {
  "kernelspec": {
   "display_name": "model5",
   "language": "python",
   "name": "python3"
  },
  "language_info": {
   "codemirror_mode": {
    "name": "ipython",
    "version": 3
   },
   "file_extension": ".py",
   "mimetype": "text/x-python",
   "name": "python",
   "nbconvert_exporter": "python",
   "pygments_lexer": "ipython3",
   "version": "3.8.16"
  },
  "orig_nbformat": 4
 },
 "nbformat": 4,
 "nbformat_minor": 2
}
