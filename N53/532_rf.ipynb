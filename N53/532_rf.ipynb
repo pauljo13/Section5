{
  "cells": [
    {
      "cell_type": "code",
      "execution_count": null,
      "metadata": {
        "id": "OgZgZ438VHeM"
      },
      "outputs": [],
      "source": []
    },
    {
      "cell_type": "markdown",
      "metadata": {
        "id": "h4UgW7VmVZ93"
      },
      "source": [
        "### 자료구조와 그래프"
      ]
    },
    {
      "cell_type": "markdown",
      "metadata": {
        "id": "2UrZH-1KVbp1"
      },
      "source": [
        "다음은 파이썬으로 자료구조와 그래프를 구현하는 간단한 예제입니다. 이 예제에서는 그래프를 인접 리스트로 표현합니다.\n",
        "\n"
      ]
    },
    {
      "cell_type": "code",
      "execution_count": 1,
      "metadata": {
        "colab": {
          "base_uri": "https://localhost:8080/"
        },
        "id": "bD3eOxv3VcvU",
        "outputId": "4e825292-a34d-47d6-ba96-65cba7a6f8a7"
      },
      "outputs": [
        {
          "name": "stdout",
          "output_type": "stream",
          "text": [
            "[2, 3]\n",
            "[3, 4]\n",
            "[4]\n",
            "[1]\n"
          ]
        }
      ],
      "source": [
        "class Graph:\n",
        "    def __init__(self):\n",
        "        self.graph = {}\n",
        "\n",
        "    def add_edge(self, u, v):\n",
        "        if u in self.graph:\n",
        "            self.graph[u].append(v)\n",
        "        else:\n",
        "            self.graph[u] = [v]\n",
        "\n",
        "    def get_neighbors(self, u):\n",
        "        if u in self.graph:\n",
        "            return self.graph[u]\n",
        "        else:\n",
        "            return []\n",
        "\n",
        "# 그래프 생성\n",
        "graph = Graph()\n",
        "\n",
        "# 정점과 간선 추가\n",
        "graph.add_edge(1, 2)\n",
        "graph.add_edge(1, 3)\n",
        "graph.add_edge(2, 3)\n",
        "graph.add_edge(2, 4)\n",
        "graph.add_edge(3, 4)\n",
        "graph.add_edge(4, 1)\n",
        "\n",
        "# 각 정점의 이웃 정점 확인\n",
        "print(graph.get_neighbors(1))  # 출력: [2, 3]\n",
        "print(graph.get_neighbors(2))  # 출력: [3, 4]\n",
        "print(graph.get_neighbors(3))  # 출력: [4]\n",
        "print(graph.get_neighbors(4))  # 출력: [1]\n"
      ]
    },
    {
      "cell_type": "markdown",
      "metadata": {
        "id": "eUeh00VzVeiD"
      },
      "source": [
        "위의 코드에서 Graph 클래스는 그래프를 나타내는 클래스입니다.\n",
        "\n",
        "add_edge 메서드를 사용하여 간선을 추가할 수 있으며, get_neighbors 메서드를 사용하여 특정 정점의 이웃 정점들을 얻을 수 있습니다.\n",
        "\n",
        "\n",
        "이 예제는 방향성이 있는 그래프를 다루고 있으며, 각 정점에 대해 이웃 정점들을 인접 리스트로 저장하고 있습니다.\n",
        "\n",
        "\n",
        "\n",
        "\n",
        "\n"
      ]
    },
    {
      "cell_type": "markdown",
      "metadata": {
        "id": "_GCZ-fJ1W6TD"
      },
      "source": [
        "### 그래프와 트리"
      ]
    },
    {
      "cell_type": "code",
      "execution_count": 2,
      "metadata": {
        "colab": {
          "base_uri": "https://localhost:8080/"
        },
        "id": "YTwqVutrW8QE",
        "outputId": "b1508d1c-d6ee-4945-af86-b87ca5c75b23"
      },
      "outputs": [
        {
          "name": "stdout",
          "output_type": "stream",
          "text": [
            "그래프\n",
            "사이클 여부: True\n",
            "트리 여부: False\n",
            "\n",
            "트리\n",
            "사이클 여부: False\n",
            "트리 여부: True\n"
          ]
        }
      ],
      "source": [
        "class Graph:\n",
        "    def __init__(self):\n",
        "        self.graph = {}\n",
        "\n",
        "    def add_edge(self, u, v):\n",
        "        if u in self.graph:\n",
        "            self.graph[u].append(v)\n",
        "        else:\n",
        "            self.graph[u] = [v]\n",
        "\n",
        "    def is_cyclic_util(self, v, visited, parent):\n",
        "        visited[v] = True\n",
        "\n",
        "        for neighbor in self.graph.get(v, []):\n",
        "            if neighbor not in visited:\n",
        "                if self.is_cyclic_util(neighbor, visited, v):\n",
        "                    return True\n",
        "            elif parent != neighbor:\n",
        "                return True\n",
        "\n",
        "        return False\n",
        "\n",
        "    def is_cyclic(self):\n",
        "        visited = {}\n",
        "\n",
        "        for v in self.graph:\n",
        "            if v not in visited:\n",
        "                if self.is_cyclic_util(v, visited, -1):\n",
        "                    return True\n",
        "\n",
        "        return False\n",
        "\n",
        "    def is_tree(self):\n",
        "        visited = {}\n",
        "\n",
        "        if self.is_cyclic():\n",
        "            return False\n",
        "\n",
        "        start_node = next(iter(self.graph.keys()))\n",
        "        visited[start_node] = True\n",
        "        queue = [start_node]\n",
        "\n",
        "        while queue:\n",
        "            node = queue.pop(0)\n",
        "\n",
        "            for neighbor in self.graph.get(node, []):\n",
        "                if neighbor in visited:\n",
        "                    return False\n",
        "                visited[neighbor] = True\n",
        "                queue.append(neighbor)\n",
        "\n",
        "        return True\n",
        "\n",
        "\n",
        "# 그래프 생성\n",
        "graph = Graph()\n",
        "\n",
        "# 간선 추가\n",
        "graph.add_edge(1, 2)\n",
        "graph.add_edge(1, 3)\n",
        "graph.add_edge(2, 3)\n",
        "graph.add_edge(2, 4)\n",
        "graph.add_edge(3, 4)\n",
        "graph.add_edge(4, 1)\n",
        "\n",
        "# 그래프의 특징 확인\n",
        "print(\"그래프\")\n",
        "print(\"사이클 여부:\", graph.is_cyclic())  # 출력: True\n",
        "print(\"트리 여부:\", graph.is_tree())  # 출력: False\n",
        "\n",
        "# 트리 생성\n",
        "tree = Graph()\n",
        "\n",
        "# 간선 추가\n",
        "tree.add_edge(1, 2)\n",
        "tree.add_edge(1, 3)\n",
        "tree.add_edge(2, 4)\n",
        "tree.add_edge(3, 5)\n",
        "\n",
        "# 트리의 특징 확인\n",
        "print(\"\\n트리\")\n",
        "print(\"사이클 여부:\", tree.is_cyclic())  # 출력: False\n",
        "print(\"트리 여부:\", tree.is_tree())  # 출력: True\n"
      ]
    },
    {
      "cell_type": "markdown",
      "metadata": {
        "id": "x0ITkv-zXAKt"
      },
      "source": [
        "위의 코드에서 Graph 클래스는 그래프를 나타내는 클래스입니다.\n",
        "\n",
        "add_edge 메서드를 사용하여 간선을 추가할 수 있으며, is_cyclic 메서드는 그래프에 사이클이 있는지 여부를 확인하고, is_tree 메서드는 그래프가 트리인지 여부를 확인합니다.\n",
        "\n",
        "위의 예제에서 그래프는 방향성이 있는 그래프로 가정하고, 그래프에 사이클이 있으면 is_cyclic 메서드는 True를 반환하고, 그래프가 트리인 경우 is_tree 메서드는 True를 반환합니다.\n",
        "\n",
        "\n",
        "\n",
        "\n",
        "\n"
      ]
    },
    {
      "cell_type": "markdown",
      "metadata": {
        "id": "FgZ6NKaGZ2-s"
      },
      "source": [
        "### 그래프의 유형"
      ]
    },
    {
      "cell_type": "markdown",
      "metadata": {
        "id": "iLJhgV59Z6L2"
      },
      "source": [
        "무방향 그래프 (Undirected Graph)\n"
      ]
    },
    {
      "cell_type": "code",
      "execution_count": 3,
      "metadata": {
        "colab": {
          "base_uri": "https://localhost:8080/"
        },
        "id": "bRFMl963Z38D",
        "outputId": "50c8c591-9855-40a8-f4b0-a4ac09f4b94b"
      },
      "outputs": [
        {
          "name": "stdout",
          "output_type": "stream",
          "text": [
            "{1: [2, 3, 4], 2: [1, 3, 4], 3: [1, 2, 4], 4: [2, 3, 1]}\n"
          ]
        }
      ],
      "source": [
        "class UndirectedGraph:\n",
        "    def __init__(self):\n",
        "        self.graph = {}\n",
        "\n",
        "    def add_edge(self, u, v):\n",
        "        if u in self.graph:\n",
        "            self.graph[u].append(v)\n",
        "        else:\n",
        "            self.graph[u] = [v]\n",
        "\n",
        "        if v in self.graph:\n",
        "            self.graph[v].append(u)\n",
        "        else:\n",
        "            self.graph[v] = [u]\n",
        "\n",
        "# 무방향 그래프 생성\n",
        "graph = UndirectedGraph()\n",
        "\n",
        "# 간선 추가\n",
        "graph.add_edge(1, 2)\n",
        "graph.add_edge(1, 3)\n",
        "graph.add_edge(2, 3)\n",
        "graph.add_edge(2, 4)\n",
        "graph.add_edge(3, 4)\n",
        "graph.add_edge(4, 1)\n",
        "\n",
        "# 그래프 확인\n",
        "print(graph.graph)\n"
      ]
    },
    {
      "cell_type": "markdown",
      "metadata": {
        "id": "ZbKgL3uvZ9Pq"
      },
      "source": [
        "위의 코드는 무방향 그래프를 나타내는 UndirectedGraph 클래스를 구현한 예제입니다.\n",
        "\n",
        "add_edge 메서드를 사용하여 간선을 추가할 수 있으며, 간선 추가 시 양쪽 정점 간에 서로를 이웃으로 추가합니다.\n",
        "\n",
        "그래프의 내용은 graph.graph를 통해 확인할 수 있습니다.\n",
        "\n"
      ]
    },
    {
      "cell_type": "markdown",
      "metadata": {
        "id": "M_byT33NaBb6"
      },
      "source": [
        "방향 그래프 (Directed Graph)\n"
      ]
    },
    {
      "cell_type": "code",
      "execution_count": 4,
      "metadata": {
        "colab": {
          "base_uri": "https://localhost:8080/"
        },
        "id": "yiULBiiqaCdr",
        "outputId": "755f86ec-1549-4d52-a16d-2783490f7f0c"
      },
      "outputs": [
        {
          "name": "stdout",
          "output_type": "stream",
          "text": [
            "{1: [2, 3], 2: [3, 4], 3: [4], 4: [1]}\n"
          ]
        }
      ],
      "source": [
        "class DirectedGraph:\n",
        "    def __init__(self):\n",
        "        self.graph = {}\n",
        "\n",
        "    def add_edge(self, u, v):\n",
        "        if u in self.graph:\n",
        "            self.graph[u].append(v)\n",
        "        else:\n",
        "            self.graph[u] = [v]\n",
        "\n",
        "# 방향 그래프 생성\n",
        "graph = DirectedGraph()\n",
        "\n",
        "# 간선 추가\n",
        "graph.add_edge(1, 2)\n",
        "graph.add_edge(1, 3)\n",
        "graph.add_edge(2, 3)\n",
        "graph.add_edge(2, 4)\n",
        "graph.add_edge(3, 4)\n",
        "graph.add_edge(4, 1)\n",
        "\n",
        "# 그래프 확인\n",
        "print(graph.graph)\n"
      ]
    },
    {
      "cell_type": "markdown",
      "metadata": {
        "id": "d9U3xXlWaEMd"
      },
      "source": [
        "위의 코드는 방향 그래프를 나타내는 DirectedGraph 클래스를 구현한 예제입니다.\n",
        "\n",
        "add_edge 메서드를 사용하여 간선을 추가할 수 있으며, 간선 추가 시 시작 정점에서 도착 정점으로 방향이 존재함을 나타냅니다.\n",
        "\n",
        "그래프의 내용은 graph.graph를 통해 확인할 수 있습니다.\n",
        "\n"
      ]
    },
    {
      "cell_type": "markdown",
      "metadata": {
        "id": "Bo08nRWMa0oQ"
      },
      "source": [
        "### 사례"
      ]
    },
    {
      "cell_type": "markdown",
      "metadata": {
        "id": "20VTzBrSa4kV"
      },
      "source": [
        "그래프의 유형에 따른 이커머스 데이터 분석 사례를 예시로 들어보겠습니다.\n",
        "\n",
        "아래의 코드는 가중치 없는 무방향 그래프를 사용하여 이커머스 웹사이트에서의 상품 간 관련성을 분석하는 예제입니다.\n",
        "\n"
      ]
    },
    {
      "cell_type": "code",
      "execution_count": 13,
      "metadata": {
        "colab": {
          "base_uri": "https://localhost:8080/"
        },
        "id": "WrXmAigDVdB2",
        "outputId": "0ef9f7f4-0b5c-4fb2-f2c7-60dc590c017e"
      },
      "outputs": [
        {
          "name": "stdout",
          "output_type": "stream",
          "text": [
            "Product P1와 관련된 상품들: ['P2', 'P3', 'P4', 'P2', 'P3', 'P4']\n"
          ]
        }
      ],
      "source": [
        "from collections import defaultdict\n",
        "\n",
        "class EcommerceGraph:\n",
        "    def __init__(self):\n",
        "        self.graph = defaultdict(list)\n",
        "\n",
        "    def add_product(self, product_id, related_products):\n",
        "        for related_product in related_products:\n",
        "            self.graph[product_id].append(related_product)\n",
        "            self.graph[related_product].append(product_id)\n",
        "\n",
        "    def get_related_products(self, product_id):\n",
        "        return self.graph[product_id]\n",
        "\n",
        "# 이커머스 그래프 생성\n",
        "ecommerce_graph = EcommerceGraph()\n",
        "\n",
        "# 상품간 관련성 추가\n",
        "ecommerce_graph.add_product(\"P1\", [\"P2\", \"P3\", \"P4\"])\n",
        "ecommerce_graph.add_product(\"P2\", [\"P1\", \"P3\"])\n",
        "ecommerce_graph.add_product(\"P3\", [\"P1\", \"P2\", \"P4\"])\n",
        "ecommerce_graph.add_product(\"P4\", [\"P1\", \"P3\", \"P5\"])\n",
        "ecommerce_graph.add_product(\"P5\", [\"P4\"])\n",
        "\n",
        "# 상품 간 관련성 분석\n",
        "product_id = \"P1\"\n",
        "related_products = ecommerce_graph.get_related_products(product_id)\n",
        "print(f\"Product {product_id}와 관련된 상품들: {related_products}\")\n"
      ]
    },
    {
      "cell_type": "markdown",
      "metadata": {
        "id": "FStJJJX9a8dP"
      },
      "source": [
        "위의 코드 예제는 이커머스 웹사이트에서의 상품 간 관련성을 분석하기 위해 가중치 없는 무방향 그래프를 활용한 것입니다.\n",
        "\n",
        "EcommerceGraph 클래스는 add_product 메서드를 통해 상품과 관련된 상품들의 관계를 그래프에 추가하고,\n",
        "\n",
        "get_related_products 메서드를 통해 특정 상품과 관련된 상품들을 얻습니다.\n",
        "\n",
        "예시에서는 add_product 메서드를 사용하여 상품 간 관련성을 추가하고,\n",
        "\n",
        "\"P1\" 상품과 관련된 상품들을 get_related_products 메서드를 통해 얻어와 출력합니다.\n",
        "\n"
      ]
    },
    {
      "cell_type": "markdown",
      "metadata": {
        "id": "pZkf3VoqjoBi"
      },
      "source": [
        "### 사례2"
      ]
    },
    {
      "cell_type": "markdown",
      "metadata": {
        "id": "X1-5558xjpVi"
      },
      "source": [
        "그래프 자료구조는 다양한 데이터 분석 사례에 유용하게 활용될 수 있습니다. 아래에 몇 가지 그래프 자료구조 활용 사례를 소개하겠습니다.\n",
        "\n",
        "\n",
        "1. 소셜 네트워크 분석: 그래프를 사용하여 소셜 네트워크 분석을 수행할 수 있습니다.\n",
        "\n",
        "- 예를 들어, 사용자 간의 친구 관계, 네트워크 내에서의 정보 전파 패턴, 중심성 분석 등을 그래프로 모델링하고 분석할 수 있습니다.\n",
        "\n",
        "\n",
        "2. 추천 시스템: 그래프를 활용하여 추천 시스템을 구현할 수 있습니다.\n",
        "\n",
        "- 사용자와 아이템을 정점으로, 사용자-아이템 관계를 간선으로 표현하여 사용자들 간의 유사도, 아이템 간의 연관성을 분석하고 추천 알고리즘을 개발할 수 있습니다.\n",
        "\n",
        "\n",
        "3. 경로 탐색: 그래프를 사용하여 경로 탐색 문제를 해결할 수 있습니다.\n",
        "\n",
        "- 예를 들어, 네트워크 상에서 최단 경로, 최소 비용 경로, 옵티마이저의 동작 경로 등을 찾는 문제에 그래프 알고리즘을 적용할 수 있습니다.\n",
        "\n",
        "\n",
        "\n",
        "이외에도 그래프 자료구조는 네트워크 분석, 지리 정보 시스템, 생물 정보학, 전자 상거래 등 다양한 데이터 분석 분야에서 활용될 수 있습니다.\n",
        "\n",
        "데이터의 특성과 문제에 따라 그래프 자료구조를 적절히 활용하여 데이터 분석을 수행할 수 있습니다."
      ]
    },
    {
      "cell_type": "code",
      "execution_count": 14,
      "metadata": {
        "colab": {
          "base_uri": "https://localhost:8080/"
        },
        "id": "E9OOimnbj4k2",
        "outputId": "2fc3da11-c227-454c-bdc2-bda9b942397a"
      },
      "outputs": [
        {
          "name": "stdout",
          "output_type": "stream",
          "text": [
            "['Bob']\n",
            "['Alice', 'Charlie']\n",
            "['Bob', 'Dave']\n",
            "['Charlie']\n"
          ]
        }
      ],
      "source": [
        "class SocialNetworkGraph:\n",
        "    def __init__(self):\n",
        "        self.graph = {}\n",
        "\n",
        "    def add_user(self, user):\n",
        "        if user not in self.graph:\n",
        "            self.graph[user] = []\n",
        "\n",
        "    def add_friendship(self, user1, user2):\n",
        "        if user1 in self.graph and user2 in self.graph:\n",
        "            self.graph[user1].append(user2)\n",
        "            self.graph[user2].append(user1)\n",
        "\n",
        "    def get_friends(self, user):\n",
        "        if user in self.graph:\n",
        "            return self.graph[user]\n",
        "        else:\n",
        "            return []\n",
        "\n",
        "# 소셜 네트워크 그래프 생성\n",
        "social_network = SocialNetworkGraph()\n",
        "\n",
        "# 사용자 추가\n",
        "social_network.add_user(\"Alice\")\n",
        "social_network.add_user(\"Bob\")\n",
        "social_network.add_user(\"Charlie\")\n",
        "social_network.add_user(\"Dave\")\n",
        "\n",
        "# 친구 관계 추가\n",
        "social_network.add_friendship(\"Alice\", \"Bob\")\n",
        "social_network.add_friendship(\"Bob\", \"Charlie\")\n",
        "social_network.add_friendship(\"Charlie\", \"Dave\")\n",
        "\n",
        "# 친구 확인\n",
        "print(social_network.get_friends(\"Alice\"))  # 출력: ['Bob']\n",
        "print(social_network.get_friends(\"Bob\"))  # 출력: ['Alice', 'Charlie']\n",
        "print(social_network.get_friends(\"Charlie\"))  # 출력: ['Bob', 'Dave']\n",
        "print(social_network.get_friends(\"Dave\"))  # 출력: ['Charlie']\n"
      ]
    },
    {
      "cell_type": "code",
      "execution_count": 17,
      "metadata": {
        "colab": {
          "base_uri": "https://localhost:8080/"
        },
        "id": "kT-Dmb2vkCDd",
        "outputId": "dc334674-4a83-4d50-ab9c-3548b266a814"
      },
      "outputs": [
        {
          "name": "stdout",
          "output_type": "stream",
          "text": [
            "최단 경로: ['A', 'B', 'D', 'E']\n"
          ]
        }
      ],
      "source": [
        "class PathFinderGraph:\n",
        "    def __init__(self):\n",
        "        self.graph = {}\n",
        "\n",
        "    def add_vertex(self, vertex):\n",
        "        if vertex not in self.graph:\n",
        "            self.graph[vertex] = []\n",
        "\n",
        "    def add_edge(self, u, v):\n",
        "        if u in self.graph and v in self.graph:\n",
        "            self.graph[u].append(v)\n",
        "\n",
        "    def find_shortest_path(self, start, end):\n",
        "        visited = set()\n",
        "        queue = [[start]]\n",
        "\n",
        "        if start == end:\n",
        "            return [start]\n",
        "\n",
        "        while queue:\n",
        "            path = queue.pop(0)\n",
        "            node = path[-1]\n",
        "\n",
        "            if node not in visited:\n",
        "                neighbors = self.graph[node]\n",
        "                for neighbor in neighbors:\n",
        "                    new_path = list(path)\n",
        "                    new_path.append(neighbor)\n",
        "                    queue.append(new_path)\n",
        "\n",
        "                    if neighbor == end:\n",
        "                        return new_path\n",
        "\n",
        "                visited.add(node)\n",
        "\n",
        "        return []\n",
        "\n",
        "# 경로 탐색 그래프 생성\n",
        "path_finder = PathFinderGraph()\n",
        "\n",
        "# 정점 추가\n",
        "path_finder.add_vertex(\"A\")\n",
        "path_finder.add_vertex(\"B\")\n",
        "path_finder.add_vertex(\"C\")\n",
        "path_finder.add_vertex(\"D\")\n",
        "path_finder.add_vertex(\"E\")\n",
        "\n",
        "# 간선 추가\n",
        "path_finder.add_edge(\"A\", \"B\")\n",
        "path_finder.add_edge(\"A\", \"C\")\n",
        "path_finder.add_edge(\"B\", \"C\")\n",
        "path_finder.add_edge(\"B\", \"D\")\n",
        "path_finder.add_edge(\"C\", \"D\")\n",
        "path_finder.add_edge(\"D\", \"E\")\n",
        "\n",
        "# 최단 경로 탐색\n",
        "start = \"A\"\n",
        "end = \"E\"\n",
        "shortest_path = path_finder.find_shortest_path(start, end)\n",
        "print(f\"최단 경로: {shortest_path}\")  # 출력: ['A', 'C', 'D', 'E']\n"
      ]
    },
    {
      "cell_type": "markdown",
      "metadata": {
        "id": "xx_Mpa0HmC9c"
      },
      "source": [
        "### 사례3"
      ]
    },
    {
      "cell_type": "markdown",
      "metadata": {
        "id": "87Jv7Od3mD_z"
      },
      "source": [
        "카카오톡은 실시간 메시징 애플리케이션으로, 대화, 친구 목록, 그룹 채팅, 알림 등 다양한 기능을 제공합니다. 내부적으로 그래프 자료구조를 활용하여 다음과 같은 기능들을 구현할 수 있습니다:\n",
        "\n",
        "1. 친구 관계 관리: 카카오톡에서는 사용자들 간의 친구 관계를 관리합니다.\n",
        "\n",
        "- 이를 그래프 자료구조로 모델링하면, 사용자를 정점으로, 친구 관계를 간선으로 표현할 수 있습니다. 이를 통해 친구 목록 조회, 친구 추천, 메시지 전송 등의 기능을 구현할 수 있습니다.\n",
        "\n",
        "2. 그룹 채팅: 그룹 채팅은 카카오톡에서 여러 사용자들이 함께 대화할 수 있는 기능입니다.\n",
        "\n",
        "- 그룹 채팅은 그래프 자료구조로 표현할 수 있으며, 사용자들을 정점으로, 그룹 채팅에 참여하는 사용자들 간의 관계를 간선으로 표현할 수 있습니다. 그래프를 활용하여 그룹 채팅 참여자 관리, 메시지 전송, 멤버 초대 등의 기능을 구현할 수 있습니다.\n",
        "\n",
        "3. 알림 기능: 카카오톡은 사용자에게 다양한 알림을 제공합니다.\n",
        "\n",
        "- 알림은 그래프 자료구조를 활용하여 구현될 수 있습니다. 사용자를 정점으로, 알림과 사용자 사이의 관계를 간선으로 표현할 수 있습니다. 그래프를 활용하여 알림 관리, 알림 푸시, 읽지 않은 알림 표시 등의 기능을 구현할 수 있습니다.\n"
      ]
    },
    {
      "cell_type": "markdown",
      "metadata": {
        "id": "D42cL8hOmPt8"
      },
      "source": [
        "#### 아래의 코드는 그래프 자료구조를 사용하여 친구 관계 관리를 구현하는 예시입니다."
      ]
    },
    {
      "cell_type": "code",
      "execution_count": 21,
      "metadata": {
        "colab": {
          "base_uri": "https://localhost:8080/"
        },
        "id": "ugVoGeu0mSy-",
        "outputId": "04b6084c-ed3d-4e0f-810c-a105297927d4"
      },
      "outputs": [
        {
          "name": "stdout",
          "output_type": "stream",
          "text": [
            "['Bob']\n",
            "['Alice', 'Charlie']\n",
            "['Bob', 'Dave']\n",
            "['Charlie']\n"
          ]
        }
      ],
      "source": [
        "class KakaoTalkGraph:\n",
        "    def __init__(self):\n",
        "        self.graph = {}\n",
        "\n",
        "    def add_user(self, user):\n",
        "        if user not in self.graph:\n",
        "            self.graph[user] = []\n",
        "\n",
        "    def add_friendship(self, user1, user2):\n",
        "        if user1 in self.graph and user2 in self.graph:\n",
        "            self.graph[user1].append(user2)\n",
        "            self.graph[user2].append(user1)\n",
        "\n",
        "    def get_friends(self, user):\n",
        "        if user in self.graph:\n",
        "            return self.graph[user]\n",
        "        else:\n",
        "            return []\n",
        "\n",
        "# 카카오톡 그래프 생성\n",
        "kakao_graph = KakaoTalkGraph()\n",
        "\n",
        "# 사용자 추가\n",
        "kakao_graph.add_user(\"Alice\")\n",
        "kakao_graph.add_user(\"Bob\")\n",
        "kakao_graph.add_user(\"Charlie\")\n",
        "kakao_graph.add_user(\"Dave\")\n",
        "\n",
        "# 친구 관계 추가\n",
        "kakao_graph.add_friendship(\"Alice\", \"Bob\")\n",
        "kakao_graph.add_friendship(\"Bob\", \"Charlie\")\n",
        "kakao_graph.add_friendship(\"Charlie\", \"Dave\")\n",
        "\n",
        "# 친구 확인\n",
        "print(kakao_graph.get_friends(\"Alice\"))  # 출력: ['Bob']\n",
        "print(kakao_graph.get_friends(\"Bob\"))  # 출력: ['Alice', 'Charlie']\n",
        "print(kakao_graph.get_friends(\"Charlie\"))  # 출력: ['Bob', 'Dave']\n",
        "print(kakao_graph.get_friends(\"Dave\"))  # 출력: ['Charlie']\n"
      ]
    },
    {
      "cell_type": "markdown",
      "metadata": {
        "id": "z7gpu92pmVs3"
      },
      "source": [
        "위의 코드는 KakaoTalkGraph 클래스를 정의하여 카카오톡의 친구 관계 관리를 구현합니다.\n",
        "\n",
        "add_user 메서드를 사용하여 사용자를 추가하고, add_friendship 메서드를 사용하여 친구 관계를 추가합니다.\n",
        "\n",
        "get_friends 메서드는 특정 사용자의 친구 목록을 반환합니다.\n",
        "\n",
        "실행하면 각 사용자의 친구 목록이 출력됩니다.\n",
        "\n"
      ]
    },
    {
      "cell_type": "code",
      "execution_count": null,
      "metadata": {
        "id": "DcPufRjCa6SE"
      },
      "outputs": [],
      "source": []
    }
  ],
  "metadata": {
    "colab": {
      "provenance": [],
      "toc_visible": true
    },
    "kernelspec": {
      "display_name": "Python 3",
      "name": "python3"
    },
    "language_info": {
      "codemirror_mode": {
        "name": "ipython",
        "version": 3
      },
      "file_extension": ".py",
      "mimetype": "text/x-python",
      "name": "python",
      "nbconvert_exporter": "python",
      "pygments_lexer": "ipython3",
      "version": "3.8.16"
    }
  },
  "nbformat": 4,
  "nbformat_minor": 0
}
