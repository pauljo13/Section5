{
 "cells": [
  {
   "attachments": {},
   "cell_type": "markdown",
   "metadata": {},
   "source": [
    "# Hash Table"
   ]
  },
  {
   "cell_type": "code",
   "execution_count": 4,
   "metadata": {},
   "outputs": [
    {
     "name": "stdout",
     "output_type": "stream",
     "text": [
      "{1: '\\x01', 2: '\\x02', 3: '\\x03', 4: '\\x04', 5: '\\x05', 6: '\\x06', 7: '\\x07', 8: '\\x08', 9: '\\t', 10: '\\n', 11: '\\x0b', 12: '\\x0c', 13: '\\r', 14: '\\x0e', 15: '\\x0f', 16: '\\x10', 17: '\\x11', 18: '\\x12', 19: '\\x13', 20: '\\x14', 21: '\\x15', 22: '\\x16', 23: '\\x17', 24: '\\x18', 25: '\\x19', 26: '\\x1a', 27: '\\x1b', 28: '\\x1c', 29: '\\x1d', 30: '\\x1e', 31: '\\x1f', 32: ' ', 33: '!', 34: '\"', 35: '#', 36: '$', 37: '%', 38: '&', 39: \"'\", 40: '(', 41: ')', 42: '*', 43: '+', 44: ',', 45: '-', 46: '.', 47: '/', 48: '0', 49: '1', 50: '2', 51: '3', 52: '4', 53: '5', 54: '6', 55: '7', 56: '8', 57: '9', 58: ':', 59: ';', 60: '<', 61: '=', 62: '>', 63: '?', 64: '@', 65: 'A', 66: 'B', 67: 'C', 68: 'D', 69: 'E', 70: 'F', 71: 'G', 72: 'H', 73: 'I', 74: 'J', 75: 'K', 76: 'L', 77: 'M', 78: 'N', 79: 'O', 80: 'P', 81: 'Q', 82: 'R', 83: 'S', 84: 'T', 85: 'U', 86: 'V', 87: 'W', 88: 'X', 89: 'Y', 90: 'Z'}\n"
     ]
    }
   ],
   "source": [
    "import time\n",
    "test_dict = {i:chr(i) for i in range(1,91)} #chr() 정수를 아스키코드 변환 함수\n",
    "print(test_dict)"
   ]
  },
  {
   "cell_type": "code",
   "execution_count": 9,
   "metadata": {},
   "outputs": [
    {
     "name": "stdout",
     "output_type": "stream",
     "text": [
      "!\n",
      "3\n",
      "Z\n",
      "0.0001010894775390625\n"
     ]
    }
   ],
   "source": [
    "time_1 = time.time()\n",
    "print(test_dict[33])\n",
    "print(test_dict[51])\n",
    "print(test_dict[90])\n",
    "time_2 = time.time()\n",
    "time_interval = time_2 - time_1\n",
    "print(time_interval)"
   ]
  },
  {
   "cell_type": "code",
   "execution_count": 7,
   "metadata": {},
   "outputs": [
    {
     "name": "stdout",
     "output_type": "stream",
     "text": [
      "[(1, '\\x01'), (2, '\\x02'), (3, '\\x03'), (4, '\\x04'), (5, '\\x05'), (6, '\\x06'), (7, '\\x07'), (8, '\\x08'), (9, '\\t'), (10, '\\n'), (11, '\\x0b'), (12, '\\x0c'), (13, '\\r'), (14, '\\x0e'), (15, '\\x0f'), (16, '\\x10'), (17, '\\x11'), (18, '\\x12'), (19, '\\x13'), (20, '\\x14'), (21, '\\x15'), (22, '\\x16'), (23, '\\x17'), (24, '\\x18'), (25, '\\x19'), (26, '\\x1a'), (27, '\\x1b'), (28, '\\x1c'), (29, '\\x1d'), (30, '\\x1e'), (31, '\\x1f'), (32, ' '), (33, '!'), (34, '\"'), (35, '#'), (36, '$'), (37, '%'), (38, '&'), (39, \"'\"), (40, '('), (41, ')'), (42, '*'), (43, '+'), (44, ','), (45, '-'), (46, '.'), (47, '/'), (48, '0'), (49, '1'), (50, '2'), (51, '3'), (52, '4'), (53, '5'), (54, '6'), (55, '7'), (56, '8'), (57, '9'), (58, ':'), (59, ';'), (60, '<'), (61, '='), (62, '>'), (63, '?'), (64, '@'), (65, 'A'), (66, 'B'), (67, 'C'), (68, 'D'), (69, 'E'), (70, 'F'), (71, 'G'), (72, 'H'), (73, 'I'), (74, 'J'), (75, 'K'), (76, 'L'), (77, 'M'), (78, 'N'), (79, 'O'), (80, 'P'), (81, 'Q'), (82, 'R'), (83, 'S'), (84, 'T'), (85, 'U'), (86, 'V'), (87, 'W'), (88, 'X'), (89, 'Y'), (90, 'Z')]\n"
     ]
    }
   ],
   "source": [
    "test_list = [(i,chr(i))for i in range(1,91)]\n",
    "print(test_list)"
   ]
  },
  {
   "cell_type": "code",
   "execution_count": 10,
   "metadata": {},
   "outputs": [
    {
     "name": "stdout",
     "output_type": "stream",
     "text": [
      "!\n",
      "3\n",
      "Z\n",
      "0.00010418891906738281\n"
     ]
    }
   ],
   "source": [
    "def insert(item_list, key, value):\n",
    "    item_list.append((key,value))\n",
    "\n",
    "def search(item_list, key):\n",
    "    for item in item_list:\n",
    "        if item[0] == key:\n",
    "            return item[1]\n",
    "    print('not matching')\n",
    "\n",
    "time_3 = time.time()\n",
    "print(search(test_list, 33))\n",
    "print(search(test_list, 51))\n",
    "print(search(test_list, 90))\n",
    "time_4 = time.time()\n",
    "time_interval_2 = time_4 - time_3\n",
    "print(time_interval_2)"
   ]
  },
  {
   "cell_type": "code",
   "execution_count": 11,
   "metadata": {},
   "outputs": [
    {
     "data": {
      "text/plain": [
       "{'a': 1, 'b': 2, 'c': 3}"
      ]
     },
     "execution_count": 11,
     "metadata": {},
     "output_type": "execute_result"
    }
   ],
   "source": [
    "# 먼저 값이 없는 딕셔너리를 선언한다.\n",
    "dict = {}\n",
    "\n",
    "# 값추가\n",
    "dict['a'] = 1\n",
    "dict['b'] = 2\n",
    "dict['c'] = 3\n",
    "dict"
   ]
  },
  {
   "cell_type": "code",
   "execution_count": 12,
   "metadata": {},
   "outputs": [
    {
     "data": {
      "text/plain": [
       "3"
      ]
     },
     "execution_count": 12,
     "metadata": {},
     "output_type": "execute_result"
    }
   ],
   "source": [
    "dict['c']"
   ]
  },
  {
   "cell_type": "code",
   "execution_count": 13,
   "metadata": {},
   "outputs": [
    {
     "name": "stdout",
     "output_type": "stream",
     "text": [
      "1\n",
      "2\n",
      "3\n",
      "(키: a, 값: 1)\n",
      "(키: b, 값: 2)\n",
      "(키: c, 값: 3)\n"
     ]
    }
   ],
   "source": [
    "for key in dict.keys():\n",
    "    print(dict[key])\n",
    "for key, value in dict.items():\n",
    "    print(f'(키: {key}, 값: {value})')"
   ]
  },
  {
   "attachments": {},
   "cell_type": "markdown",
   "metadata": {},
   "source": [
    "## 기본 해시함수"
   ]
  },
  {
   "cell_type": "code",
   "execution_count": 14,
   "metadata": {},
   "outputs": [
    {
     "name": "stdout",
     "output_type": "stream",
     "text": [
      "b'hello'\n"
     ]
    }
   ],
   "source": [
    "bytes_representaion = \"hello\".encode() #지정 인코딩 방식 사용해, 문자열 인코딩 -> \n",
    "print(bytes_representaion)"
   ]
  },
  {
   "cell_type": "code",
   "execution_count": 15,
   "metadata": {},
   "outputs": [
    {
     "name": "stdout",
     "output_type": "stream",
     "text": [
      "104\n",
      "101\n",
      "108\n",
      "108\n",
      "111\n"
     ]
    }
   ],
   "source": [
    "for byte in bytes_representaion:\n",
    "    print(byte)"
   ]
  },
  {
   "cell_type": "code",
   "execution_count": 16,
   "metadata": {},
   "outputs": [
    {
     "name": "stdout",
     "output_type": "stream",
     "text": [
      "532\n"
     ]
    }
   ],
   "source": [
    "sum = 0\n",
    "for byte in bytes_representaion:\n",
    "    sum += byte\n",
    "print(sum)"
   ]
  },
  {
   "cell_type": "code",
   "execution_count": 18,
   "metadata": {},
   "outputs": [
    {
     "name": "stdout",
     "output_type": "stream",
     "text": [
      "sum :  944\n",
      "list_size 5\n",
      "sum % list_size :  4\n"
     ]
    },
    {
     "data": {
      "text/plain": [
       "4"
      ]
     },
     "execution_count": 18,
     "metadata": {},
     "output_type": "execute_result"
    }
   ],
   "source": [
    "def my_hashing_func(str, list_size):\n",
    "    bytes_representaion = str.encode()\n",
    "    sum = 0\n",
    "    for byte in bytes_representaion:\n",
    "        sum += byte\n",
    "    print('sum : ', sum)\n",
    "    print('list_size', list_size)\n",
    "    print('sum % list_size : ', sum % list_size)\n",
    "    return sum % list_size\n",
    "\n",
    "str = 'Hello Word'\n",
    "my_hashing_func(str, 5)"
   ]
  },
  {
   "cell_type": "code",
   "execution_count": 19,
   "metadata": {},
   "outputs": [
    {
     "data": {
      "text/plain": [
       "[None, None, None, None, None]"
      ]
     },
     "execution_count": 19,
     "metadata": {},
     "output_type": "execute_result"
    }
   ],
   "source": [
    "\n",
    "my_list = [None] * 5\n",
    "my_list"
   ]
  },
  {
   "cell_type": "code",
   "execution_count": 20,
   "metadata": {},
   "outputs": [
    {
     "name": "stdout",
     "output_type": "stream",
     "text": [
      "sum :  424\n",
      "list_size 5\n",
      "sum % list_size :  4\n",
      "sum :  424\n",
      "list_size 5\n",
      "sum % list_size :  4\n",
      "#00FFFF\n"
     ]
    }
   ],
   "source": [
    "my_list[my_hashing_func(\"aqua\", len(my_list))] = \"#00FFFF\"\n",
    "print(my_list[my_hashing_func(\"aqua\", len(my_list))])"
   ]
  },
  {
   "cell_type": "code",
   "execution_count": 21,
   "metadata": {},
   "outputs": [
    {
     "name": "stdout",
     "output_type": "stream",
     "text": [
      "[None, None, None, None, '#00FFFF']\n"
     ]
    }
   ],
   "source": [
    "print(my_list)"
   ]
  },
  {
   "attachments": {},
   "cell_type": "markdown",
   "metadata": {},
   "source": [
    "## 해시충돌"
   ]
  },
  {
   "cell_type": "code",
   "execution_count": 24,
   "metadata": {},
   "outputs": [
    {
     "name": "stdout",
     "output_type": "stream",
     "text": [
      "[None, None, None, None, None]\n"
     ]
    }
   ],
   "source": [
    "hashtable = [None] * 5\n",
    "print(hashtable)"
   ]
  },
  {
   "cell_type": "code",
   "execution_count": 25,
   "metadata": {},
   "outputs": [
    {
     "name": "stdout",
     "output_type": "stream",
     "text": [
      "0\n",
      "0\n",
      "1\n"
     ]
    }
   ],
   "source": [
    "def hash_function(key):\n",
    "    return key % len(hashtable)\n",
    "\n",
    "print(hash_function(10))\n",
    "print(hash_function(20))\n",
    "print(hash_function(31))"
   ]
  },
  {
   "cell_type": "code",
   "execution_count": 27,
   "metadata": {},
   "outputs": [
    {
     "name": "stdout",
     "output_type": "stream",
     "text": [
      "['A', None, None, None, None]\n",
      "['A', None, None, 'B', None]\n",
      "['A', 'C', None, 'B', None]\n"
     ]
    }
   ],
   "source": [
    "def insert_hash(hashtable, key, value):\n",
    "    hash_key = hash_function(key)\n",
    "    hashtable[hash_key] = value\n",
    "\n",
    "insert_hash(hashtable, 10, 'A')\n",
    "print(hashtable)\n",
    "insert_hash(hashtable, 23, 'B')\n",
    "print(hashtable)\n",
    "insert_hash(hashtable, 31,'C')\n",
    "print(hashtable)"
   ]
  },
  {
   "cell_type": "code",
   "execution_count": 29,
   "metadata": {},
   "outputs": [
    {
     "name": "stdout",
     "output_type": "stream",
     "text": [
      "['Collision', 'C', None, 'B', None]\n"
     ]
    }
   ],
   "source": [
    "insert_hash(hashtable, 20, 'Collision')\n",
    "print(hashtable)"
   ]
  }
 ],
 "metadata": {
  "kernelspec": {
   "display_name": "model5",
   "language": "python",
   "name": "python3"
  },
  "language_info": {
   "codemirror_mode": {
    "name": "ipython",
    "version": 3
   },
   "file_extension": ".py",
   "mimetype": "text/x-python",
   "name": "python",
   "nbconvert_exporter": "python",
   "pygments_lexer": "ipython3",
   "version": "3.8.16"
  },
  "orig_nbformat": 4
 },
 "nbformat": 4,
 "nbformat_minor": 2
}
