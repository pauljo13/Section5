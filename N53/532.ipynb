{
 "cells": [
  {
   "cell_type": "code",
   "execution_count": 2,
   "metadata": {},
   "outputs": [],
   "source": [
    "quiz1 = [[0,0,41,10,24,25],\n",
    "         [0,0,22,66,0,0],\n",
    "         [41,22,0,0,24,0],\n",
    "         [10,66,0,0,0,50],\n",
    "         [24,0,24,0,0,2],\n",
    "         [25,0,0,50,2,0]]\n",
    "\n",
    "class Graph:\n",
    "    def __init__(self):\n",
    "        self.vertices = {\n",
    "            \"1\": {\"6\": 25},\n",
    "            \"2\": {\"3\": 22, \"4\": 66},\n",
    "            \"3\": {\"1\": 41, \"5\": 24},\n",
    "            \"4\": {\"1\": 10, \"6\": 50},\n",
    "            \"5\": {\"1\": 24, \"6\": 2},\n",
    "            \"6\": {}\n",
    "        }"
   ]
  },
  {
   "cell_type": "code",
   "execution_count": 3,
   "metadata": {},
   "outputs": [
    {
     "data": {
      "text/plain": [
       "[[0, 0, 41, 10, 24, 25],\n",
       " [0, 0, 22, 66, 0, 0],\n",
       " [41, 22, 0, 0, 24, 0],\n",
       " [10, 66, 0, 0, 0, 50],\n",
       " [24, 0, 24, 0, 0, 2],\n",
       " [25, 0, 0, 50, 2, 0]]"
      ]
     },
     "execution_count": 3,
     "metadata": {},
     "output_type": "execute_result"
    }
   ],
   "source": [
    "quiz1"
   ]
  },
  {
   "cell_type": "code",
   "execution_count": 7,
   "metadata": {},
   "outputs": [
    {
     "ename": "TypeError",
     "evalue": "__init__() missing 1 required positional argument: 'self'",
     "output_type": "error",
     "traceback": [
      "\u001b[0;31m---------------------------------------------------------------------------\u001b[0m",
      "\u001b[0;31mTypeError\u001b[0m                                 Traceback (most recent call last)",
      "Cell \u001b[0;32mIn[7], line 1\u001b[0m\n\u001b[0;32m----> 1\u001b[0m Graph\u001b[39m.\u001b[39;49m\u001b[39m__init__\u001b[39;49m()\n",
      "\u001b[0;31mTypeError\u001b[0m: __init__() missing 1 required positional argument: 'self'"
     ]
    }
   ],
   "source": [
    "Graph.__init__()"
   ]
  },
  {
   "cell_type": "code",
   "execution_count": 10,
   "metadata": {},
   "outputs": [
    {
     "name": "stdout",
     "output_type": "stream",
     "text": [
      "{'6': 25}\n"
     ]
    }
   ],
   "source": [
    "test = {\n",
    "            \"1\": {\"6\": 25},\n",
    "            \"2\": {\"3\": 22, \"4\": 66},\n",
    "            \"3\": {\"1\": 41, \"5\": 24},\n",
    "            \"4\": {\"1\": 10, \"6\": 50},\n",
    "            \"5\": {\"1\": 24, \"6\": 2},\n",
    "            \"6\": {}\n",
    "        }\n",
    "print(test[\"1\"])"
   ]
  },
  {
   "cell_type": "code",
   "execution_count": null,
   "metadata": {},
   "outputs": [],
   "source": []
  }
 ],
 "metadata": {
  "kernelspec": {
   "display_name": "model5",
   "language": "python",
   "name": "python3"
  },
  "language_info": {
   "codemirror_mode": {
    "name": "ipython",
    "version": 3
   },
   "file_extension": ".py",
   "mimetype": "text/x-python",
   "name": "python",
   "nbconvert_exporter": "python",
   "pygments_lexer": "ipython3",
   "version": "3.8.16"
  },
  "orig_nbformat": 4
 },
 "nbformat": 4,
 "nbformat_minor": 2
}
