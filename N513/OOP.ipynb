{
 "cells": [
  {
   "cell_type": "code",
   "execution_count": 1,
   "metadata": {},
   "outputs": [
    {
     "name": "stdout",
     "output_type": "stream",
     "text": [
      "jon concat\n"
     ]
    }
   ],
   "source": [
    "name = 'jon'\n",
    "concat = f'{name} concat'\n",
    "print(concat)"
   ]
  },
  {
   "attachments": {},
   "cell_type": "markdown",
   "metadata": {},
   "source": [
    "# Hands-on N513"
   ]
  },
  {
   "cell_type": "code",
   "execution_count": 4,
   "metadata": {},
   "outputs": [
    {
     "data": {
      "text/plain": [
       "10"
      ]
     },
     "execution_count": 4,
     "metadata": {},
     "output_type": "execute_result"
    }
   ],
   "source": [
    "# Quiz 1\n",
    "'''노트 OOP와 의견들 > OOP와 일상생활의 Bus, Car 클래스에 init() 메소드를 사용하지 않고 각각의 속성(speed, color, model 등)을 부여하는 코드를 작성해보세요.\n",
    "그리고 __init__() 메소드의 역할에 대해 정의해보세요. 어떤 경우에 init() 메소드를 사용하는지에 대해 생각해보세요.\n",
    "💡 Guide\n",
    "\n",
    "클래스만 선언한 경우\n",
    "__init__() 메소드의 역할 '''\n",
    "class Bus:\n",
    "    def setdata(self, speed, color):\n",
    "        self.speed = speed\n",
    "        self.color = color\n",
    "       \n",
    "class Car:\n",
    "    def setdata(self, speed, color, model):\n",
    "        self.speed = speed\n",
    "        self.color = color\n",
    "        self.model = model\n",
    "\n",
    "mycar = Bus()\n",
    "mycar.setdata(10,'red')\n",
    "mycar.speed"
   ]
  },
  {
   "cell_type": "code",
   "execution_count": 8,
   "metadata": {},
   "outputs": [
    {
     "data": {
      "text/plain": [
       "'m3'"
      ]
     },
     "execution_count": 8,
     "metadata": {},
     "output_type": "execute_result"
    }
   ],
   "source": [
    "mycar2 = Car()\n",
    "mycar2.setdata(100,'blue','m3')\n",
    "mycar2.speed\n",
    "mycar2.model"
   ]
  },
  {
   "attachments": {},
   "cell_type": "markdown",
   "metadata": {},
   "source": [
    "`__init__` : 객체 초기화\n",
    "- 정의 및 역할\n",
    "    - 컨스트럭터라고 불리는 초기화를 위한 함수(메소드)\n",
    "    - 객체가 생성될 때 객체의 속성을 설정하는 방법\n",
    "    - 클래스의 새 인스턴스가 만들어질 때마다 실행 됨\n",
    "    - `__init__( )` 메서드에 인자를 전달해 내가 원하는 속성을 갖춘 인스턴스를 만들 수 있음\n",
    "- 언제 쓰일까\n",
    "    - 객체의 속성을 클래스에 포함시켜 클래스를 구성하고자 할 경우\n",
    "        - __init__을 사용하면 클래스명을 쓰고 옆에 바로 인자들을 채워 넣음으로써 그 값들을 지닌 객체를 만들어 낼 수 있음\n",
    "    - 객체에 초깃값을 설정해야 할 필요가 있는 경우\n",
    "        - 초깃값은 setdata와 같은 메서드를 호출하여 설정하기 보다는 생성자(init)를 구현하는 것이 안전함\n",
    "    - 인스턴스를 생성할 때 속성입력을 간단하게 처리하고자할 때\n",
    "        - 여러줄 써야하는 것을 한줄로 표현할 수 있기 때문\n"
   ]
  },
  {
   "cell_type": "code",
   "execution_count": null,
   "metadata": {},
   "outputs": [],
   "source": [
    "# Quiz 2\n",
    "''' \n",
    "예제의 고릴라 클래스를 기반으로 Card 클래스를 생성하세요. 그리고 상속기능과 클래스 변수, 인스턴스 변수를 사용하여 아래의 기능을 구현해보세요.\n",
    "💡 Guide\n",
    "\n",
    "상속 기능을 활용하여 카드 클래스 만들어보기\n",
    "'''\n",
    "class Card:\n",
    "    def __init__(self, charge, consume):\n",
    "        self.charge = charge\n",
    "        self.consume = consume\n",
    "    \n",
    "    def charge(self):\n",
    "        "
   ]
  },
  {
   "cell_type": "code",
   "execution_count": 14,
   "metadata": {},
   "outputs": [],
   "source": [
    "class CarOwner:\n",
    "    \"\"\"\n",
    "    자동차 주인을 나타내는 클래스입니다. \n",
    "    자동차 주인은 이름(name)을 가지고 있으며\n",
    "    자동차 주인은 concentrate 메소드를 통해 이름 + ' can not do anything else'를 반환해야합니다. \n",
    "    \"\"\"\n",
    "    def __init__(self, name):\n",
    "        \"\"\"\n",
    "        문제 1. \n",
    "            CarOwner 클래스의 생성자 메소드를 작성해주세요.\n",
    "            매개변수를 수정하거나 추가하지 말아주세요.\n",
    "        \"\"\"\n",
    "        self.name = name\n",
    "\n",
    "\n",
    "    def concentrate(self):\n",
    "        \"\"\"\n",
    "        문제 2. \n",
    "            자동차 주인 이름에 따라 \n",
    "            '{자동차주인이름} can not do anything else'문구를 반환해주는 메소드를 작성해주세요.\n",
    "        \"\"\"\n",
    "        self.concent = f'{self.name} can not do anything else'\n",
    "        return self.concent"
   ]
  },
  {
   "cell_type": "code",
   "execution_count": 15,
   "metadata": {},
   "outputs": [
    {
     "data": {
      "text/plain": [
       "'jon can not do anything else'"
      ]
     },
     "execution_count": 15,
     "metadata": {},
     "output_type": "execute_result"
    }
   ],
   "source": [
    "mycar = CarOwner('jon')\n",
    "mycar.concentrate()"
   ]
  },
  {
   "cell_type": "code",
   "execution_count": 156,
   "metadata": {},
   "outputs": [],
   "source": [
    "class CarOwner:\n",
    "    \"\"\"\n",
    "    자동차 주인을 나타내는 클래스입니다. \n",
    "    자동차 주인은 이름(name)을 가지고 있으며\n",
    "    자동차 주인은 concentrate 메소드를 통해 이름 + ' can not do anything else'를 반환해야합니다. \n",
    "    \"\"\"\n",
    "    def __init__(self, name):\n",
    "        \"\"\"\n",
    "        문제 1. \n",
    "            CarOwner 클래스의 생성자 메소드를 작성해주세요.\n",
    "            매개변수를 수정하거나 추가하지 말아주세요.\n",
    "        \"\"\"\n",
    "        self.name = name\n",
    "\n",
    "\n",
    "    def concentrate(self):\n",
    "        \"\"\"\n",
    "        문제 2. \n",
    "            자동차 주인 이름에 따라 \n",
    "            '{자동차주인이름} can not do anything else'문구를 반환해주는 메소드를 작성해주세요.\n",
    "        \"\"\"\n",
    "        self.result = f'{self.name} can not do anything else'\n",
    "        return self.result\n",
    "    \n",
    "\n",
    "class Car:\n",
    "    \"\"\"\n",
    "    자동차를 나타내는 클래스입니다. \n",
    "    자동차는 주인(owner)을 가지고 있으며, 주인은 CarOwner를 통해서 생성됩니다.\n",
    "    자동차는 drive 메소드를 통해 \n",
    "    자동차 주인이 집중하고 있으며(concentrate), 누가 운전하고 있는지 반환해야합니다. \n",
    "    '{자동차주인이름} is driving now.'\n",
    "    \"\"\"\n",
    "    def __init__(self, owner_name):\n",
    "        \"\"\"\n",
    "        문제 3. \n",
    "            Car 클래스의 생성자 메소드를 작성해주세요.\n",
    "            매개변수를 수정하거나 추가하지 말아주세요\n",
    "        \"\"\"\n",
    "        self.owner = CarOwner(owner_name)\n",
    "        CarOwner.__init__(self, owner_name)\n",
    "\n",
    "        \n",
    "\n",
    "    def drive(self):\n",
    "        \"\"\"\n",
    "        문제 4.\n",
    "            자동차 주인이 집중하고 있으며, 자동차 주인이 자동차를 운전하고 있다는 내용을 반환해야합니다. \n",
    "            '{자동차주인이름} can not do anything else\n",
    "            {자동차주인이름} is driving now.'\n",
    "\n",
    "            자동차 주인이 집중하고 있다는 사실을 어떻게 하면 편하게 나타낼 수 있을까요?\n",
    "            문자열에서 줄바꿈을 하고싶은 경우 '\\n'을 사용해주세요.\n",
    "            '\\n'에 대해서 더 공부하고 싶으신 분은 '이스케이프 문자' 라고 검색해보세요\n",
    "            (hint)\n",
    "            첫 번째 문장은 CarOwner 클래스의 concentrate() 메소드를 사용해 구현하고,\n",
    "            두 번째 문장은 아래에서 구현하여 반환되도록 구현해보세요!\n",
    "        \"\"\"\n",
    "        print(f'{self.owner.concentrate()} \\n{self.owner.name} is driving now.')"
   ]
  },
  {
   "cell_type": "code",
   "execution_count": 157,
   "metadata": {},
   "outputs": [
    {
     "name": "stdout",
     "output_type": "stream",
     "text": [
      "kimcoding can not do anything else \n",
      "kimcoding is driving now.\n"
     ]
    }
   ],
   "source": [
    "car = Car('kimcoding')\n",
    "\n",
    "car.drive()"
   ]
  },
  {
   "cell_type": "code",
   "execution_count": 112,
   "metadata": {},
   "outputs": [
    {
     "data": {
      "text/plain": [
       "' my name is jon. \\nI am 25 years old'"
      ]
     },
     "execution_count": 112,
     "metadata": {},
     "output_type": "execute_result"
    }
   ],
   "source": [
    "name = 'jon'\n",
    "age = 25\n",
    "mess = f' my name is {name}. \\nI am {age} years old'\n",
    "mess"
   ]
  },
  {
   "cell_type": "code",
   "execution_count": null,
   "metadata": {},
   "outputs": [],
   "source": []
  }
 ],
 "metadata": {
  "kernelspec": {
   "display_name": "model5",
   "language": "python",
   "name": "python3"
  },
  "language_info": {
   "codemirror_mode": {
    "name": "ipython",
    "version": 3
   },
   "file_extension": ".py",
   "mimetype": "text/x-python",
   "name": "python",
   "nbconvert_exporter": "python",
   "pygments_lexer": "ipython3",
   "version": "3.8.16"
  },
  "orig_nbformat": 4
 },
 "nbformat": 4,
 "nbformat_minor": 2
}
