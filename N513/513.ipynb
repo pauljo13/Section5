{
  "cells": [
    {
      "cell_type": "code",
      "execution_count": null,
      "metadata": {
        "id": "3EZx2jFx0DYq"
      },
      "outputs": [],
      "source": [
        "데이터 분석 프로젝트 -> 수집된 데이터 분석 -> 파이썬 코드 & SQL -> 파이썬 코드\n",
        "데이터 사이언스 프로젝트 -> 수집된 데이터 모델링 -> 파이썬(라이브러리, 모델활용) -> 모델링코드, a모델->b모델 업그레이드\n",
        "데이터 엔지니어링 프로젝트 -> 데이터 수집 -> 파이썬(api연동) -> api 연동코드"
      ]
    },
    {
      "attachments": {},
      "cell_type": "markdown",
      "metadata": {
        "id": "QZ_7hWnabScV"
      },
      "source": [
        "### - 함수는 함수를 호출해서 함수 내에 인자값을 계속 바꿔줘야함, 유지보수 어려움\n",
        "### - 클래스는 클래스 객체만 만들어서 호출해주면 됨, 유지보수 함수보다는 쉬움"
      ]
    },
    {
      "attachments": {},
      "cell_type": "markdown",
      "metadata": {
        "id": "yG1KoqirYO0o"
      },
      "source": [
        "### 절차지향 예시1"
      ]
    },
    {
      "cell_type": "code",
      "execution_count": 1,
      "metadata": {
        "colab": {
          "base_uri": "https://localhost:8080/"
        },
        "id": "LPlsPXwEA4dV",
        "outputId": "cfa2817a-0028-4ecc-a2d8-3a6c38d20d70"
      },
      "outputs": [
        {
          "name": "stdout",
          "output_type": "stream",
          "text": [
            "Car Attribute:  (50, 'black', 'CarModel')\n",
            "Car Attribute:  50 black CarModel\n"
          ]
        }
      ],
      "source": [
        "def carAttribute():\n",
        "    speed = 50\n",
        "    color = 'black'\n",
        "    model = 'CarModel'\n",
        "    return speed,color,model\n",
        "\n",
        "# return값을 통해 함수 요소값을 확인할 수 있다.\n",
        "print(\"Car Attribute: \", carAttribute())\n",
        "\n",
        "# 케이스 2: 변수활용\n",
        "speed = 50\n",
        "color = 'black'\n",
        "model = 'CarModel'\n",
        "\n",
        "# 해당 변수를 각각 명시해주어야 한다.\n",
        "print(\"Car Attribute: \", speed,color,model)\n"
      ]
    },
    {
      "attachments": {},
      "cell_type": "markdown",
      "metadata": {
        "id": "tcFbHQKRYSpV"
      },
      "source": [
        "### 객체지향 예시1"
      ]
    },
    {
      "cell_type": "code",
      "execution_count": 2,
      "metadata": {
        "colab": {
          "base_uri": "https://localhost:8080/"
        },
        "id": "S5s0To9uA6Jl",
        "outputId": "965bc13e-c508-4afa-b345-c8191d7bed53"
      },
      "outputs": [
        {
          "name": "stdout",
          "output_type": "stream",
          "text": [
            "--------Car Object Create Complete--------\n",
            "Car Speed:  0\n",
            "Car Color:  green\n",
            "Car Model:  testCar\n",
            "--------Bus Object Create Complete--------\n",
            "Bus color:  black\n",
            "--------Car/Bus Speed 1--------\n",
            "Car Speed by drive:  0\n",
            "Bus Speed by drive:  0\n",
            "--------Car/Bus Speed 2--------\n",
            "Car Speed by drive:  50\n",
            "Bus Speed by drive:  70\n"
          ]
        }
      ],
      "source": [
        "class Bus:\n",
        "    def __init__(self, speed, color):\n",
        "        self.speed = speed\n",
        "        self.color = color\n",
        "\n",
        "    def drive_bus(self):\n",
        "        self.speed = 70\n",
        "\n",
        "class Car:\n",
        "    def __init__(self, speed, color, model):\n",
        "        self.speed = speed\n",
        "        self.color = color\n",
        "        self.model = model\n",
        "\n",
        "    def drive(self):\n",
        "        self.speed = 50\n",
        "\n",
        "myCar = Car(0, \"green\", \"testCar\")\n",
        "print(\"--------Car Object Create Complete--------\")\n",
        "print(\"Car Speed: \", myCar.speed)\n",
        "print(\"Car Color: \", myCar.color)\n",
        "print(\"Car Model: \", myCar.model)\n",
        "\n",
        "myBus = Bus(0, 'black')\n",
        "print(\"--------Bus Object Create Complete--------\")\n",
        "print(\"Bus color: \", myBus.color)\n",
        "\n",
        "\n",
        "# 운전 중이 아니므로 speed는 0을 출력한다.\n",
        "print(\"--------Car/Bus Speed 1--------\")\n",
        "print(\"Car Speed by drive: \", myCar.speed)\n",
        "print(\"Bus Speed by drive: \", myBus.speed)\n",
        "\n",
        "# Car/Bus object method Call\n",
        "myCar.drive()\n",
        "myBus.drive_bus()\n",
        "\n",
        "# 각각의 개체가 각자의 속도로 움직이고 있다.\n",
        "print(\"--------Car/Bus Speed 2--------\")\n",
        "print(\"Car Speed by drive: \", myCar.speed)\n",
        "print(\"Bus Speed by drive: \", myBus.speed)\n"
      ]
    },
    {
      "attachments": {},
      "cell_type": "markdown",
      "metadata": {
        "id": "1V2PAjjPYUqL"
      },
      "source": [
        "### 절차지향 예시2"
      ]
    },
    {
      "cell_type": "code",
      "execution_count": 5,
      "metadata": {
        "colab": {
          "base_uri": "https://localhost:8080/"
        },
        "id": "wu_veJ7tA6-y",
        "outputId": "1491b6f2-a73b-4245-f465-32dd8e15f603"
      },
      "outputs": [
        {
          "name": "stdout",
          "output_type": "stream",
          "text": [
            "Name: John Doe\n",
            "Age: 20\n",
            "Grade: A\n",
            "Name: Jane Smith\n",
            "Age: 19\n",
            "Grade: B\n"
          ]
        }
      ],
      "source": [
        "# 절차 지향적인 코드 예시:\n",
        "\n",
        "# 데이터 초기화\n",
        "student_name = \"John Doe\"\n",
        "student_age = 20\n",
        "student_grade = \"A\"\n",
        "\n",
        "# 학생 정보 출력 함수\n",
        "def print_student_info(name, age, grade):\n",
        "    print(\"Name:\", name)\n",
        "    print(\"Age:\", age)\n",
        "    print(\"Grade:\", grade)\n",
        "\n",
        "# 학생 정보 출력\n",
        "print_student_info(student_name, student_age, student_grade)\n",
        "\n",
        "# 학생 정보 수정 함수\n",
        "def modify_student_info(name, age, grade):\n",
        "    global student_name, student_age, student_grade\n",
        "    student_name = name\n",
        "    student_age = age\n",
        "    student_grade = grade\n",
        "\n",
        "# 학생 정보 수정\n",
        "modify_student_info(\"Jane Smith\", 19, \"B\")\n",
        "\n",
        "# 수정된 학생 정보 출력\n",
        "print_student_info(student_name, student_age, student_grade)\n"
      ]
    },
    {
      "attachments": {},
      "cell_type": "markdown",
      "metadata": {
        "id": "j-FaAUKdYW22"
      },
      "source": [
        "### 객체지향 예시2"
      ]
    },
    {
      "cell_type": "code",
      "execution_count": 7,
      "metadata": {
        "colab": {
          "base_uri": "https://localhost:8080/"
        },
        "id": "_WOPE1jOBUie",
        "outputId": "96cf176a-dca9-4245-c62b-4cbe85d9531d"
      },
      "outputs": [
        {
          "name": "stdout",
          "output_type": "stream",
          "text": [
            "Name: John Doe\n",
            "Age: 20\n",
            "Grade: A\n",
            "Name: Jane Smith\n",
            "Age: 19\n",
            "Grade: B\n"
          ]
        }
      ],
      "source": [
        "# 객체 지향적인 코드 예시\n",
        "\n",
        "class Student:\n",
        "    def __init__(self, name, age, grade):\n",
        "        self.name = name\n",
        "        self.age = age\n",
        "        self.grade = grade\n",
        "\n",
        "    def print_info(self):\n",
        "        print(\"Name:\", self.name)\n",
        "        print(\"Age:\", self.age)\n",
        "        print(\"Grade:\", self.grade)\n",
        "\n",
        "    def modify_info(self, name, age, grade):\n",
        "        self.name = name\n",
        "        self.age = age\n",
        "        self.grade = grade\n",
        "\n",
        "# 학생 객체 생성\n",
        "student = Student(\"John Doe\", 20, \"A\")\n",
        "\n",
        "# 학생 정보 출력\n",
        "student.print_info()\n",
        "\n",
        "# 학생 정보 수정\n",
        "student.modify_info(\"Jane Smith\", 19, \"B\")\n",
        "\n",
        "# 수정된 학생 정보 출력\n",
        "student.print_info()\n"
      ]
    },
    {
      "attachments": {},
      "cell_type": "markdown",
      "metadata": {
        "id": "hgLJgqOpYY7E"
      },
      "source": [
        "### 절차지향 예시3"
      ]
    },
    {
      "cell_type": "code",
      "execution_count": 10,
      "metadata": {
        "colab": {
          "base_uri": "https://localhost:8080/"
        },
        "id": "uNkwgIv4CNDn",
        "outputId": "b8c2d98c-7322-41a1-f123-9a1861808e86"
      },
      "outputs": [
        {
          "name": "stdout",
          "output_type": "stream",
          "text": [
            "Mean: 6        4.470124\n",
            "0        0.000000\n",
            "0.1      0.000000\n",
            "0.2      0.000000\n",
            "0.3      0.000000\n",
            "           ...   \n",
            "0.586    0.006000\n",
            "0.587    0.000000\n",
            "0.588    0.000000\n",
            "0.589    0.000000\n",
            "0.590    0.000000\n",
            "Length: 785, dtype: float64\n",
            "Median: 6        4.0\n",
            "0        0.0\n",
            "0.1      0.0\n",
            "0.2      0.0\n",
            "0.3      0.0\n",
            "        ... \n",
            "0.586    0.0\n",
            "0.587    0.0\n",
            "0.588    0.0\n",
            "0.589    0.0\n",
            "0.590    0.0\n",
            "Length: 785, dtype: float64\n",
            "Mode: 6        1\n",
            "0        0\n",
            "0.1      0\n",
            "0.2      0\n",
            "0.3      0\n",
            "        ..\n",
            "0.586    0\n",
            "0.587    0\n",
            "0.588    0\n",
            "0.589    0\n",
            "0.590    0\n",
            "Name: 0, Length: 785, dtype: int64\n"
          ]
        }
      ],
      "source": [
        "# 절차지향\n",
        "\n",
        "import pandas as pd\n",
        "\n",
        "# 데이터 로드\n",
        "def load_data(filename):\n",
        "    data = pd.read_csv(filename)\n",
        "    return data\n",
        "\n",
        "# 데이터 정제\n",
        "def clean_data(data):\n",
        "    data.dropna(inplace=True)\n",
        "    data = data.astype(int)\n",
        "    return data\n",
        "\n",
        "# 데이터 분석\n",
        "def analyze_data(data):\n",
        "    mean = data.mean()\n",
        "    median = data.median()\n",
        "    mode = data.mode().iloc[0]\n",
        "    return mean, median, mode\n",
        "\n",
        "# 데이터 파일명\n",
        "filename = \"/content/sample_data/mnist_train_small.csv\"\n",
        "\n",
        "# 데이터 로드\n",
        "data = load_data(filename)\n",
        "\n",
        "# 데이터 정제\n",
        "cleaned_data = clean_data(data)\n",
        "\n",
        "# 데이터 분석\n",
        "mean, median, mode = analyze_data(cleaned_data)\n",
        "\n",
        "# 결과 출력\n",
        "print(\"Mean:\", mean)\n",
        "print(\"Median:\", median)\n",
        "print(\"Mode:\", mode)\n"
      ]
    },
    {
      "attachments": {},
      "cell_type": "markdown",
      "metadata": {
        "id": "m45PunMeYa1B"
      },
      "source": [
        "### 객체지향 예시3"
      ]
    },
    {
      "cell_type": "code",
      "execution_count": 11,
      "metadata": {
        "colab": {
          "base_uri": "https://localhost:8080/"
        },
        "id": "ERQb_wLFCQvq",
        "outputId": "1b375b34-c093-4235-98f7-5aa3f8408e50"
      },
      "outputs": [
        {
          "name": "stdout",
          "output_type": "stream",
          "text": [
            "Mean: 6        4.470124\n",
            "0        0.000000\n",
            "0.1      0.000000\n",
            "0.2      0.000000\n",
            "0.3      0.000000\n",
            "           ...   \n",
            "0.586    0.006000\n",
            "0.587    0.000000\n",
            "0.588    0.000000\n",
            "0.589    0.000000\n",
            "0.590    0.000000\n",
            "Length: 785, dtype: float64\n",
            "Median: 6        4.0\n",
            "0        0.0\n",
            "0.1      0.0\n",
            "0.2      0.0\n",
            "0.3      0.0\n",
            "        ... \n",
            "0.586    0.0\n",
            "0.587    0.0\n",
            "0.588    0.0\n",
            "0.589    0.0\n",
            "0.590    0.0\n",
            "Length: 785, dtype: float64\n",
            "Mode: 6        1\n",
            "0        0\n",
            "0.1      0\n",
            "0.2      0\n",
            "0.3      0\n",
            "        ..\n",
            "0.586    0\n",
            "0.587    0\n",
            "0.588    0\n",
            "0.589    0\n",
            "0.590    0\n",
            "Name: 0, Length: 785, dtype: int64\n"
          ]
        }
      ],
      "source": [
        "import pandas as pd\n",
        "\n",
        "class DataAnalyzer:\n",
        "    def __init__(self, data):\n",
        "        self.data = data\n",
        "\n",
        "    def load_data(self, filename):\n",
        "        self.data = pd.read_csv(filename)\n",
        "\n",
        "    def clean_data(self):\n",
        "        # 데이터 정제 작업 수행\n",
        "        self.data.dropna(inplace=True)\n",
        "        self.data = self.data.astype(int)\n",
        "\n",
        "    def analyze_data(self):\n",
        "        # 데이터 분석 작업 수행\n",
        "        mean = self.data.mean()\n",
        "        median = self.data.median()\n",
        "        mode = self.data.mode().iloc[0]\n",
        "\n",
        "        return mean, median, mode\n",
        "\n",
        "# 데이터 분석을 위한 객체 생성\n",
        "analyzer = DataAnalyzer(None)\n",
        "\n",
        "# 데이터 로드\n",
        "analyzer.load_data(\"/content/sample_data/mnist_train_small.csv\")\n",
        "\n",
        "# 데이터 정제\n",
        "analyzer.clean_data()\n",
        "\n",
        "# 데이터 분석\n",
        "mean, median, mode = analyzer.analyze_data()\n",
        "\n",
        "# 결과 출력\n",
        "print(\"Mean:\", mean)\n",
        "print(\"Median:\", median)\n",
        "print(\"Mode:\", mode)\n"
      ]
    },
    {
      "attachments": {},
      "cell_type": "markdown",
      "metadata": {
        "id": "HdrAqKmLa5h0"
      },
      "source": [
        "### 절차지향 예시4"
      ]
    },
    {
      "cell_type": "code",
      "execution_count": 12,
      "metadata": {
        "colab": {
          "base_uri": "https://localhost:8080/"
        },
        "id": "lZBt4V_0CScg",
        "outputId": "59a09a37-2030-4f76-f118-97353e6b1d8d"
      },
      "outputs": [
        {
          "name": "stdout",
          "output_type": "stream",
          "text": [
            "['book2', 'book4', 'book3']\n",
            "{'choi': 'book1'}\n"
          ]
        }
      ],
      "source": [
        "def add_book(book_list, book):\n",
        "    book_list.append(book)\n",
        "\n",
        "def lend_book(book_list, lend_list, member, book):\n",
        "    if book in book_list:\n",
        "        book_list.remove(book)\n",
        "        lend_list[member] = book\n",
        "    else:\n",
        "        print(\"해당 책은 현재 도서 목록에 없습니다.\")\n",
        "\n",
        "def return_book(book_list, lend_list, member):\n",
        "    if member in lend_list:\n",
        "        returned_book = lend_list[member]\n",
        "        del(lend_list[member])\n",
        "        book_list.append(returned_book)\n",
        "    else:\n",
        "        print(\"해당 회원은 현재 책을 대여 중이 아닙니다.\")\n",
        "\n",
        "member_list = ['kim', 'lee', 'park', 'choi']\n",
        "book_list = ['book1', 'book2']\n",
        "lend_list = {'kim': 'book3'}\n",
        "\n",
        "# 신간이 들어왔다\n",
        "add_book(book_list, 'book4')\n",
        "\n",
        "# 책을 빌리면 도서 목록에서 삭제되고, 빌린 목록에 대여한 사람과 함께 추가된다.\n",
        "lend_book(book_list, lend_list, 'choi', 'book1')\n",
        "\n",
        "# 책을 반납하면 북 리스트에 책이 다시 돌아오고 빌린 리스트에서 삭제된다.\n",
        "return_book(book_list, lend_list, 'kim')\n",
        "\n",
        "print(book_list)\n",
        "print(lend_list)\n"
      ]
    },
    {
      "attachments": {},
      "cell_type": "markdown",
      "metadata": {
        "id": "lm7iyZI6a8Eh"
      },
      "source": [
        "### 객체지향 예시4"
      ]
    },
    {
      "cell_type": "code",
      "execution_count": 13,
      "metadata": {
        "colab": {
          "base_uri": "https://localhost:8080/"
        },
        "id": "SuMBa2oaa7SY",
        "outputId": "a7e8ae70-bbf9-4dbf-89d7-6ae2e6d88784"
      },
      "outputs": [
        {
          "name": "stdout",
          "output_type": "stream",
          "text": [
            "해당 회원은 현재 책을 대여 중이 아닙니다.\n",
            "도서 목록: ['book2', 'book4']\n",
            "대여 목록: {'choi': 'book1'}\n"
          ]
        }
      ],
      "source": [
        "class Library:\n",
        "    def __init__(self):\n",
        "        self.member_list = []\n",
        "        self.book_list = []\n",
        "        self.lend_list = {}\n",
        "\n",
        "    def add_member(self, member):\n",
        "        self.member_list.append(member)\n",
        "\n",
        "    def remove_member(self, member):\n",
        "        if member in self.member_list:\n",
        "            self.member_list.remove(member)\n",
        "        else:\n",
        "            print(\"해당 회원은 도서관 회원이 아닙니다.\")\n",
        "\n",
        "    def add_book(self, book):\n",
        "        self.book_list.append(book)\n",
        "\n",
        "    def remove_book(self, book):\n",
        "        if book in self.book_list:\n",
        "            self.book_list.remove(book)\n",
        "        else:\n",
        "            print(\"해당 책은 도서관에 없습니다.\")\n",
        "\n",
        "    def lend_book(self, member, book):\n",
        "        if member in self.member_list:\n",
        "            if book in self.book_list:\n",
        "                self.book_list.remove(book)\n",
        "                self.lend_list[member] = book\n",
        "            else:\n",
        "                print(\"해당 책은 현재 대여할 수 없습니다.\")\n",
        "        else:\n",
        "            print(\"해당 회원은 도서관 회원이 아닙니다.\")\n",
        "\n",
        "    def return_book(self, member):\n",
        "        if member in self.lend_list:\n",
        "            returned_book = self.lend_list[member]\n",
        "            del(self.lend_list[member])\n",
        "            self.book_list.append(returned_book)\n",
        "        else:\n",
        "            print(\"해당 회원은 현재 책을 대여 중이 아닙니다.\")\n",
        "\n",
        "    def print_book_list(self):\n",
        "        print(\"도서 목록:\", self.book_list)\n",
        "\n",
        "    def print_lend_list(self):\n",
        "        print(\"대여 목록:\", self.lend_list)\n",
        "\n",
        "\n",
        "# 도서관 인스턴스 생성\n",
        "library = Library()\n",
        "\n",
        "# 회원 추가\n",
        "library.add_member('kim')\n",
        "library.add_member('lee')\n",
        "library.add_member('park')\n",
        "library.add_member('choi')\n",
        "\n",
        "# 책 추가\n",
        "library.add_book('book1')\n",
        "library.add_book('book2')\n",
        "\n",
        "# 신간 추가\n",
        "library.add_book('book4')\n",
        "\n",
        "# 책 대여\n",
        "library.lend_book('choi', 'book1')\n",
        "\n",
        "# 책 반납\n",
        "library.return_book('kim')\n",
        "\n",
        "# 도서 목록과 대여 목록 출력\n",
        "library.print_book_list()\n",
        "library.print_lend_list()\n"
      ]
    },
    {
      "attachments": {},
      "cell_type": "markdown",
      "metadata": {
        "id": "evNraJsKgnGy"
      },
      "source": [
        "### 절차지향 예시5"
      ]
    },
    {
      "cell_type": "code",
      "execution_count": 16,
      "metadata": {
        "id": "giG-EeesgozP"
      },
      "outputs": [],
      "source": [
        "import numpy as np\n",
        "\n",
        "def linear_regression(X, y, learning_rate=0.01, num_iterations=1000):\n",
        "    num_samples, num_features = X.shape\n",
        "\n",
        "    # Initialize weights and bias\n",
        "    weights = np.zeros(num_features)\n",
        "    bias = 0\n",
        "\n",
        "    # Gradient descent\n",
        "    for _ in range(num_iterations):\n",
        "        # Calculate predictions\n",
        "        y_pred = np.dot(X, weights) + bias\n",
        "\n",
        "        # Calculate gradients\n",
        "        d_weights = (1 / num_samples) * np.dot(X.T, (y_pred - y))\n",
        "        d_bias = (1 / num_samples) * np.sum(y_pred - y)\n",
        "\n",
        "        # Update parameters\n",
        "        weights -= learning_rate * d_weights\n",
        "        bias -= learning_rate * d_bias\n",
        "\n",
        "    return weights, bias\n",
        "\n",
        "def predict(X, weights, bias):\n",
        "    y_pred = np.dot(X, weights) + bias\n",
        "    return y_pred\n"
      ]
    },
    {
      "cell_type": "code",
      "execution_count": 17,
      "metadata": {
        "colab": {
          "base_uri": "https://localhost:8080/"
        },
        "id": "rszylA6XgqQn",
        "outputId": "d14f6143-f213-4fd5-f131-70878a545c01"
      },
      "outputs": [
        {
          "name": "stdout",
          "output_type": "stream",
          "text": [
            "[32.99872173]\n"
          ]
        }
      ],
      "source": [
        "# 데이터 준비\n",
        "X = np.array([[1, 2, 3], [4, 5, 6], [7, 8, 9]])\n",
        "y = np.array([6, 15, 24])\n",
        "\n",
        "# 모델 훈련\n",
        "weights, bias = linear_regression(X, y)\n",
        "\n",
        "# 예측\n",
        "X_test = np.array([[10, 11, 12]])\n",
        "y_pred = predict(X_test, weights, bias)\n",
        "\n",
        "print(y_pred)  # 출력: [33]\n"
      ]
    },
    {
      "attachments": {},
      "cell_type": "markdown",
      "metadata": {
        "id": "S-UTgUjCga_z"
      },
      "source": [
        "### 객체지향 예시5"
      ]
    },
    {
      "cell_type": "code",
      "execution_count": 14,
      "metadata": {
        "id": "GXrTbzzcbAu9"
      },
      "outputs": [],
      "source": [
        "import numpy as np\n",
        "\n",
        "class LinearRegression:\n",
        "    def __init__(self, learning_rate=0.01, num_iterations=1000):\n",
        "        self.learning_rate = learning_rate\n",
        "        self.num_iterations = num_iterations\n",
        "        self.weights = None\n",
        "        self.bias = None\n",
        "\n",
        "    def fit(self, X, y):\n",
        "        num_samples, num_features = X.shape\n",
        "\n",
        "        # Initialize weights and bias\n",
        "        self.weights = np.zeros(num_features)\n",
        "        self.bias = 0\n",
        "\n",
        "        # Gradient descent\n",
        "        for _ in range(self.num_iterations):\n",
        "            # Calculate predictions\n",
        "            y_pred = np.dot(X, self.weights) + self.bias\n",
        "\n",
        "            # Calculate gradients\n",
        "            d_weights = (1 / num_samples) * np.dot(X.T, (y_pred - y))\n",
        "            d_bias = (1 / num_samples) * np.sum(y_pred - y)\n",
        "\n",
        "            # Update parameters\n",
        "            self.weights -= self.learning_rate * d_weights\n",
        "            self.bias -= self.learning_rate * d_bias\n",
        "\n",
        "    def predict(self, X):\n",
        "        y_pred = np.dot(X, self.weights) + self.bias\n",
        "        return y_pred\n"
      ]
    },
    {
      "cell_type": "code",
      "execution_count": 15,
      "metadata": {
        "colab": {
          "base_uri": "https://localhost:8080/"
        },
        "id": "rYsOEu9Dgd2J",
        "outputId": "bf6c3f8b-9c8c-4d84-b8a0-3d6539d7926f"
      },
      "outputs": [
        {
          "name": "stdout",
          "output_type": "stream",
          "text": [
            "[32.99872173]\n"
          ]
        }
      ],
      "source": [
        "# 데이터 준비\n",
        "X = np.array([[1, 2, 3], [4, 5, 6], [7, 8, 9]])\n",
        "y = np.array([6, 15, 24])\n",
        "\n",
        "# 모델 인스턴스화 및 훈련\n",
        "model = LinearRegression()\n",
        "model.fit(X, y)\n",
        "\n",
        "# 예측\n",
        "X_test = np.array([[10, 11, 12]])\n",
        "y_pred = model.predict(X_test)\n",
        "\n",
        "print(y_pred)  # 출력: [33]\n"
      ]
    },
    {
      "attachments": {},
      "cell_type": "markdown",
      "metadata": {
        "id": "qwXZ9O65g_jK"
      },
      "source": [
        "절차지향 코드:\n",
        "- 선형 회귀 모델을 훈련하고 예측하기 위해 **함수를 사용하여 코드**를 구성합니다.\n",
        "- 데이터와 함수가 별개로 관리되며, 함수는 데이터에 직접 접근합니다.\n",
        "- `linear_regression` 함수는 데이터(X, y)를 입력으로 받아 가중치(weights)와 편향(bias)을 반환합니다.\n",
        "- `predict` 함수는 데이터(X), 가중치(weights), 편향(bias)을 입력으로 받아 예측 값을 반환합니다.\n",
        "- 전역 변수를 사용하지 않고, **함수 간에 필요한 데이터를 매개변수**로 전달합니다.\n",
        "- **순차적인 실행 흐름**에 중점을 둡니다.\n",
        "\n",
        "객체지향 코드:\n",
        "- 선형 회귀 모델을 개선하기 위해 **클래스를 사용하여 코드**를 구성합니다.\n",
        "- 클래스 내부에 데이터와 해당 데이터를 조작하는 메서드(함수)가 함께 포함됩니다.\n",
        "- `LinearRegression` 클래스는 생성자(`__init__` 메서드), 훈련 메서드(`fit`), 예측 메서드(`predict`)로 구성됩니다.\n",
        "- 클래스의 인스턴스를 생성하고, 해당 인스턴스의 메서드를 호출하여 모델을 훈련하고 예측합니다.\n",
        "- 객체 간에 메시지를 주고받으며 데이터를 처리하고, **객체의 상태와 행위**에 중점을 둡니다.\n",
        "- 코드의 재사용성이 높아지고, **클래스를 기반**으로 모델을 개선하고 확장하기 용이합니다.\n",
        "\n",
        "---\n",
        "\n",
        "위의 차이를 통해 객체지향 코드는 데이터와 관련된 메서드를 하나의 객체로 캡슐화하고, 객체 간의 상호작용을 강조하는 반면,\n",
        "절차지향 코드는 함수에 의해 데이터가 조작되며, 데이터와 함수가 별개로 존재합니다.\n",
        "\n",
        "객체지향 코드는 코드의 구조를 더 모듈화하고 재사용성을 높일 수 있습니다."
      ]
    },
    {
      "attachments": {},
      "cell_type": "markdown",
      "metadata": {
        "id": "ExiiDV-qzQKi"
      },
      "source": [
        "### 고릴라 클래스 예제"
      ]
    },
    {
      "cell_type": "code",
      "execution_count": 29,
      "metadata": {
        "colab": {
          "base_uri": "https://localhost:8080/"
        },
        "id": "zB2XmuNagehX",
        "outputId": "3ca3f607-a110-4c8c-c96c-8a5f12b282b6"
      },
      "outputs": [
        {
          "name": "stdout",
          "output_type": "stream",
          "text": [
            "바나나를 5 개를 먹었습니다.\n",
            "우와~~~~\n",
            "우와~~~~\n",
            "우와~~~~\n",
            "우와~~~~\n",
            "우와~~~~\n",
            "배가고파 소리를 지를 수 없습니다.\n",
            "배가고파 소리를 지를 수 없습니다.\n",
            "배가고파 소리를 지를 수 없습니다.\n"
          ]
        }
      ],
      "source": [
        "# 예제 2 클래스 변수 추가\n",
        "# 클래스 개체화\n",
        "class Gorilla():\n",
        "    total_banana = 0\n",
        "    def __init__(self):\n",
        "        # 속성은 바나나 - 초기엔 아무것도 안먹은 상태로 생성\n",
        "        self.banana = 0\n",
        "\n",
        "    # eat 메소드 구현\n",
        "    def eat(self, num):\n",
        "        # 매개변수 num 갯수만큼 바나나에 추가\n",
        "        self.banana += num\n",
        "        # 먹은 갯수를 출력해줍니다.\n",
        "        print('바나나를',num,'개를 먹었습니다.')\n",
        "\n",
        "    # cry 메소드 구현\n",
        "    def cry(self, num):\n",
        "        # 매개변수 num 갯수만큼 반복해서 소리 지르기 위해 반복문 구현\n",
        "        for i in range(num):\n",
        "            # banana가 남아있다면\n",
        "            if self.banana > 0:\n",
        "                # banana 갯수 1개 소진\n",
        "                self.banana -= 1\n",
        "                print('우와~~~~')\n",
        "            else:\n",
        "                print('배가고파 소리를 지를 수 없습니다.')\n",
        "                # break  # break의 유무에 따라 출력되는 내용을 확인해보세요.\n",
        "\n",
        "# 객체 인스턴스화\n",
        "gorilla_1 = Gorilla()\n",
        "\n",
        "# 메소드 실행\n",
        "gorilla_1.eat(5)\n",
        "gorilla_1.cry(8)\n"
      ]
    },
    {
      "cell_type": "code",
      "execution_count": 30,
      "metadata": {
        "colab": {
          "base_uri": "https://localhost:8080/"
        },
        "id": "Gpekxlojy-hH",
        "outputId": "cea70874-3f9e-4dec-c3fe-fbb7626f95d8"
      },
      "outputs": [
        {
          "name": "stdout",
          "output_type": "stream",
          "text": [
            "바나나를 5 개를 먹었습니다.\n",
            "현재까지 준 바나나의 총 갯수 : 0\n",
            "바나나를 7 개를 먹었습니다.\n",
            "현재까지 준 바나나의 총 갯수 : 0\n"
          ]
        }
      ],
      "source": [
        "# 객체 인스턴스화\n",
        "gorilla_2 = Gorilla()\n",
        "\n",
        "# 테스트\n",
        "gorilla_2.eat(5)\n",
        "print(\"현재까지 준 바나나의 총 갯수 :\", gorilla_2.total_banana)\n",
        "gorilla_2.eat(7)\n",
        "print(\"현재까지 준 바나나의 총 갯수 :\", gorilla_2.total_banana)\n"
      ]
    },
    {
      "cell_type": "code",
      "execution_count": 31,
      "metadata": {
        "colab": {
          "base_uri": "https://localhost:8080/"
        },
        "id": "MiI7yb0TzBNU",
        "outputId": "a831b76e-c0d0-4584-b85a-32174b9f49fd"
      },
      "outputs": [
        {
          "name": "stdout",
          "output_type": "stream",
          "text": [
            "바나나를 3 개를 먹었습니다.\n",
            "우와~~~~\n",
            "우와~~~~\n",
            "우와~~~~\n",
            "우와~~~~\n",
            "우와~~~~\n",
            "우와~~~~\n",
            "배가고파 소리를 지를 수 없습니다.\n",
            "배가고파 소리를 지를 수 없습니다.\n",
            "배가고파 소리를 지를 수 없습니다.\n",
            "배가고파 소리를 지를 수 없습니다.\n",
            "현재까지 준 바나나의 총 갯수 : 3\n"
          ]
        }
      ],
      "source": [
        "# 예제 3 상속\n",
        "class Kingkong(Gorilla):        # 부모클래스를 상속\n",
        "    def eat(self, num):         # 메소드 오버라이딩\n",
        "        print('바나나를',num,'개를 먹었습니다.')\n",
        "        self.banana += num*2    # num을 2배로 바나나에 추가\n",
        "        # 클래스 변수에도 갯수 추가\n",
        "        Kingkong.total_banana += num    # 먹은 갯수는 num 만큼만 추가\n",
        "\n",
        "# 객체 인스턴스화\n",
        "king = Kingkong()\n",
        "\n",
        "# 테스트\n",
        "king.eat(3)\n",
        "king.cry(10)\n",
        "print(\"현재까지 준 바나나의 총 갯수 :\", king.total_banana)\n"
      ]
    },
    {
      "cell_type": "code",
      "execution_count": null,
      "metadata": {
        "id": "1bytFBDNzI7y"
      },
      "outputs": [],
      "source": []
    }
  ],
  "metadata": {
    "colab": {
      "provenance": [],
      "toc_visible": true
    },
    "kernelspec": {
      "display_name": "Python 3",
      "name": "python3"
    },
    "language_info": {
      "name": "python"
    }
  },
  "nbformat": 4,
  "nbformat_minor": 0
}
