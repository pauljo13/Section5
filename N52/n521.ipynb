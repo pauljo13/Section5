{
 "cells": [
  {
   "cell_type": "code",
   "execution_count": 1,
   "metadata": {},
   "outputs": [],
   "source": [
    "class Node:\n",
    "    def __init__(self, value, next=None):\n",
    "        self.value = value\n",
    "        self.next = next\n",
    "\n",
    "class linked_list:\n",
    "    def __init__(self, value):\n",
    "        self.head = Node(value)\n",
    "\n",
    "    def add_node(value):\n",
    "        print('head :', head.value)\n",
    "        print('next :', head.next)\n",
    "        node = head\n",
    "        while node.next:\n",
    "            node = node.next\n",
    "        node.next = Node(value)\n",
    "        "
   ]
  },
  {
   "cell_type": "code",
   "execution_count": 2,
   "metadata": {},
   "outputs": [
    {
     "name": "stdout",
     "output_type": "stream",
     "text": [
      "head : 5\n",
      "next : None\n",
      "head : 5\n",
      "next : <__main__.Node object at 0x110c5f0a0>\n",
      "5\n",
      "11\n",
      "17\n"
     ]
    }
   ],
   "source": [
    "head = Node(5)\n",
    "linked_list.add_node(11)\n",
    "linked_list.add_node(17)\n",
    "\n",
    "print(head.value)\n",
    "print(head.next.value)\n",
    "print(head.next.next.value)"
   ]
  },
  {
   "cell_type": "code",
   "execution_count": 6,
   "metadata": {},
   "outputs": [
    {
     "name": "stdout",
     "output_type": "stream",
     "text": [
      "[2, 3, 4]\n"
     ]
    }
   ],
   "source": [
    "list_a = [1, 2, 3, 4]\n",
    "list_b = [2, 3, 4, 5]\n",
    "\n",
    "result = []\n",
    "\n",
    "for a in list_a:\n",
    "  for b in list_b:\n",
    "    if a == b:\n",
    "      result.append(a)\n",
    "      \n",
    "print(result)"
   ]
  },
  {
   "cell_type": "code",
   "execution_count": 7,
   "metadata": {},
   "outputs": [
    {
     "data": {
      "text/plain": [
       "[2, 3, 4]"
      ]
     },
     "execution_count": 7,
     "metadata": {},
     "output_type": "execute_result"
    }
   ],
   "source": [
    "result2 = [a for a in list_a for b in list_b if a == b]\n",
    "result2"
   ]
  },
  {
   "cell_type": "code",
   "execution_count": null,
   "metadata": {},
   "outputs": [],
   "source": []
  }
 ],
 "metadata": {
  "kernelspec": {
   "display_name": "model5",
   "language": "python",
   "name": "python3"
  },
  "language_info": {
   "codemirror_mode": {
    "name": "ipython",
    "version": 3
   },
   "file_extension": ".py",
   "mimetype": "text/x-python",
   "name": "python",
   "nbconvert_exporter": "python",
   "pygments_lexer": "ipython3",
   "version": "3.8.16"
  },
  "orig_nbformat": 4
 },
 "nbformat": 4,
 "nbformat_minor": 2
}
