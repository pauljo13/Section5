{
 "cells": [
  {
   "cell_type": "code",
   "execution_count": 1,
   "metadata": {},
   "outputs": [
    {
     "data": {
      "text/plain": [
       "55"
      ]
     },
     "execution_count": 1,
     "metadata": {},
     "output_type": "execute_result"
    }
   ],
   "source": [
    "def addNumber(num) :\n",
    "    if num <= 1:\n",
    "        return num\n",
    "    else:\n",
    "        return num + addNumber(num-1)\n",
    "\n",
    "addNumber(10)"
   ]
  },
  {
   "cell_type": "code",
   "execution_count": 7,
   "metadata": {},
   "outputs": [
    {
     "data": {
      "text/plain": [
       "[10, 9, 8, 7, 6, 5, 4, 3, 2, 1, '발사!!']"
      ]
     },
     "execution_count": 7,
     "metadata": {},
     "output_type": "execute_result"
    }
   ],
   "source": [
    "def countDown(num, li) :\n",
    "    if num == 0:\n",
    "        return li.append('발사!!')\n",
    "    else:\n",
    "        li.append(num)\n",
    "        countDown(num-1, li)\n",
    "        return li\n",
    "    \n",
    "li = []\n",
    "countDown(10,li)"
   ]
  },
  {
   "cell_type": "code",
   "execution_count": 8,
   "metadata": {},
   "outputs": [
    {
     "data": {
      "text/plain": [
       "0"
      ]
     },
     "execution_count": 8,
     "metadata": {},
     "output_type": "execute_result"
    }
   ],
   "source": [
    "li = []\n",
    "len(li)"
   ]
  },
  {
   "cell_type": "code",
   "execution_count": 13,
   "metadata": {},
   "outputs": [
    {
     "data": {
      "text/plain": [
       "['*', '**', '***', '****', '*****']"
      ]
     },
     "execution_count": 13,
     "metadata": {},
     "output_type": "execute_result"
    }
   ],
   "source": [
    "def printStar(num, li) :\n",
    "    if num == 0:\n",
    "        return li\n",
    "    else:\n",
    "        printStar(num-1,li)\n",
    "        li.append('*'*num)\n",
    "        return li\n",
    "    \n",
    "li = []\n",
    "printStar(5, li) "
   ]
  },
  {
   "cell_type": "code",
   "execution_count": 15,
   "metadata": {},
   "outputs": [
    {
     "data": {
      "text/plain": [
       "[39, 23, 75, 25, 39, 46, 26, 60, 66, 84]"
      ]
     },
     "execution_count": 15,
     "metadata": {},
     "output_type": "execute_result"
    }
   ],
   "source": [
    "import random\n",
    "test = [random.randrange(1,100) for x in range(10)]\n",
    "test"
   ]
  },
  {
   "cell_type": "code",
   "execution_count": 21,
   "metadata": {},
   "outputs": [
    {
     "data": {
      "text/plain": [
       "[84, 75, 66, 60, 46, 39, 39, 26, 25, 23]"
      ]
     },
     "execution_count": 21,
     "metadata": {},
     "output_type": "execute_result"
    }
   ],
   "source": [
    "def selectionSort(li) :\n",
    "    list_len = len(li)\n",
    "    for i in range(list_len-1):\n",
    "        index = i\n",
    "        for j in range(i+1,list_len):\n",
    "            if li[j] > li[index]:\n",
    "                index = j\n",
    "        li[index], li[i] = li[i], li[index]\n",
    "    return li\n",
    "\n",
    "selectionSort(test)"
   ]
  },
  {
   "cell_type": "code",
   "execution_count": 22,
   "metadata": {},
   "outputs": [
    {
     "data": {
      "text/plain": [
       "[84, 75, 66, 60, 46, 39, 39, 26, 25, 23]"
      ]
     },
     "execution_count": 22,
     "metadata": {},
     "output_type": "execute_result"
    }
   ],
   "source": [
    "def bubbleSort(li) :\n",
    "    list_len = len(li)-1\n",
    "    for i in range(list_len):\n",
    "        for j in range(list_len-i):\n",
    "            if li[j] < li[j+1]:\n",
    "                li[j+1], li[j] = li[j], li[j+1]\n",
    "    return li\n",
    "\n",
    "bubbleSort(test)"
   ]
  },
  {
   "cell_type": "code",
   "execution_count": 23,
   "metadata": {},
   "outputs": [
    {
     "data": {
      "text/plain": [
       "[84, 75, 66, 60, 46, 39, 39, 26, 25, 23]"
      ]
     },
     "execution_count": 23,
     "metadata": {},
     "output_type": "execute_result"
    }
   ],
   "source": [
    "def insertionSort(li):\n",
    "    list_len = len(li)\n",
    "    for i in range(1, list_len):\n",
    "        for j in range(i):\n",
    "            if li[i] < li[j]:\n",
    "                pass\n",
    "            else:\n",
    "                li[i], li[j] = li[j], li[i]\n",
    "    return li\n",
    "\n",
    "insertionSort(test)"
   ]
  },
  {
   "cell_type": "code",
   "execution_count": 31,
   "metadata": {},
   "outputs": [
    {
     "data": {
      "text/plain": [
       "'is'"
      ]
     },
     "execution_count": 31,
     "metadata": {},
     "output_type": "execute_result"
    }
   ],
   "source": [
    "def added_word(test_str1, test_str2):\n",
    "    ##### 코드를 작성해주세요 #####\n",
    "    str1 = test_str1.split()\n",
    "    str2 = test_str2.split()\n",
    "    str1_len = len(str1)\n",
    "    str2_len = len(str2)\n",
    "    added = None\n",
    "    for j in range(str2_len):\n",
    "        if str2[j] in str1:\n",
    "            pass\n",
    "        else:\n",
    "            added = str2[j]\n",
    "    return added\n",
    "            \n",
    "test_str1 = 'the best'\n",
    "test_str2 = 'the best is'\n",
    "added_word(test_str1,test_str2)"
   ]
  },
  {
   "cell_type": "code",
   "execution_count": 35,
   "metadata": {},
   "outputs": [
    {
     "data": {
      "text/plain": [
       "'the'"
      ]
     },
     "execution_count": 35,
     "metadata": {},
     "output_type": "execute_result"
    }
   ],
   "source": [
    "def added_word2(test_str1, test_str2):\n",
    "    ##### 코드를 작성해주세요 #####\n",
    "    str1 = test_str1.split()\n",
    "    str2 = test_str2.split()\n",
    "    str1_len = len(str1)\n",
    "    str2_len = len(str2)\n",
    "    added = None\n",
    "    for i in range(str1_len):\n",
    "        for j in range(str2_len):\n",
    "            if str2[j] == str1[i]:\n",
    "                break\n",
    "            else:\n",
    "                added = str2[j]\n",
    "    return added\n",
    "\n",
    "test_str1 = 'the best'\n",
    "test_str2 = 'the best is'\n",
    "added_word2(test_str1,test_str2)"
   ]
  },
  {
   "cell_type": "code",
   "execution_count": null,
   "metadata": {},
   "outputs": [],
   "source": []
  }
 ],
 "metadata": {
  "kernelspec": {
   "display_name": "model5",
   "language": "python",
   "name": "python3"
  },
  "language_info": {
   "codemirror_mode": {
    "name": "ipython",
    "version": 3
   },
   "file_extension": ".py",
   "mimetype": "text/x-python",
   "name": "python",
   "nbconvert_exporter": "python",
   "pygments_lexer": "ipython3",
   "version": "3.8.16"
  },
  "orig_nbformat": 4
 },
 "nbformat": 4,
 "nbformat_minor": 2
}
