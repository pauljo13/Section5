{
 "cells": [
  {
   "cell_type": "code",
   "execution_count": 6,
   "metadata": {},
   "outputs": [
    {
     "name": "stdout",
     "output_type": "stream",
     "text": [
      "[17, 20, 26, 31, 44, 54, 55, 77, 93]\n"
     ]
    }
   ],
   "source": [
    "def quick_sort2(ARRAY):\n",
    "    ARRAY_LENGTH = len(ARRAY)\n",
    "    if ARRAY_LENGTH <= 1:\n",
    "        return ARRAY\n",
    "    else:\n",
    "        PIVOT = ARRAY[0]\n",
    "        GREATER = [element for element in ARRAY[1:] if element > PIVOT]\n",
    "        LESSER = [element for element in ARRAY[1:] if element <= PIVOT]\n",
    "        return quick_sort2(LESSER) + [PIVOT] + quick_sort2(GREATER)\n",
    "\n",
    "ARRAY = [54, 26, 93, 17, 77, 31, 44, 55, 20]\n",
    "print(quick_sort2(ARRAY))"
   ]
  },
  {
   "cell_type": "code",
   "execution_count": 11,
   "metadata": {},
   "outputs": [
    {
     "name": "stdout",
     "output_type": "stream",
     "text": [
      "[93, 77, 55, 54, 44, 31, 26, 20, 17]\n"
     ]
    }
   ],
   "source": [
    "def quick_sort(li):\n",
    "    list_len = len(li)\n",
    "    if list_len <= 1 :\n",
    "        return li\n",
    "    else:\n",
    "        pivot = li[0]\n",
    "        #front피벗 앞에는 피벗보다 값이 작은 모든 원소들이 오고\n",
    "        #Back 피벗 뒤에는 피벗보다 값이 큰 모든 원소들이 온다.\n",
    "        front = [element for element in li[1:] if element > pivot]\n",
    "        back = [element for element in li[1:] if element <= pivot]\n",
    "        return quick_sort(front) + [pivot] + quick_sort(back)\n",
    "\n",
    "ARRAY = [54, 26, 93, 17, 77, 31, 44, 55, 20]\n",
    "print(quick_sort(ARRAY))"
   ]
  },
  {
   "cell_type": "code",
   "execution_count": 19,
   "metadata": {},
   "outputs": [],
   "source": [
    "def merge(left, right):\n",
    "    \"\"\"\n",
    "    문제 1. \n",
    "        두 리스트를 받아 합치는 merge함수를 구현해주세요.\n",
    "        단 매개변수로 들어오는 리스트는 오름차순으로 정렬된 상태의 리스트이며,\n",
    "        반환되는 리스트역시 오름차순으로 정렬된 상태의 리스트여야합니다. \n",
    "\n",
    "        ex)\n",
    "            l = [4,6,7,10]\n",
    "            r = [1,3,9,12]\n",
    "            merge(l,r) => [1, 3, 4, 6, 7, 9, 10, 12]\n",
    "\n",
    "        파이썬에서 제공되는 sort와 같은 내장함수를 사용하면 안됩니다.\n",
    "    \"\"\"\n",
    "    merge_list = []\n",
    "    i = j = 0\n",
    "    while i < len(left) and j < len(right):\n",
    "        if left[i] < right[j]:\n",
    "            merge_list.append(left[i])\n",
    "            i += 1\n",
    "        else:\n",
    "            merge_list.append(right[j])\n",
    "            j += 1\n",
    "    merge_list.extend(left[i:])\n",
    "    merge_list.extend(right[j:])\n",
    "    return merge_list\n",
    "    \n",
    "\n",
    "def merge_sort(li):\n",
    "    \"\"\"\n",
    "    문제 2.\n",
    "        문제 1에서 만든 merge 함수를 사용하여 merge_sort를 완성해주세요.\n",
    "        정렬되지 않은 리스트를 매개변수로 받아 오름차순으로 정렬된 리스트를 반환하는 \n",
    "        merge_sort를 만들어주세요.\n",
    "\n",
    "        작성되어있는 merge_sort함수를 재귀함수로 사용해주세요.\n",
    "        merge_sort함수 내부에 새로운 재귀함수로 구현하시면 안됩니다. \n",
    "    \"\"\"\n",
    "    list_len = len(li)\n",
    "    if list_len <= 1:\n",
    "        return li\n",
    "    else:\n",
    "        mid = list_len//2\n",
    "        left = merge_sort(li[:mid])\n",
    "        right = merge_sort(li[mid:])\n",
    "        return merge(left,right)\n",
    "\n",
    "l = [4,6,7,10]\n",
    "r = [1,3,9,12]\n",
    "test = merge(l,r)"
   ]
  },
  {
   "cell_type": "code",
   "execution_count": 18,
   "metadata": {},
   "outputs": [
    {
     "name": "stdout",
     "output_type": "stream",
     "text": [
      "[1, 3, 4, 6]\n",
      "[7, 9, 10, 12]\n",
      "[1, 3, 4, 6, 7, 9, 10, 12]\n"
     ]
    }
   ],
   "source": [
    "list_len = len(test)   \n",
    "mid = list_len//2\n",
    "left = test[:mid]\n",
    "right = test[mid:]\n",
    "print(left)\n",
    "print(right)\n",
    "print(merge(left,right))"
   ]
  },
  {
   "cell_type": "code",
   "execution_count": 22,
   "metadata": {},
   "outputs": [
    {
     "name": "stdout",
     "output_type": "stream",
     "text": [
      "[54, 26, 77, 31, 44, 55, 20, 93, 17]\n"
     ]
    }
   ],
   "source": [
    "print(merge_sort(ARRAY))"
   ]
  },
  {
   "cell_type": "code",
   "execution_count": 24,
   "metadata": {},
   "outputs": [
    {
     "name": "stdout",
     "output_type": "stream",
     "text": [
      "[54, 26, 93, 17]\n",
      "[77, 31, 44, 55, 20]\n"
     ]
    }
   ],
   "source": [
    "list_len = len(ARRAY)   \n",
    "mid = list_len//2\n",
    "left = ARRAY[:mid]\n",
    "right = ARRAY[mid:]\n",
    "print(left)\n",
    "print(right)"
   ]
  },
  {
   "cell_type": "code",
   "execution_count": 25,
   "metadata": {},
   "outputs": [
    {
     "name": "stdout",
     "output_type": "stream",
     "text": [
      "[54, 26, 77, 31, 44, 55, 20, 93, 17]\n"
     ]
    }
   ],
   "source": [
    "print(merge(left,right))"
   ]
  },
  {
   "cell_type": "code",
   "execution_count": 26,
   "metadata": {},
   "outputs": [
    {
     "data": {
      "text/plain": [
       "7"
      ]
     },
     "execution_count": 26,
     "metadata": {},
     "output_type": "execute_result"
    }
   ],
   "source": [
    "7 % 20"
   ]
  },
  {
   "cell_type": "code",
   "execution_count": 27,
   "metadata": {},
   "outputs": [
    {
     "data": {
      "text/plain": [
       "6"
      ]
     },
     "execution_count": 27,
     "metadata": {},
     "output_type": "execute_result"
    }
   ],
   "source": [
    "20 % 7"
   ]
  },
  {
   "cell_type": "code",
   "execution_count": null,
   "metadata": {},
   "outputs": [],
   "source": []
  }
 ],
 "metadata": {
  "kernelspec": {
   "display_name": "model5",
   "language": "python",
   "name": "python3"
  },
  "language_info": {
   "codemirror_mode": {
    "name": "ipython",
    "version": 3
   },
   "file_extension": ".py",
   "mimetype": "text/x-python",
   "name": "python",
   "nbconvert_exporter": "python",
   "pygments_lexer": "ipython3",
   "version": "3.8.16"
  },
  "orig_nbformat": 4
 },
 "nbformat": 4,
 "nbformat_minor": 2
}
