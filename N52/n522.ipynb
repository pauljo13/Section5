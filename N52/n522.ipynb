{
 "cells": [
  {
   "cell_type": "code",
   "execution_count": 2,
   "metadata": {},
   "outputs": [
    {
     "name": "stdout",
     "output_type": "stream",
     "text": [
      "i: 0 j: 1\n",
      "i: 0 j: 2\n",
      "i: 0 j: 3\n",
      "end\n",
      "i: 1 j: 1\n",
      "i: 1 j: 2\n",
      "i: 1 j: 3\n",
      "end\n",
      "i: 2 j: 1\n",
      "i: 2 j: 2\n",
      "i: 2 j: 3\n",
      "end\n",
      "i: 3 j: 1\n",
      "i: 3 j: 2\n",
      "i: 3 j: 3\n",
      "end\n"
     ]
    }
   ],
   "source": [
    "nb = [1,2,3,4]\n",
    "len_nb = len(nb)\n",
    "for i in range(0,len_nb):\n",
    "    for j in range(1,len_nb):\n",
    "        print('i:', i, 'j:', j)\n",
    "    print('end')"
   ]
  },
  {
   "cell_type": "code",
   "execution_count": 3,
   "metadata": {},
   "outputs": [
    {
     "name": "stdout",
     "output_type": "stream",
     "text": [
      "2\n",
      "-1\n"
     ]
    }
   ],
   "source": [
    "def linear_search(arr, target):\n",
    "    for idx in range(len(arr)):\n",
    "        if arr[idx] == target:\n",
    "            return idx\n",
    "    return -1\n",
    "\n",
    "arr = [0,1,2]\n",
    "print(linear_search(arr, 2))\n",
    "print(linear_search(arr, 3))"
   ]
  },
  {
   "cell_type": "code",
   "execution_count": 13,
   "metadata": {},
   "outputs": [
    {
     "name": "stdout",
     "output_type": "stream",
     "text": [
      "[1, 2, 3, 4, 5]\n"
     ]
    },
    {
     "data": {
      "text/plain": [
       "15"
      ]
     },
     "execution_count": 13,
     "metadata": {},
     "output_type": "execute_result"
    }
   ],
   "source": [
    "my_list = [i for i in range(1,6)]\n",
    "\n",
    "def sum_list(items):\n",
    "    sum1 = 0\n",
    "    for i in items:\n",
    "        sum1 += i\n",
    "    return sum1\n",
    "\n",
    "print(my_list)\n",
    "sum_list(my_list)"
   ]
  },
  {
   "cell_type": "code",
   "execution_count": 15,
   "metadata": {},
   "outputs": [
    {
     "data": {
      "text/plain": [
       "15"
      ]
     },
     "execution_count": 15,
     "metadata": {},
     "output_type": "execute_result"
    }
   ],
   "source": [
    "def sum_list_s(items):\n",
    "    if len(items) == 1:\n",
    "        return items[0]\n",
    "    else:\n",
    "        return items[0] + sum_list_s(items[1:])\n",
    "\n",
    "\n",
    "sum_list_s(my_list)"
   ]
  },
  {
   "cell_type": "code",
   "execution_count": 16,
   "metadata": {},
   "outputs": [
    {
     "ename": "TypeError",
     "evalue": "object of type 'int' has no len()",
     "output_type": "error",
     "traceback": [
      "\u001b[0;31m---------------------------------------------------------------------------\u001b[0m",
      "\u001b[0;31mTypeError\u001b[0m                                 Traceback (most recent call last)",
      "Cell \u001b[0;32mIn[16], line 1\u001b[0m\n\u001b[0;32m----> 1\u001b[0m sum_list_s(\u001b[39m1\u001b[39;49m)\n",
      "Cell \u001b[0;32mIn[15], line 2\u001b[0m, in \u001b[0;36msum_list_s\u001b[0;34m(items)\u001b[0m\n\u001b[1;32m      1\u001b[0m \u001b[39mdef\u001b[39;00m \u001b[39msum_list_s\u001b[39m(items):\n\u001b[0;32m----> 2\u001b[0m     \u001b[39mif\u001b[39;00m \u001b[39mlen\u001b[39;49m(items) \u001b[39m==\u001b[39m \u001b[39m1\u001b[39m:\n\u001b[1;32m      3\u001b[0m         \u001b[39mreturn\u001b[39;00m items[\u001b[39m0\u001b[39m]\n\u001b[1;32m      4\u001b[0m     \u001b[39melse\u001b[39;00m:\n",
      "\u001b[0;31mTypeError\u001b[0m: object of type 'int' has no len()"
     ]
    }
   ],
   "source": [
    "sum_list_s(1)"
   ]
  },
  {
   "cell_type": "code",
   "execution_count": 17,
   "metadata": {},
   "outputs": [
    {
     "data": {
      "text/plain": [
       "4"
      ]
     },
     "execution_count": 17,
     "metadata": {},
     "output_type": "execute_result"
    }
   ],
   "source": [
    "sum_list_s([1,3])"
   ]
  },
  {
   "attachments": {},
   "cell_type": "markdown",
   "metadata": {},
   "source": [
    "# 과제 "
   ]
  },
  {
   "cell_type": "code",
   "execution_count": 21,
   "metadata": {},
   "outputs": [
    {
     "data": {
      "text/plain": [
       "0"
      ]
     },
     "execution_count": 21,
     "metadata": {},
     "output_type": "execute_result"
    }
   ],
   "source": [
    "def oneto100(num):\n",
    "    \"\"\"\n",
    "    # 문제1\n",
    "        다음 문제는 1 ~ num 까지 합을 구하는 문제입니다.\n",
    "        결과값이 제대로 구해지도록 코드를 완성하세요.\n",
    "\n",
    "        아래 예시입력값과 출력값을 참조하며 문제를 해결해봅니다.\n",
    "\n",
    "        예시 1\n",
    "            입력값:\n",
    "                10\n",
    "            출력값:\n",
    "                55\n",
    "\n",
    "        예시 2\n",
    "            입력값:\n",
    "                100\n",
    "            출력값:\n",
    "                5050\n",
    "    \"\"\"\n",
    "    Sum = 0\n",
    "    if num == 1:\n",
    "        return Sum\n",
    "    else:\n",
    "        return Sum + oneto100(num-1)\n",
    "    \n",
    "oneto100(10)"
   ]
  },
  {
   "cell_type": "code",
   "execution_count": 25,
   "metadata": {},
   "outputs": [
    {
     "data": {
      "text/plain": [
       "55"
      ]
     },
     "execution_count": 25,
     "metadata": {},
     "output_type": "execute_result"
    }
   ],
   "source": [
    "def test(num): \n",
    "    Sum = 0\n",
    "    for i in range(1,num+1):\n",
    "        Sum += i\n",
    "    return Sum\n",
    "\n",
    "test(10)"
   ]
  },
  {
   "cell_type": "code",
   "execution_count": 123,
   "metadata": {},
   "outputs": [],
   "source": [
    "def recursion_advanced(str_data):\n",
    "    \"\"\"\n",
    "    # 문제2\n",
    "        재귀를 활용하여 주어진 문자를 뒤집어주는 프로그래밍을 진행합니다.\n",
    "        문자열에 직접 영향을 주는 reverse와 같은 내장함수를 사용하면 안됩니다.\n",
    "\n",
    "        # 예상 입출력 1\n",
    "            input : 'testing...'\n",
    "            output: '...gnitset'\n",
    "        \n",
    "        # 예상 입출력 2\n",
    "            input : 'Codestates'\n",
    "            output: 'setatsedoC'\n",
    "    \"\"\"\n",
    "    if len(str_data) == 1:\n",
    "        return str_data[0]\n",
    "    else:\n",
    "        return recursion_advanced(str_data[1:]) + str_data[0]"
   ]
  },
  {
   "cell_type": "code",
   "execution_count": 124,
   "metadata": {},
   "outputs": [
    {
     "data": {
      "text/plain": [
       "'...gnitset'"
      ]
     },
     "execution_count": 124,
     "metadata": {},
     "output_type": "execute_result"
    }
   ],
   "source": [
    "recursion_advanced('testing...')"
   ]
  },
  {
   "cell_type": "code",
   "execution_count": 82,
   "metadata": {},
   "outputs": [
    {
     "name": "stdout",
     "output_type": "stream",
     "text": [
      "...gnitset\n"
     ]
    }
   ],
   "source": [
    "c = a[-1]\n",
    "for i in range(2,(len(a)+1)):\n",
    "    c += a[-i]\n",
    "print(c)"
   ]
  },
  {
   "cell_type": "code",
   "execution_count": 80,
   "metadata": {},
   "outputs": [
    {
     "name": "stdout",
     "output_type": "stream",
     "text": [
      "a\n",
      "av\n"
     ]
    }
   ],
   "source": [
    "c = 'a'\n",
    "print(c)\n",
    "c += 'v'\n",
    "print(c)"
   ]
  },
  {
   "cell_type": "code",
   "execution_count": null,
   "metadata": {},
   "outputs": [],
   "source": []
  }
 ],
 "metadata": {
  "kernelspec": {
   "display_name": "model5",
   "language": "python",
   "name": "python3"
  },
  "language_info": {
   "codemirror_mode": {
    "name": "ipython",
    "version": 3
   },
   "file_extension": ".py",
   "mimetype": "text/x-python",
   "name": "python",
   "nbconvert_exporter": "python",
   "pygments_lexer": "ipython3",
   "version": "3.8.16"
  },
  "orig_nbformat": 4
 },
 "nbformat": 4,
 "nbformat_minor": 2
}
