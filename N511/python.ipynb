{
 "cells": [
  {
   "attachments": {},
   "cell_type": "markdown",
   "metadata": {},
   "source": [
    "# 정규표현식"
   ]
  },
  {
   "cell_type": "code",
   "execution_count": 3,
   "metadata": {},
   "outputs": [
    {
     "name": "stdout",
     "output_type": "stream",
     "text": [
      "color\n"
     ]
    }
   ],
   "source": [
    "import re\n",
    "\n",
    "wordlist = [\"color\", \"colour\", \"work\",\"working\",\"fox\",\"worker\",\"working\"]\n",
    "\n",
    "for word in wordlist:\n",
    "    if re.search('col.r',word):\n",
    "        print(word)"
   ]
  },
  {
   "cell_type": "code",
   "execution_count": 8,
   "metadata": {},
   "outputs": [
    {
     "name": "stdout",
     "output_type": "stream",
     "text": [
      "color\n",
      "colour\n"
     ]
    }
   ],
   "source": [
    "for word in wordlist:\n",
    "    if re.search('col',word):\n",
    "        print(word)"
   ]
  },
  {
   "cell_type": "code",
   "execution_count": 11,
   "metadata": {},
   "outputs": [
    {
     "name": "stdout",
     "output_type": "stream",
     "text": [
      "color\n",
      "colour\n",
      "work\n",
      "working\n",
      "worker\n",
      "working\n"
     ]
    }
   ],
   "source": [
    "for word in wordlist:\n",
    "    if re.search('.r',word):\n",
    "        print(word)"
   ]
  },
  {
   "cell_type": "code",
   "execution_count": 1,
   "metadata": {},
   "outputs": [
    {
     "name": "stdout",
     "output_type": "stream",
     "text": [
      "32\n"
     ]
    }
   ],
   "source": [
    "regular_expression = '<html><head><title>Title</title>'\n",
    "print(len(regular_expression))"
   ]
  },
  {
   "cell_type": "code",
   "execution_count": 12,
   "metadata": {},
   "outputs": [
    {
     "name": "stdout",
     "output_type": "stream",
     "text": [
      "<re.Match object; span=(0, 32), match='<html><head><title>Title</title>'>\n"
     ]
    }
   ],
   "source": [
    "print(re.match('<.*>', regular_expression))"
   ]
  },
  {
   "cell_type": "code",
   "execution_count": 4,
   "metadata": {},
   "outputs": [
    {
     "name": "stdout",
     "output_type": "stream",
     "text": [
      "(0, 32)\n"
     ]
    }
   ],
   "source": [
    "print(re.match('<.*>', regular_expression).span())"
   ]
  },
  {
   "cell_type": "code",
   "execution_count": 5,
   "metadata": {},
   "outputs": [
    {
     "name": "stdout",
     "output_type": "stream",
     "text": [
      "<html><head><title>Title</title>\n"
     ]
    }
   ],
   "source": [
    "print(re.match('<.*>', regular_expression).group())"
   ]
  },
  {
   "cell_type": "code",
   "execution_count": 14,
   "metadata": {},
   "outputs": [
    {
     "data": {
      "text/plain": [
       "re.compile(r'\\n010- #핸드폰 앞자리\\n\\d{4}- #중간자리\\n\\d{4} #뒷자리\\n',\n",
       "           re.UNICODE|re.VERBOSE)"
      ]
     },
     "execution_count": 14,
     "metadata": {},
     "output_type": "execute_result"
    }
   ],
   "source": [
    "phone = re.compile(\"\"\"\n",
    "010- #핸드폰 앞자리\n",
    "\\d{4}- #중간자리\n",
    "\\d{4} #뒷자리\n",
    "\"\"\", re.VERBOSE)\n",
    "phone"
   ]
  },
  {
   "cell_type": "code",
   "execution_count": 15,
   "metadata": {},
   "outputs": [
    {
     "data": {
      "text/plain": [
       "re.compile(r'010-\\d{4}-\\d{4}', re.UNICODE)"
      ]
     },
     "execution_count": 15,
     "metadata": {},
     "output_type": "execute_result"
    }
   ],
   "source": [
    "phone = re.compile(\"010-\\d{4}-\\d{4}\")\n",
    "phone"
   ]
  },
  {
   "cell_type": "code",
   "execution_count": 18,
   "metadata": {},
   "outputs": [
    {
     "name": "stdout",
     "output_type": "stream",
     "text": [
      "<re.Match object; span=(4, 17), match='010-1234-1234'>\n",
      "(4, 17)\n",
      "010-1234-1234\n",
      "<re.Match object; span=(4, 17), match='010-5678-5678'>\n",
      "(4, 17)\n",
      "010-5678-5678\n"
     ]
    }
   ],
   "source": [
    "info = ['홍길동 010-1234-1234','고길동 010-5678-5678']\n",
    "\n",
    "for text in info:\n",
    "    match_object = phone.search(text)\n",
    "    print(match_object)\n",
    "    print(match_object.span())\n",
    "    print(match_object.group())"
   ]
  },
  {
   "attachments": {},
   "cell_type": "markdown",
   "metadata": {},
   "source": [
    "### escape 문자"
   ]
  },
  {
   "cell_type": "code",
   "execution_count": 6,
   "metadata": {},
   "outputs": [
    {
     "name": "stdout",
     "output_type": "stream",
     "text": [
      "    \u0007Hello\n",
      "Hello\n",
      "    \tHello\n",
      "   Hello\n",
      "    \fHello\n",
      "    \tHello\n",
      "    \n",
      "Hello\n",
      "    Hello\u000b\n",
      "    \\Hello\n",
      "    'Hello\n",
      "    \"Hello\n",
      "      Hello\n"
     ]
    }
   ],
   "source": [
    "print(\"    \\aHello\")\n",
    "print(\"    \\rHello\")\n",
    "print(\"    \\tHello\")\n",
    "print(\"    \\bHello\")\n",
    "print(\"    \\fHello\")\n",
    "print(\"    \\tHello\")\n",
    "print(\"    \\nHello\")\n",
    "print(\"    Hello\\v\")\n",
    "print(\"    \\\\Hello\")\n",
    "print(\"    \\'Hello\")\n",
    "print(\"    \\\"Hello\")\n",
    "print(\"      Hello\")"
   ]
  },
  {
   "cell_type": "code",
   "execution_count": 21,
   "metadata": {},
   "outputs": [
    {
     "name": "stdout",
     "output_type": "stream",
     "text": [
      "raw string을 사용하지 않고 문자 출력하기\n",
      "raw string을 사용하지 않고고\\b 문자 출력하기\n"
     ]
    }
   ],
   "source": [
    "print('raw string을 사용하지 않고고\\b 문자 출력하기')\n",
    "print(r'raw string을 사용하지 않고고\\b 문자 출력하기')"
   ]
  },
  {
   "cell_type": "code",
   "execution_count": 23,
   "metadata": {},
   "outputs": [
    {
     "name": "stdout",
     "output_type": "stream",
     "text": [
      "C:\\programs\n",
      "ayana\n",
      "C:\\programs\\ayana\n",
      "C:\\programs\\nayana\n",
      "C:\\programs\\\\ayana\n"
     ]
    }
   ],
   "source": [
    "print('C:\\programs\\nayana')\n",
    "print('C:\\programs\\\\ayana')\n",
    "print(R'C:\\programs\\nayana')\n",
    "print(R'C:\\programs\\\\ayana')"
   ]
  },
  {
   "attachments": {},
   "cell_type": "markdown",
   "metadata": {},
   "source": [
    "### rjust(width,[fillchar])"
   ]
  },
  {
   "cell_type": "code",
   "execution_count": 25,
   "metadata": {},
   "outputs": [
    {
     "name": "stdout",
     "output_type": "stream",
     "text": [
      "002\n"
     ]
    }
   ],
   "source": [
    "print(\"2\".rjust(3,\"0\"))\n"
   ]
  },
  {
   "cell_type": "code",
   "execution_count": 26,
   "metadata": {},
   "outputs": [
    {
     "name": "stdout",
     "output_type": "stream",
     "text": [
      "50000\n"
     ]
    }
   ],
   "source": [
    "print(\"50000\".rjust(5,\"0\"))"
   ]
  },
  {
   "cell_type": "code",
   "execution_count": 27,
   "metadata": {},
   "outputs": [
    {
     "name": "stdout",
     "output_type": "stream",
     "text": [
      "00123\n"
     ]
    }
   ],
   "source": [
    "print(\"123\".rjust(5,\"0\"))"
   ]
  },
  {
   "cell_type": "code",
   "execution_count": 28,
   "metadata": {},
   "outputs": [
    {
     "name": "stdout",
     "output_type": "stream",
     "text": [
      "aa123\n"
     ]
    }
   ],
   "source": [
    "print(\"123\".rjust(5,\"a\"))"
   ]
  },
  {
   "cell_type": "code",
   "execution_count": 30,
   "metadata": {},
   "outputs": [
    {
     "name": "stdout",
     "output_type": "stream",
     "text": [
      "123\n",
      "  123\n"
     ]
    }
   ],
   "source": [
    "print(\"123\")\n",
    "print(\"123\".rjust(5,\" \"))"
   ]
  },
  {
   "attachments": {},
   "cell_type": "markdown",
   "metadata": {},
   "source": [
    "### zfill(width)"
   ]
  },
  {
   "cell_type": "code",
   "execution_count": 31,
   "metadata": {},
   "outputs": [
    {
     "name": "stdout",
     "output_type": "stream",
     "text": [
      "002\n",
      "50000\n",
      "00123\n"
     ]
    }
   ],
   "source": [
    "print(\"2\".zfill(3))\n",
    "print(\"50000\".zfill(5))\n",
    "print((\"123\".zfill(5)))"
   ]
  },
  {
   "attachments": {},
   "cell_type": "markdown",
   "metadata": {},
   "source": [
    "### split"
   ]
  },
  {
   "cell_type": "markdown",
   "metadata": {},
   "source": []
  },
  {
   "cell_type": "code",
   "execution_count": 56,
   "metadata": {},
   "outputs": [
    {
     "name": "stdout",
     "output_type": "stream",
     "text": [
      "Hello, I am Jack and I am a data scientist\n",
      "e\n"
     ]
    }
   ],
   "source": [
    "string_ = \"Hello, I am Jack and I am a data scientist\"\n",
    "print(string_)\n",
    "print(string_[1])"
   ]
  },
  {
   "cell_type": "code",
   "execution_count": 57,
   "metadata": {},
   "outputs": [
    {
     "data": {
      "text/plain": [
       "['Hello,', 'I', 'am', 'Jack', 'and', 'I', 'am', 'a', 'data', 'scientist']"
      ]
     },
     "execution_count": 57,
     "metadata": {},
     "output_type": "execute_result"
    }
   ],
   "source": [
    "string_list = string_.split(\" \")\n",
    "string_list"
   ]
  },
  {
   "cell_type": "code",
   "execution_count": 61,
   "metadata": {},
   "outputs": [
    {
     "name": "stdout",
     "output_type": "stream",
     "text": [
      "True False\n"
     ]
    }
   ],
   "source": [
    "print( string_.startswith('Hello'),\n",
    "string_.startswith('scientist'))"
   ]
  },
  {
   "cell_type": "code",
   "execution_count": 62,
   "metadata": {},
   "outputs": [
    {
     "name": "stdout",
     "output_type": "stream",
     "text": [
      "True False\n"
     ]
    }
   ],
   "source": [
    "print(string_.endswith('scientist'),\n",
    "string_.endswith('Hello'))"
   ]
  },
  {
   "cell_type": "code",
   "execution_count": 63,
   "metadata": {},
   "outputs": [
    {
     "name": "stdout",
     "output_type": "stream",
     "text": [
      "Hello, I am John and I am a data scientist\n",
      "Hello, I am Jack and I am a data scientist\n"
     ]
    }
   ],
   "source": [
    "print(string_.replace('Jack','John'))\n",
    "print(string_)"
   ]
  },
  {
   "attachments": {},
   "cell_type": "markdown",
   "metadata": {},
   "source": [
    "### Copy()"
   ]
  },
  {
   "cell_type": "code",
   "execution_count": 1,
   "metadata": {},
   "outputs": [
    {
     "data": {
      "text/plain": [
       "{'apple', 'banana', 'cherry'}"
      ]
     },
     "execution_count": 1,
     "metadata": {},
     "output_type": "execute_result"
    }
   ],
   "source": [
    "fruits = {\"apple\",\"banana\",\"cherry\"}\n",
    "fruits_copy = fruits.copy()\n",
    "fruits_copy"
   ]
  },
  {
   "cell_type": "code",
   "execution_count": 2,
   "metadata": {},
   "outputs": [
    {
     "name": "stdout",
     "output_type": "stream",
     "text": [
      "{'a': 5, 'b': 4, 'c': 8}\n",
      "{'a': 5, 'b': 4, 'c': 8}\n"
     ]
    }
   ],
   "source": [
    "a = {'a':5,'b':4,'c':8}\n",
    "b = a\n",
    "print(a)\n",
    "print(b)"
   ]
  },
  {
   "cell_type": "code",
   "execution_count": 3,
   "metadata": {},
   "outputs": [
    {
     "name": "stdout",
     "output_type": "stream",
     "text": [
      "{'a': 5, 'b': 4, 'c': 8}\n",
      "{'a': 5, 'b': 4, 'c': 8}\n"
     ]
    }
   ],
   "source": [
    "import copy\n",
    "b = copy.copy(a)\n",
    "print(b)\n",
    "print(a)"
   ]
  },
  {
   "cell_type": "code",
   "execution_count": 1,
   "metadata": {},
   "outputs": [
    {
     "name": "stdout",
     "output_type": "stream",
     "text": [
      "[[1, 2], [3, 4, 5]]\n",
      "[[1, 2], [3, 4]]\n",
      "[[1, 2], [3, 4, 5]]\n"
     ]
    }
   ],
   "source": [
    "#깊은 복사\n",
    "import copy\n",
    "list_var = [[1,2],[3,4]]\n",
    "list_var_deppcopy = copy.deepcopy(list_var)\n",
    "list_var_copy = list_var.copy()\n",
    "\n",
    "list_var[1].append(5)\n",
    "\n",
    "print(list_var)\n",
    "print(list_var_deppcopy)\n",
    "print(list_var_copy)"
   ]
  },
  {
   "attachments": {},
   "cell_type": "markdown",
   "metadata": {},
   "source": [
    "# 반복문과 조건문"
   ]
  },
  {
   "cell_type": "code",
   "execution_count": 2,
   "metadata": {},
   "outputs": [
    {
     "name": "stdout",
     "output_type": "stream",
     "text": [
      "90\n",
      "45\n",
      "32\n",
      "44\n"
     ]
    }
   ],
   "source": [
    "data = [90, 45, 32, 44]\n",
    "for i in range(len(data)):\n",
    "    print(data[i])"
   ]
  },
  {
   "cell_type": "code",
   "execution_count": 3,
   "metadata": {},
   "outputs": [
    {
     "name": "stdout",
     "output_type": "stream",
     "text": [
      "id\n",
      "first_name\n",
      "last_name\n",
      "email\n",
      "gender\n",
      "ip_address\n"
     ]
    }
   ],
   "source": [
    "mock_data = {\n",
    "    \"id\": 1,\n",
    "  \"first_name\": \"states\",\n",
    "  \"last_name\": \"code\",\n",
    "  \"email\": \"code@states.com\",\n",
    "  \"gender\": \"Female\",\n",
    "  \"ip_address\": \"123.123.123.23\"\n",
    "}\n",
    "\n",
    "for x in mock_data:\n",
    "    print(x)"
   ]
  },
  {
   "cell_type": "code",
   "execution_count": 4,
   "metadata": {},
   "outputs": [
    {
     "name": "stdout",
     "output_type": "stream",
     "text": [
      "id\n",
      "first_name\n",
      "last_name\n",
      "email\n",
      "gender\n",
      "ip_address\n"
     ]
    }
   ],
   "source": [
    "for x in mock_data.keys():\n",
    "    print(x)"
   ]
  },
  {
   "cell_type": "code",
   "execution_count": 5,
   "metadata": {},
   "outputs": [
    {
     "name": "stdout",
     "output_type": "stream",
     "text": [
      "1\n",
      "states\n",
      "code\n",
      "code@states.com\n",
      "Female\n",
      "123.123.123.23\n"
     ]
    }
   ],
   "source": [
    "for x in mock_data.values():\n",
    "    print(x)"
   ]
  },
  {
   "cell_type": "code",
   "execution_count": 6,
   "metadata": {},
   "outputs": [
    {
     "name": "stdout",
     "output_type": "stream",
     "text": [
      "('id', 1)\n",
      "('first_name', 'states')\n",
      "('last_name', 'code')\n",
      "('email', 'code@states.com')\n",
      "('gender', 'Female')\n",
      "('ip_address', '123.123.123.23')\n",
      "id 1\n",
      "first_name states\n",
      "last_name code\n",
      "email code@states.com\n",
      "gender Female\n",
      "ip_address 123.123.123.23\n"
     ]
    }
   ],
   "source": [
    "for x in mock_data.items():\n",
    "    print(x)\n",
    "\n",
    "for k, v in mock_data.items():\n",
    "    print(k,v)"
   ]
  },
  {
   "cell_type": "code",
   "execution_count": 7,
   "metadata": {},
   "outputs": [
    {
     "name": "stdout",
     "output_type": "stream",
     "text": [
      "1 10\n",
      "2 20\n",
      "3 30\n",
      "4 40\n",
      "5 50\n"
     ]
    }
   ],
   "source": [
    "a = [1,2,3,4,5]\n",
    "b = [10,20,30,40,50]\n",
    "for i in range(len(a)):\n",
    "    print(a[i],b[i])"
   ]
  },
  {
   "cell_type": "code",
   "execution_count": 8,
   "metadata": {},
   "outputs": [
    {
     "name": "stdout",
     "output_type": "stream",
     "text": [
      "[(1, 10), (2, 20), (3, 30), (4, 40), (5, 50)]\n"
     ]
    }
   ],
   "source": [
    "c = zip(a,b)\n",
    "print(list(c))"
   ]
  },
  {
   "cell_type": "code",
   "execution_count": 9,
   "metadata": {},
   "outputs": [
    {
     "name": "stdout",
     "output_type": "stream",
     "text": [
      "1 10 100\n",
      "2 20 200\n",
      "3 30 300\n",
      "4 40 400\n",
      "5 50 500\n"
     ]
    }
   ],
   "source": [
    "c = [100,200,300,400,500]\n",
    "for x, y, z in zip(a,b,c):\n",
    "    print(x, y, z)"
   ]
  },
  {
   "cell_type": "code",
   "execution_count": 10,
   "metadata": {},
   "outputs": [
    {
     "name": "stdout",
     "output_type": "stream",
     "text": [
      "0\n",
      "1\n",
      "2\n"
     ]
    }
   ],
   "source": [
    "IntCollection=[0,1,2,3,4,5,6,7]\n",
    "for x in IntCollection:\n",
    "    if x==3 :\n",
    "        break\n",
    "    else:\n",
    "        print(x)"
   ]
  },
  {
   "cell_type": "code",
   "execution_count": 11,
   "metadata": {},
   "outputs": [
    {
     "name": "stdout",
     "output_type": "stream",
     "text": [
      "0\n",
      "1\n",
      "2\n",
      "4\n",
      "5\n",
      "6\n",
      "7\n"
     ]
    }
   ],
   "source": [
    "for x in IntCollection:\n",
    "    if(x==3):\n",
    "        continue\n",
    "    else:\n",
    "        print(x)"
   ]
  },
  {
   "cell_type": "code",
   "execution_count": 12,
   "metadata": {},
   "outputs": [
    {
     "name": "stdout",
     "output_type": "stream",
     "text": [
      "foo(list_[i])\n",
      "1\n",
      "2\n",
      "3\n",
      "4\n",
      "5\n",
      "foo(element)\n",
      "1\n",
      "2\n",
      "3\n",
      "4\n",
      "5\n"
     ]
    }
   ],
   "source": [
    "list_ = [1,2,3,4,5]\n",
    "\n",
    "def foo(list_):\n",
    "    print(list_)\n",
    "\n",
    "print('foo(list_[i])')\n",
    "for i in range(len(list_)):\n",
    "    foo(list_[i])\n",
    "print('foo(element)')\n",
    "for element in list_:\n",
    "    foo(element)"
   ]
  },
  {
   "attachments": {},
   "cell_type": "markdown",
   "metadata": {},
   "source": [
    "### 에러상황파악 error & warning"
   ]
  },
  {
   "cell_type": "code",
   "execution_count": 15,
   "metadata": {},
   "outputs": [],
   "source": [
    "def print_list(list):\n",
    "    for item in list:\n",
    "        print(item)"
   ]
  },
  {
   "cell_type": "code",
   "execution_count": 19,
   "metadata": {},
   "outputs": [
    {
     "data": {
      "text/plain": [
       "'123ddf'"
      ]
     },
     "execution_count": 19,
     "metadata": {},
     "output_type": "execute_result"
    }
   ],
   "source": [
    "'123ddf'"
   ]
  },
  {
   "cell_type": "code",
   "execution_count": 20,
   "metadata": {},
   "outputs": [
    {
     "ename": "KeyboardInterrupt",
     "evalue": "",
     "output_type": "error",
     "traceback": [
      "\u001b[0;31m---------------------------------------------------------------------------\u001b[0m",
      "\u001b[0;31mKeyboardInterrupt\u001b[0m                         Traceback (most recent call last)",
      "Cell \u001b[0;32mIn[20], line 2\u001b[0m\n\u001b[1;32m      1\u001b[0m \u001b[39mwhile\u001b[39;00m \u001b[39mTrue\u001b[39;00m:\n\u001b[0;32m----> 2\u001b[0m   \u001b[39mpass\u001b[39;00m\n",
      "\u001b[0;31mKeyboardInterrupt\u001b[0m: "
     ]
    }
   ],
   "source": [
    "while True:\n",
    "  pass"
   ]
  },
  {
   "attachments": {},
   "cell_type": "markdown",
   "metadata": {},
   "source": [
    "# Lambda"
   ]
  },
  {
   "cell_type": "code",
   "execution_count": 42,
   "metadata": {},
   "outputs": [
    {
     "name": "stdout",
     "output_type": "stream",
     "text": [
      "b의 값:0 a의 값:3\n",
      "\n",
      "b의 값:1 a의 값:3\n",
      "\n",
      "b의 값:2 a의 값:1\n",
      "\n",
      "b의 값:3 a의 값:3\n",
      "\n",
      "b의 값:4 a의 값:2\n",
      "\n",
      "b의 값:5 a의 값:2\n",
      "\n"
     ]
    }
   ],
   "source": [
    "for b in range(6):\n",
    "    a = 1 if b==2 else (2 if b>3 else 3)\n",
    "    print(f'b의 값:{b} a의 값:{a}\\n')"
   ]
  },
  {
   "cell_type": "code",
   "execution_count": 43,
   "metadata": {},
   "outputs": [
    {
     "name": "stdout",
     "output_type": "stream",
     "text": [
      "call_resultcall_resultcall_resultcall_resultcall_result\n"
     ]
    }
   ],
   "source": [
    "define_word = (lambda word1,define : word1*define)\n",
    "result = define_word('call_result',5)\n",
    "print(result)"
   ]
  },
  {
   "cell_type": "code",
   "execution_count": 51,
   "metadata": {},
   "outputs": [
    {
     "name": "stdout",
     "output_type": "stream",
     "text": [
      "['test1!!!', 'test2!!!', 'test4!!!', 'test5!!!', 'test3!!!']\n"
     ]
    }
   ],
   "source": [
    "spelling = [\"test1\", \"test2\", \"test4\", \"test5\", \"test3\"]\n",
    "\n",
    "shout_spells = map(lambda item : item + ('!!!'), spelling)\n",
    "\n",
    "shout_spells_list = list(shout_spells)\n",
    "print(shout_spells_list)"
   ]
  },
  {
   "cell_type": "code",
   "execution_count": 52,
   "metadata": {},
   "outputs": [
    {
     "data": {
      "text/plain": [
       "['test1!!!', 'test2!!!', 'test4!!!', 'test5!!!', 'test3!!!']"
      ]
     },
     "execution_count": 52,
     "metadata": {},
     "output_type": "execute_result"
    }
   ],
   "source": [
    "shout_spells_list"
   ]
  },
  {
   "cell_type": "code",
   "execution_count": 54,
   "metadata": {},
   "outputs": [
    {
     "name": "stdout",
     "output_type": "stream",
     "text": [
      "['samwise', 'aragorn', 'boromir', 'legolas', 'gandalf']\n"
     ]
    }
   ],
   "source": [
    "fellowship = ['frodo', 'samwise', 'merry', 'pippin', 'aragorn', 'boromir', 'legolas', 'gimli', 'gandalf']\n",
    "result = filter(lambda member : len(member)>6, fellowship)\n",
    "result_list = list(result)\n",
    "print(result_list)"
   ]
  },
  {
   "cell_type": "code",
   "execution_count": null,
   "metadata": {},
   "outputs": [],
   "source": []
  }
 ],
 "metadata": {
  "kernelspec": {
   "display_name": "model5",
   "language": "python",
   "name": "python3"
  },
  "language_info": {
   "codemirror_mode": {
    "name": "ipython",
    "version": 3
   },
   "file_extension": ".py",
   "mimetype": "text/x-python",
   "name": "python",
   "nbconvert_exporter": "python",
   "pygments_lexer": "ipython3",
   "version": "3.8.16"
  },
  "orig_nbformat": 4
 },
 "nbformat": 4,
 "nbformat_minor": 2
}
