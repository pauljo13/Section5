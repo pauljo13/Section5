{
 "cells": [
  {
   "attachments": {},
   "cell_type": "markdown",
   "metadata": {},
   "source": [
    "# 정규표현식"
   ]
  },
  {
   "cell_type": "code",
   "execution_count": 3,
   "metadata": {},
   "outputs": [
    {
     "name": "stdout",
     "output_type": "stream",
     "text": [
      "color\n"
     ]
    }
   ],
   "source": [
    "import re\n",
    "\n",
    "wordlist = [\"color\", \"colour\", \"work\",\"working\",\"fox\",\"worker\",\"working\"]\n",
    "\n",
    "for word in wordlist:\n",
    "    if re.search('col.r',word):\n",
    "        print(word)"
   ]
  },
  {
   "cell_type": "code",
   "execution_count": 8,
   "metadata": {},
   "outputs": [
    {
     "name": "stdout",
     "output_type": "stream",
     "text": [
      "color\n",
      "colour\n"
     ]
    }
   ],
   "source": [
    "for word in wordlist:\n",
    "    if re.search('col',word):\n",
    "        print(word)"
   ]
  },
  {
   "cell_type": "code",
   "execution_count": 11,
   "metadata": {},
   "outputs": [
    {
     "name": "stdout",
     "output_type": "stream",
     "text": [
      "color\n",
      "colour\n",
      "work\n",
      "working\n",
      "worker\n",
      "working\n"
     ]
    }
   ],
   "source": [
    "for word in wordlist:\n",
    "    if re.search('.r',word):\n",
    "        print(word)"
   ]
  },
  {
   "cell_type": "code",
   "execution_count": 1,
   "metadata": {},
   "outputs": [
    {
     "name": "stdout",
     "output_type": "stream",
     "text": [
      "32\n"
     ]
    }
   ],
   "source": [
    "regular_expression = '<html><head><title>Title</title>'\n",
    "print(len(regular_expression))"
   ]
  },
  {
   "cell_type": "code",
   "execution_count": 12,
   "metadata": {},
   "outputs": [
    {
     "name": "stdout",
     "output_type": "stream",
     "text": [
      "<re.Match object; span=(0, 32), match='<html><head><title>Title</title>'>\n"
     ]
    }
   ],
   "source": [
    "print(re.match('<.*>', regular_expression))"
   ]
  },
  {
   "cell_type": "code",
   "execution_count": 4,
   "metadata": {},
   "outputs": [
    {
     "name": "stdout",
     "output_type": "stream",
     "text": [
      "(0, 32)\n"
     ]
    }
   ],
   "source": [
    "print(re.match('<.*>', regular_expression).span())"
   ]
  },
  {
   "cell_type": "code",
   "execution_count": 5,
   "metadata": {},
   "outputs": [
    {
     "name": "stdout",
     "output_type": "stream",
     "text": [
      "<html><head><title>Title</title>\n"
     ]
    }
   ],
   "source": [
    "print(re.match('<.*>', regular_expression).group())"
   ]
  },
  {
   "cell_type": "code",
   "execution_count": 14,
   "metadata": {},
   "outputs": [
    {
     "data": {
      "text/plain": [
       "re.compile(r'\\n010- #핸드폰 앞자리\\n\\d{4}- #중간자리\\n\\d{4} #뒷자리\\n',\n",
       "           re.UNICODE|re.VERBOSE)"
      ]
     },
     "execution_count": 14,
     "metadata": {},
     "output_type": "execute_result"
    }
   ],
   "source": [
    "phone = re.compile(\"\"\"\n",
    "010- #핸드폰 앞자리\n",
    "\\d{4}- #중간자리\n",
    "\\d{4} #뒷자리\n",
    "\"\"\", re.VERBOSE)\n",
    "phone"
   ]
  },
  {
   "cell_type": "code",
   "execution_count": 15,
   "metadata": {},
   "outputs": [
    {
     "data": {
      "text/plain": [
       "re.compile(r'010-\\d{4}-\\d{4}', re.UNICODE)"
      ]
     },
     "execution_count": 15,
     "metadata": {},
     "output_type": "execute_result"
    }
   ],
   "source": [
    "phone = re.compile(\"010-\\d{4}-\\d{4}\")\n",
    "phone"
   ]
  },
  {
   "cell_type": "code",
   "execution_count": 18,
   "metadata": {},
   "outputs": [
    {
     "name": "stdout",
     "output_type": "stream",
     "text": [
      "<re.Match object; span=(4, 17), match='010-1234-1234'>\n",
      "(4, 17)\n",
      "010-1234-1234\n",
      "<re.Match object; span=(4, 17), match='010-5678-5678'>\n",
      "(4, 17)\n",
      "010-5678-5678\n"
     ]
    }
   ],
   "source": [
    "info = ['홍길동 010-1234-1234','고길동 010-5678-5678']\n",
    "\n",
    "for text in info:\n",
    "    match_object = phone.search(text)\n",
    "    print(match_object)\n",
    "    print(match_object.span())\n",
    "    print(match_object.group())"
   ]
  },
  {
   "attachments": {},
   "cell_type": "markdown",
   "metadata": {},
   "source": [
    "### escape 문자"
   ]
  },
  {
   "cell_type": "code",
   "execution_count": 20,
   "metadata": {},
   "outputs": [
    {
     "name": "stdout",
     "output_type": "stream",
     "text": [
      "Hello\n",
      "    \tHello\n",
      "   Hello\n",
      "    \\Hello\n",
      "    'Hello\n",
      "    \"Hello\n",
      "      Hello\n"
     ]
    }
   ],
   "source": [
    "print(\"    \\rHello\")\n",
    "print(\"    \\tHello\")\n",
    "print(\"    \\bHello\")\n",
    "print(\"    \\\\Hello\")\n",
    "print(\"    \\'Hello\")\n",
    "print(\"    \\\"Hello\")\n",
    "print(\"      Hello\")"
   ]
  },
  {
   "cell_type": "code",
   "execution_count": 21,
   "metadata": {},
   "outputs": [
    {
     "name": "stdout",
     "output_type": "stream",
     "text": [
      "raw string을 사용하지 않고 문자 출력하기\n",
      "raw string을 사용하지 않고고\\b 문자 출력하기\n"
     ]
    }
   ],
   "source": [
    "print('raw string을 사용하지 않고고\\b 문자 출력하기')\n",
    "print(r'raw string을 사용하지 않고고\\b 문자 출력하기')"
   ]
  },
  {
   "cell_type": "code",
   "execution_count": 23,
   "metadata": {},
   "outputs": [
    {
     "name": "stdout",
     "output_type": "stream",
     "text": [
      "C:\\programs\n",
      "ayana\n",
      "C:\\programs\\ayana\n",
      "C:\\programs\\nayana\n",
      "C:\\programs\\\\ayana\n"
     ]
    }
   ],
   "source": [
    "print('C:\\programs\\nayana')\n",
    "print('C:\\programs\\\\ayana')\n",
    "print(R'C:\\programs\\nayana')\n",
    "print(R'C:\\programs\\\\ayana')"
   ]
  },
  {
   "attachments": {},
   "cell_type": "markdown",
   "metadata": {},
   "source": [
    "### rjust(width,[fillchar])"
   ]
  },
  {
   "cell_type": "code",
   "execution_count": 25,
   "metadata": {},
   "outputs": [
    {
     "name": "stdout",
     "output_type": "stream",
     "text": [
      "002\n"
     ]
    }
   ],
   "source": [
    "print(\"2\".rjust(3,\"0\"))\n"
   ]
  },
  {
   "cell_type": "code",
   "execution_count": 26,
   "metadata": {},
   "outputs": [
    {
     "name": "stdout",
     "output_type": "stream",
     "text": [
      "50000\n"
     ]
    }
   ],
   "source": [
    "print(\"50000\".rjust(5,\"0\"))"
   ]
  },
  {
   "cell_type": "code",
   "execution_count": 27,
   "metadata": {},
   "outputs": [
    {
     "name": "stdout",
     "output_type": "stream",
     "text": [
      "00123\n"
     ]
    }
   ],
   "source": [
    "print(\"123\".rjust(5,\"0\"))"
   ]
  },
  {
   "cell_type": "code",
   "execution_count": 28,
   "metadata": {},
   "outputs": [
    {
     "name": "stdout",
     "output_type": "stream",
     "text": [
      "aa123\n"
     ]
    }
   ],
   "source": [
    "print(\"123\".rjust(5,\"a\"))"
   ]
  },
  {
   "cell_type": "code",
   "execution_count": 30,
   "metadata": {},
   "outputs": [
    {
     "name": "stdout",
     "output_type": "stream",
     "text": [
      "123\n",
      "  123\n"
     ]
    }
   ],
   "source": [
    "print(\"123\")\n",
    "print(\"123\".rjust(5,\" \"))"
   ]
  },
  {
   "attachments": {},
   "cell_type": "markdown",
   "metadata": {},
   "source": [
    "### zfill(width)"
   ]
  },
  {
   "cell_type": "code",
   "execution_count": 31,
   "metadata": {},
   "outputs": [
    {
     "name": "stdout",
     "output_type": "stream",
     "text": [
      "002\n",
      "50000\n",
      "00123\n"
     ]
    }
   ],
   "source": [
    "print(\"2\".zfill(3))\n",
    "print(\"50000\".zfill(5))\n",
    "print((\"123\".zfill(5)))"
   ]
  },
  {
   "attachments": {},
   "cell_type": "markdown",
   "metadata": {},
   "source": [
    "### split"
   ]
  },
  {
   "cell_type": "code",
   "execution_count": 56,
   "metadata": {},
   "outputs": [
    {
     "name": "stdout",
     "output_type": "stream",
     "text": [
      "Hello, I am Jack and I am a data scientist\n",
      "e\n"
     ]
    }
   ],
   "source": [
    "string_ = \"Hello, I am Jack and I am a data scientist\"\n",
    "print(string_)\n",
    "print(string_[1])"
   ]
  },
  {
   "cell_type": "code",
   "execution_count": 57,
   "metadata": {},
   "outputs": [
    {
     "data": {
      "text/plain": [
       "['Hello,', 'I', 'am', 'Jack', 'and', 'I', 'am', 'a', 'data', 'scientist']"
      ]
     },
     "execution_count": 57,
     "metadata": {},
     "output_type": "execute_result"
    }
   ],
   "source": [
    "string_list = string_.split(\" \")\n",
    "string_list"
   ]
  },
  {
   "cell_type": "code",
   "execution_count": 61,
   "metadata": {},
   "outputs": [
    {
     "name": "stdout",
     "output_type": "stream",
     "text": [
      "True False\n"
     ]
    }
   ],
   "source": [
    "print( string_.startswith('Hello'),\n",
    "string_.startswith('scientist'))"
   ]
  },
  {
   "cell_type": "code",
   "execution_count": 62,
   "metadata": {},
   "outputs": [
    {
     "name": "stdout",
     "output_type": "stream",
     "text": [
      "True False\n"
     ]
    }
   ],
   "source": [
    "print(string_.endswith('scientist'),\n",
    "string_.endswith('Hello'))"
   ]
  },
  {
   "cell_type": "code",
   "execution_count": 63,
   "metadata": {},
   "outputs": [
    {
     "name": "stdout",
     "output_type": "stream",
     "text": [
      "Hello, I am John and I am a data scientist\n",
      "Hello, I am Jack and I am a data scientist\n"
     ]
    }
   ],
   "source": [
    "print(string_.replace('Jack','John'))\n",
    "print(string_)"
   ]
  },
  {
   "attachments": {},
   "cell_type": "markdown",
   "metadata": {},
   "source": [
    "### Copy()"
   ]
  },
  {
   "cell_type": "code",
   "execution_count": null,
   "metadata": {},
   "outputs": [],
   "source": []
  },
  {
   "attachments": {},
   "cell_type": "markdown",
   "metadata": {},
   "source": [
    "# Lambda"
   ]
  },
  {
   "cell_type": "code",
   "execution_count": 42,
   "metadata": {},
   "outputs": [
    {
     "name": "stdout",
     "output_type": "stream",
     "text": [
      "b의 값:0 a의 값:3\n",
      "\n",
      "b의 값:1 a의 값:3\n",
      "\n",
      "b의 값:2 a의 값:1\n",
      "\n",
      "b의 값:3 a의 값:3\n",
      "\n",
      "b의 값:4 a의 값:2\n",
      "\n",
      "b의 값:5 a의 값:2\n",
      "\n"
     ]
    }
   ],
   "source": [
    "for b in range(6):\n",
    "    a = 1 if b==2 else (2 if b>3 else 3)\n",
    "    print(f'b의 값:{b} a의 값:{a}\\n')"
   ]
  },
  {
   "cell_type": "code",
   "execution_count": 43,
   "metadata": {},
   "outputs": [
    {
     "name": "stdout",
     "output_type": "stream",
     "text": [
      "call_resultcall_resultcall_resultcall_resultcall_result\n"
     ]
    }
   ],
   "source": [
    "define_word = (lambda word1,define : word1*define)\n",
    "result = define_word('call_result',5)\n",
    "print(result)"
   ]
  },
  {
   "cell_type": "code",
   "execution_count": 51,
   "metadata": {},
   "outputs": [
    {
     "name": "stdout",
     "output_type": "stream",
     "text": [
      "['test1!!!', 'test2!!!', 'test4!!!', 'test5!!!', 'test3!!!']\n"
     ]
    }
   ],
   "source": [
    "spelling = [\"test1\", \"test2\", \"test4\", \"test5\", \"test3\"]\n",
    "\n",
    "shout_spells = map(lambda item : item + ('!!!'), spelling)\n",
    "\n",
    "shout_spells_list = list(shout_spells)\n",
    "print(shout_spells_list)"
   ]
  },
  {
   "cell_type": "code",
   "execution_count": 52,
   "metadata": {},
   "outputs": [
    {
     "data": {
      "text/plain": [
       "['test1!!!', 'test2!!!', 'test4!!!', 'test5!!!', 'test3!!!']"
      ]
     },
     "execution_count": 52,
     "metadata": {},
     "output_type": "execute_result"
    }
   ],
   "source": [
    "shout_spells_list"
   ]
  },
  {
   "cell_type": "code",
   "execution_count": 54,
   "metadata": {},
   "outputs": [
    {
     "name": "stdout",
     "output_type": "stream",
     "text": [
      "['samwise', 'aragorn', 'boromir', 'legolas', 'gandalf']\n"
     ]
    }
   ],
   "source": [
    "fellowship = ['frodo', 'samwise', 'merry', 'pippin', 'aragorn', 'boromir', 'legolas', 'gimli', 'gandalf']\n",
    "result = filter(lambda member : len(member)>6, fellowship)\n",
    "result_list = list(result)\n",
    "print(result_list)"
   ]
  },
  {
   "cell_type": "code",
   "execution_count": null,
   "metadata": {},
   "outputs": [],
   "source": []
  }
 ],
 "metadata": {
  "kernelspec": {
   "display_name": "model5",
   "language": "python",
   "name": "python3"
  },
  "language_info": {
   "codemirror_mode": {
    "name": "ipython",
    "version": 3
   },
   "file_extension": ".py",
   "mimetype": "text/x-python",
   "name": "python",
   "nbconvert_exporter": "python",
   "pygments_lexer": "ipython3",
   "version": "3.8.16"
  },
  "orig_nbformat": 4
 },
 "nbformat": 4,
 "nbformat_minor": 2
}
