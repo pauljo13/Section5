{
  "nbformat": 4,
  "nbformat_minor": 0,
  "metadata": {
    "colab": {
      "provenance": [],
      "toc_visible": true
    },
    "kernelspec": {
      "name": "python3",
      "display_name": "Python 3"
    },
    "language_info": {
      "name": "python"
    }
  },
  "cells": [
    {
      "cell_type": "markdown",
      "source": [
        "### 재귀활용예시1\n",
        "재귀를 활용하는 예시로는 특정 패턴이나 규칙을 가진 데이터를 처리하거나 변환하는 작업이 있을 수 있습니다."
      ],
      "metadata": {
        "id": "zjVTw_hsUIpy"
      }
    },
    {
      "cell_type": "code",
      "source": [
        "def apply_recursive_transformation(data):\n",
        "    if isinstance(data, list):\n",
        "        transformed_data = []\n",
        "        for item in data:\n",
        "            transformed_item = apply_recursive_transformation(item)\n",
        "            transformed_data.append(transformed_item)\n",
        "        return transformed_data\n",
        "    elif isinstance(data, dict):\n",
        "        transformed_data = {}\n",
        "        for key, value in data.items():\n",
        "            transformed_value = apply_recursive_transformation(value)\n",
        "            transformed_data[key] = transformed_value\n",
        "        return transformed_data\n",
        "    else:\n",
        "        # Base case: Apply specific transformation to the data\n",
        "        transformed_data = perform_transformation(data)\n",
        "        return transformed_data\n",
        "\n",
        "def perform_transformation(data):\n",
        "    # Apply specific transformation logic to the data\n",
        "    transformed_data = data + 1\n",
        "    return transformed_data\n",
        "\n",
        "# Sample data\n",
        "data = {\n",
        "    \"key1\": [1, 2, 3],\n",
        "    \"key2\": {\n",
        "        \"subkey1\": [4, 5, 6],\n",
        "        \"subkey2\": [7, 8, 9]\n",
        "    }\n",
        "}\n",
        "\n",
        "# Apply recursive transformation\n",
        "transformed_data = apply_recursive_transformation(data)\n",
        "print(transformed_data)\n"
      ],
      "metadata": {
        "colab": {
          "base_uri": "https://localhost:8080/"
        },
        "id": "5F-Ui0d3UJsC",
        "outputId": "28e4f5ac-025e-4e8d-b589-a9452655030a"
      },
      "execution_count": 1,
      "outputs": [
        {
          "output_type": "stream",
          "name": "stdout",
          "text": [
            "{'key1': [2, 3, 4], 'key2': {'subkey1': [5, 6, 7], 'subkey2': [8, 9, 10]}}\n"
          ]
        }
      ]
    },
    {
      "cell_type": "markdown",
      "source": [
        "위 코드에서는 apply_recursive_transformation 함수를 사용하여 데이터를 재귀적으로 변환하는 작업을 수행합니다.\n",
        "\n",
        "함수는 데이터가 리스트인 경우 리스트의 각 요소에 대해 재귀적으로 변환을 적용하고, 데이터가 딕셔너리인 경우 딕셔너리의 각 값에 대해 재귀적으로 변환을 적용합니다.\n",
        "\n",
        "데이터가 기본 타입인 경우에는 특정 변환 로직을 적용합니다(위 코드에서는 데이터에 1을 더하는 간단한 변환 로직을 사용했습니다).\n",
        "\n"
      ],
      "metadata": {
        "id": "171Snu9bUNaO"
      }
    },
    {
      "cell_type": "markdown",
      "source": [
        "### 재귀활용예시2\n",
        "트리 구조를 탐색하거나 분석하는 작업이 있을 수 있습니다.\n",
        "\n",
        "아래 예시를 통해 재귀를 사용하여 트리를 순회하고 원하는 정보를 추출하는 방법을 보여드리겠습니다."
      ],
      "metadata": {
        "id": "yawetq0MUQQ3"
      }
    },
    {
      "cell_type": "code",
      "source": [
        "class Node:\n",
        "    def __init__(self, name, value, children=None):\n",
        "        self.name = name\n",
        "        self.value = value\n",
        "        self.children = children if children is not None else []\n",
        "\n",
        "    def add_child(self, child):\n",
        "        self.children.append(child)\n",
        "\n",
        "\n",
        "def recursive_tree_search(node, target_value):\n",
        "    if node.value == target_value:\n",
        "        return node\n",
        "\n",
        "    for child in node.children:\n",
        "        result = recursive_tree_search(child, target_value)\n",
        "        if result is not None:\n",
        "            return result\n",
        "\n",
        "    return None\n",
        "\n",
        "\n",
        "# Sample tree\n",
        "root = Node(\"A\", 10)\n",
        "node1 = Node(\"B\", 20)\n",
        "node2 = Node(\"C\", 30)\n",
        "node3 = Node(\"D\", 40)\n",
        "node4 = Node(\"E\", 50)\n",
        "\n",
        "root.add_child(node1)\n",
        "root.add_child(node2)\n",
        "node1.add_child(node3)\n",
        "node1.add_child(node4)\n",
        "\n",
        "# Perform recursive tree search\n",
        "target_value = 40\n",
        "result_node = recursive_tree_search(root, target_value)\n",
        "if result_node is not None:\n",
        "    print(f\"Node with value {target_value} found: {result_node.name}\")\n",
        "else:\n",
        "    print(f\"No node with value {target_value} found.\")\n"
      ],
      "metadata": {
        "colab": {
          "base_uri": "https://localhost:8080/"
        },
        "id": "GccHbe4qUKGF",
        "outputId": "911d606c-83aa-49b9-e312-7914842620b6"
      },
      "execution_count": 2,
      "outputs": [
        {
          "output_type": "stream",
          "name": "stdout",
          "text": [
            "Node with value 40 found: D\n"
          ]
        }
      ]
    },
    {
      "cell_type": "markdown",
      "source": [
        "위의 코드에서는 Node 클래스를 사용하여 트리 구조를 나타냅니다.\n",
        "\n",
        "recursive_tree_search 함수는 재귀적으로 호출되면서 트리를 탐색하고, 원하는 값을 가진 노드를 찾으면 해당 노드를 반환합니다.\n",
        "\n",
        "함수는 현재 노드와 자식 노드들에 대해 재귀적으로 탐색을 수행합니다.\n",
        "\n",
        "이를 통해 트리 구조를 순회하면서 원하는 정보를 추출할 수 있습니다.\n",
        "\n"
      ],
      "metadata": {
        "id": "zcUkhSEtUU55"
      }
    },
    {
      "cell_type": "markdown",
      "source": [
        "### 재귀3"
      ],
      "metadata": {
        "id": "KGhzAoxcUr3O"
      }
    },
    {
      "cell_type": "markdown",
      "source": [
        "이커머스 서비스에서 재귀를 활용할 수 있는 예시 중 하나는 상품 카테고리 구조를 탐색하는 작업입니다.\n",
        "\n",
        "이커머스 서비스에서는 다양한 카테고리와 하위 카테고리로 구성된 상품 카테고리 구조를 가지고 있을 수 있습니다.\n",
        "\n",
        "재귀를 사용하여 이러한 카테고리 구조를 순회하고 원하는 정보를 추출하는 방법을 아래 예시를 통해 설명해드리겠습니다.\n",
        "\n"
      ],
      "metadata": {
        "id": "ZeZoUi4EUtRx"
      }
    },
    {
      "cell_type": "code",
      "source": [
        "class Category:\n",
        "    def __init__(self, name, subcategories=None):\n",
        "        self.name = name\n",
        "        self.subcategories = subcategories if subcategories is not None else []\n",
        "\n",
        "    def add_subcategory(self, subcategory):\n",
        "        self.subcategories.append(subcategory)\n",
        "\n",
        "\n",
        "def explore_categories(category, level):\n",
        "    print('\\t' * level, category.name)\n",
        "\n",
        "    for subcategory in category.subcategories:\n",
        "        explore_categories(subcategory, level + 1)\n",
        "\n",
        "\n",
        "# Sample category structure\n",
        "root = Category(\"Electronics\")\n",
        "subcategory1 = Category(\"Computers\")\n",
        "subcategory2 = Category(\"Smartphones\")\n",
        "subcategory3 = Category(\"Accessories\")\n",
        "subcategory4 = Category(\"Laptops\")\n",
        "subcategory5 = Category(\"Tablets\")\n",
        "\n",
        "root.add_subcategory(subcategory1)\n",
        "root.add_subcategory(subcategory2)\n",
        "root.add_subcategory(subcategory3)\n",
        "subcategory1.add_subcategory(subcategory4)\n",
        "subcategory1.add_subcategory(subcategory5)\n",
        "\n",
        "# Explore categories\n",
        "explore_categories(root, 0)\n"
      ],
      "metadata": {
        "colab": {
          "base_uri": "https://localhost:8080/"
        },
        "id": "NGiKdU8nUSIS",
        "outputId": "b0aaba02-bd1a-4f0f-ea2c-b0fb811e21db"
      },
      "execution_count": 3,
      "outputs": [
        {
          "output_type": "stream",
          "name": "stdout",
          "text": [
            " Electronics\n",
            "\t Computers\n",
            "\t\t Laptops\n",
            "\t\t Tablets\n",
            "\t Smartphones\n",
            "\t Accessories\n"
          ]
        }
      ]
    },
    {
      "cell_type": "markdown",
      "source": [
        "위 코드에서는 Category 클래스를 사용하여 상품 카테고리를 표현합니다.\n",
        "\n",
        "explore_categories 함수는 재귀적으로 호출되면서 카테고리 구조를 탐색하고, 각 카테고리의 이름을 출력합니다.\n",
        "\n",
        "함수는 현재 카테고리와 하위 카테고리들에 대해 재귀적으로 탐색을 수행합니다.\n",
        "\n",
        "이를 통해 상품 카테고리 구조를 순회하면서 원하는 정보를 추출할 수 있습니다.\n",
        "\n",
        "이러한 방식으로 재귀를 사용하여 이커머스 서비스에서 상품 카테고리 구조를 탐색하거나 분석하는 작업을 수행할 수 있습니다.\n",
        "\n",
        "재귀를 활용하면 복잡한 카테고리 구조에서도 간결하고 효율적인 코드를 작성할 수 있습니다.\n",
        "\n",
        "\n",
        "\n",
        "\n"
      ],
      "metadata": {
        "id": "SHGU3dErVUaO"
      }
    },
    {
      "cell_type": "markdown",
      "source": [
        "### 재귀4"
      ],
      "metadata": {
        "id": "HRdPJvTdVfPK"
      }
    },
    {
      "cell_type": "markdown",
      "source": [
        "이커머스 서비스에서 재귀를 활용하는 또 다른 예시는 장바구니(cart)에 담긴 상품들의 총 가격을 계산하는 작업입니다.\n",
        "\n",
        "이커머스 서비스에서는 고객이 장바구니에 여러 상품을 담을 수 있으며, 각 상품은 가격 정보를 가지고 있습니다.\n",
        "\n",
        "재귀를 사용하여 장바구니의 모든 상품 가격을 계산하는 방법을 아래 예시를 통해 설명해드리겠습니다."
      ],
      "metadata": {
        "id": "JeLQ7wkzVgco"
      }
    },
    {
      "cell_type": "code",
      "source": [
        "class Product:\n",
        "    def __init__(self, name, price):\n",
        "        self.name = name\n",
        "        self.price = price\n",
        "\n",
        "\n",
        "class CartItem:\n",
        "    def __init__(self, product, quantity):\n",
        "        self.product = product\n",
        "        self.quantity = quantity\n",
        "\n",
        "\n",
        "def calculate_cart_total(cart_items):\n",
        "    total = 0\n",
        "\n",
        "    def calculate_item_total(item):\n",
        "        return item.product.price * item.quantity\n",
        "\n",
        "    for item in cart_items:\n",
        "        if isinstance(item, CartItem):\n",
        "            total += calculate_item_total(item)\n",
        "        elif isinstance(item, list):\n",
        "            total += calculate_cart_total(item)\n",
        "\n",
        "    return total\n",
        "\n",
        "\n",
        "# Sample cart with items\n",
        "product1 = Product(\"Laptop\", 1000)\n",
        "product2 = Product(\"Smartphone\", 800)\n",
        "product3 = Product(\"Headphones\", 100)\n",
        "product4 = Product(\"Mouse\", 20)\n",
        "\n",
        "cart_items = [\n",
        "    CartItem(product1, 1),\n",
        "    CartItem(product2, 2),\n",
        "    [\n",
        "        CartItem(product3, 1),\n",
        "        CartItem(product4, 3)\n",
        "    ]\n",
        "]\n",
        "\n",
        "# Calculate total cart price\n",
        "total_price = calculate_cart_total(cart_items)\n",
        "print(\"Total price:\", total_price)\n"
      ],
      "metadata": {
        "colab": {
          "base_uri": "https://localhost:8080/"
        },
        "id": "cRLLJUUVVR32",
        "outputId": "acce46b5-4e8c-4cb8-b2d6-b51cac5ba2e2"
      },
      "execution_count": 4,
      "outputs": [
        {
          "output_type": "stream",
          "name": "stdout",
          "text": [
            "Total price: 2760\n"
          ]
        }
      ]
    },
    {
      "cell_type": "markdown",
      "source": [
        "위 코드에서는 Product 클래스를 사용하여 상품을 표현하고, CartItem 클래스를 사용하여 장바구니에 담긴 개별 상품을 표현합니다.\n",
        "\n",
        "calculate_cart_total 함수는 장바구니에 담긴 상품들의 총 가격을 계산합니다.\n",
        "\n",
        "재귀적으로 호출되면서 각 CartItem 객체의 가격과 수량을 곱하여 상품의 총 가격을 계산합니다.\n",
        "\n",
        "또한, 리스트 형태의 장바구니 아이템이 있을 경우에는 해당 리스트를 재귀적으로 탐색하여 내부 아이템의 가격을 계산합니다.\n",
        "\n",
        "이를 통해 재귀를 사용하여 이커머스 서비스에서 장바구니에 담긴 상품들의 총 가격을 계산할 수 있습니다.\n",
        "\n",
        "장바구니에 담긴 상품들이 계층적인 구조를 가지거나 중첩되어 있어도 재귀를 활용하면 간단하게 계산할 수 있습니다.\n",
        "\n",
        "\n",
        "\n",
        "\n"
      ],
      "metadata": {
        "id": "Bz0IhR6OVmKP"
      }
    },
    {
      "cell_type": "markdown",
      "source": [
        "### 트리1"
      ],
      "metadata": {
        "id": "cIXQTHqPa9IU"
      }
    },
    {
      "cell_type": "markdown",
      "source": [
        "이커머스 서비스에서 트리를 활용하는 예시 중 하나는 상품 카테고리를 기반으로 추천 상품을 생성하는 작업입니다.\n",
        "\n",
        "이커머스 서비스에서는 상품 카테고리 간의 관계를 나타내는 트리 구조를 가지고 있을 수 있습니다.\n",
        "\n",
        "트리를 사용하여 카테고리 구조를 탐색하고, 특정 카테고리에 속하는 상품들 중에서 추천 상품을 생성하는 작업을 아래 예시를 통해 설명해드리겠습니다."
      ],
      "metadata": {
        "id": "UIXK37-Xa-Yy"
      }
    },
    {
      "cell_type": "code",
      "source": [
        "class Category:\n",
        "    def __init__(self, name, products=None, subcategories=None):\n",
        "        self.name = name\n",
        "        self.products = products if products is not None else []\n",
        "        self.subcategories = subcategories if subcategories is not None else []\n",
        "\n",
        "    def add_product(self, product):\n",
        "        self.products.append(product)\n",
        "\n",
        "    def add_subcategory(self, subcategory):\n",
        "        self.subcategories.append(subcategory)\n",
        "\n",
        "\n",
        "def generate_recommendations(category, recommendations):\n",
        "    if category.products:\n",
        "        recommendations.extend(category.products)\n",
        "\n",
        "    for subcategory in category.subcategories:\n",
        "        generate_recommendations(subcategory, recommendations)\n",
        "\n",
        "\n",
        "# Sample category structure with products\n",
        "root = Category(\"Electronics\")\n",
        "\n",
        "category1 = Category(\"Computers\")\n",
        "category1.add_product(\"Laptop 1\")\n",
        "category1.add_product(\"Laptop 2\")\n",
        "category1.add_product(\"Desktop 1\")\n",
        "\n",
        "category2 = Category(\"Smartphones\")\n",
        "category2.add_product(\"Phone 1\")\n",
        "category2.add_product(\"Phone 2\")\n",
        "\n",
        "category3 = Category(\"Accessories\")\n",
        "category3.add_product(\"Headphones\")\n",
        "category3.add_product(\"Charging cable\")\n",
        "\n",
        "root.add_subcategory(category1)\n",
        "root.add_subcategory(category2)\n",
        "root.add_subcategory(category3)\n",
        "\n",
        "# Generate recommendations for a specific category\n",
        "target_category = category1\n",
        "recommended_products = []\n",
        "generate_recommendations(target_category, recommended_products)\n",
        "\n",
        "print(f\"Recommended products in {target_category.name}:\")\n",
        "for product in recommended_products:\n",
        "    print(product)\n"
      ],
      "metadata": {
        "colab": {
          "base_uri": "https://localhost:8080/"
        },
        "id": "ym1Or_4gVkFk",
        "outputId": "fb3850ca-cd48-4462-ef6b-623369022c09"
      },
      "execution_count": 6,
      "outputs": [
        {
          "output_type": "stream",
          "name": "stdout",
          "text": [
            "Recommended products in Computers:\n",
            "Laptop 1\n",
            "Laptop 2\n",
            "Desktop 1\n"
          ]
        }
      ]
    },
    {
      "cell_type": "markdown",
      "source": [
        "위 코드에서는 Category 클래스를 사용하여 상품 카테고리를 표현하고, generate_recommendations 함수를 통해 특정 카테고리에 속하는 상품들 중에서 추천 상품을 생성합니다.\n",
        "\n",
        "generate_recommendations 함수는 재귀적으로 호출되면서 카테고리 구조를 탐색하고, 각 카테고리에 속하는 상품들을 추천 상품 리스트에 추가합니다.\n",
        "\n",
        "위 예시를 통해 이커머스 서비스에서 트리 구조를 활용하여 상품 카테고리에 따라 추천 상품을 생성하는 작업을 수행할 수 있습니다.\n",
        "\n",
        "이를 통해 고객에게 특정 카테고리와 관련된 다양한 상품을 추천할 수 있습니다.\n",
        "\n",
        "\n",
        "\n",
        "\n"
      ],
      "metadata": {
        "id": "6Ied_dEmbDJB"
      }
    },
    {
      "cell_type": "markdown",
      "source": [
        "### 트리2"
      ],
      "metadata": {
        "id": "bCPTPGZuclOn"
      }
    },
    {
      "cell_type": "markdown",
      "source": [
        "이커머스 서비스에서 트리를 활용하는 또 다른 예시로는 상품 검색을 개선하는 작업이 있을 수 있습니다.\n",
        "\n",
        "이커머스 서비스에서는 상품을 검색할 때 카테고리 구조를 활용하여 더 정확하고 효율적인 검색을 수행할 수 있습니다.\n",
        "\n",
        "아래 예시를 통해 트리를 활용하여 상품 검색을 개선하는 방법을 설명해드리겠습니다.\n",
        "\n"
      ],
      "metadata": {
        "id": "sMrgdoCJclHb"
      }
    },
    {
      "cell_type": "code",
      "source": [
        "class Product:\n",
        "    def __init__(self, name):\n",
        "        self.name = name\n",
        "\n",
        "\n",
        "class Category:\n",
        "    def __init__(self, name, products=None, subcategories=None):\n",
        "        self.name = name\n",
        "        self.products = products if products is not None else []\n",
        "        self.subcategories = subcategories if subcategories is not None else []\n",
        "\n",
        "    def add_product(self, product):\n",
        "        self.products.append(product)\n",
        "\n",
        "    def add_subcategory(self, subcategory):\n",
        "        self.subcategories.append(subcategory)\n",
        "\n",
        "\n",
        "def search_products(category, search_query, results):\n",
        "    if search_query.lower() in category.name.lower():\n",
        "        results.extend(category.products)\n",
        "\n",
        "    for subcategory in category.subcategories:\n",
        "        search_products(subcategory, search_query, results)\n",
        "\n",
        "\n",
        "# Sample category structure with products\n",
        "root = Category(\"Electronics\")\n",
        "\n",
        "category1 = Category(\"Computers\")\n",
        "category1.add_product(Product(\"Laptop 1\"))\n",
        "category1.add_product(Product(\"Laptop 2\"))\n",
        "category1.add_product(Product(\"Desktop 1\"))\n",
        "\n",
        "category2 = Category(\"Smartphones\")\n",
        "category2.add_product(Product(\"Phone 1\"))\n",
        "category2.add_product(Product(\"Phone 2\"))\n",
        "\n",
        "category3 = Category(\"Accessories\")\n",
        "category3.add_product(Product(\"Headphones\"))\n",
        "category3.add_product(Product(\"Charging cable\"))\n",
        "\n",
        "root.add_subcategory(category1)\n",
        "root.add_subcategory(category2)\n",
        "root.add_subcategory(category3)\n",
        "\n",
        "# Perform search within a specific category\n",
        "target_category = category1\n",
        "search_query = \"laptop\"\n",
        "search_results = []\n",
        "search_products(target_category, search_query, search_results)\n",
        "\n",
        "print(f\"Search results in {target_category.name} for '{search_query}':\")\n",
        "for product in search_results:\n",
        "    print(product.name)\n"
      ],
      "metadata": {
        "colab": {
          "base_uri": "https://localhost:8080/"
        },
        "id": "Q7tpvvuIarsY",
        "outputId": "b8390c9c-a265-42e2-df93-df635e5dcd83"
      },
      "execution_count": 7,
      "outputs": [
        {
          "output_type": "stream",
          "name": "stdout",
          "text": [
            "Search results in Computers for 'laptop':\n"
          ]
        }
      ]
    },
    {
      "cell_type": "markdown",
      "source": [
        "위 코드에서는 Product 클래스로 상품을 표현하고, Category 클래스로 카테고리와 하위 카테고리를 표현합니다.\n",
        "\n",
        "search_products 함수를 사용하여 특정 카테고리에서 검색어에 일치하는 상품들을 검색합니다.\n",
        "\n",
        "함수는 재귀적으로 호출되면서 카테고리 구조를 탐색하고, 검색어에 일치하는 카테고리 이름이나 상품 이름을 가진 상품들을 결과 리스트에 추가합니다.\n",
        "\n",
        "위 예시를 통해 이커머스 서비스에서 트리 구조를 활용하여 상품 검색을 개선할 수 있습니다.\n",
        "\n",
        "카테고리 구조를 활용하여 특정 카테고리 내에서 상품을 검색함으로써 정확한 검색 결과를 제공할 수 있습니다.\n",
        "\n",
        "이를 통해 고객이 원하는 상품을 더 빠르고 효과적으로 찾을 수 있습니다.\n",
        "\n",
        "\n",
        "\n",
        "\n"
      ],
      "metadata": {
        "id": "Ny5faQwscsbi"
      }
    },
    {
      "cell_type": "code",
      "source": [],
      "metadata": {
        "id": "oiQLUjBOco1q"
      },
      "execution_count": null,
      "outputs": []
    }
  ]
}