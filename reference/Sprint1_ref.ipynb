{
  "cells": [
    {
      "cell_type": "markdown",
      "metadata": {
        "id": "v4xXIi2thvCd"
      },
      "source": [
        "# N511"
      ]
    },
    {
      "attachments": {},
      "cell_type": "markdown",
      "metadata": {
        "id": "h4vPzg8ShzOs"
      },
      "source": [
        "### Part_1 - 내장 메소드"
      ]
    },
    {
      "cell_type": "code",
      "execution_count": null,
      "metadata": {
        "colab": {
          "base_uri": "https://localhost:8080/"
        },
        "id": "63Oesnq-bj2L",
        "outputId": "aff19d05-ea05-402b-d0d8-c4171279b085"
      },
      "outputs": [
        {
          "data": {
            "text/plain": [
              "[1, 4, 9, 16, 25, 36, 49, 64, 81, 100]"
            ]
          },
          "execution_count": 1,
          "metadata": {},
          "output_type": "execute_result"
        }
      ],
      "source": [
        "\"\"\"\n",
        "Bare Minimum Requirements\n",
        "컬렉션 자료형을 다양하게 활용할 줄 알아야 합니다.\n",
        "요구사항:\n",
        "    컴퓨터공학 기본을 시작하면서 첫 프로그래밍 과제입니다.\n",
        "    수학문제를 풀 때 덧셈부터 시작하듯이 프로그래밍에서도 기초부터 여러번 반복해보도록 합니다.\n",
        "    아래에서 요구되는 요구조건과 테스트 통과코드방법은 하나일 수 있지만 다양한 방법을 생각해보면서 프로그래밍을 진행하도록 합니다.\n",
        "    \n",
        "    '1부터 101 사이에 있는 모든 제곱수'를 하나의 리스트에 출력하는 코드를 작성해주세요.\n",
        "    제곱수 : 1, 4, 9, 16,...,81, 100\n",
        "    아래 예시입력값과 출력값을 참조하며 문제를 해결해봅니다.\n",
        "        입력값:\n",
        "            없음    \n",
        "        출력값:\n",
        "            [1, 4, 9, 16, 25, 36, 49, 64, 81, 100]\n",
        "\"\"\"\n",
        "\n",
        "def part1():\n",
        "    ##### 소스코드를 작성해주세요 #####  \n",
        "    answer = []\n",
        "    for i in range(1, 11):\n",
        "        answer.append(i * i)\n",
        "\n",
        "    return answer\n",
        "\n",
        "part1()"
      ]
    },
    {
      "attachments": {},
      "cell_type": "markdown",
      "metadata": {
        "id": "4Pd3UaudiYiw"
      },
      "source": [
        "### Part_2 - 람다"
      ]
    },
    {
      "cell_type": "code",
      "execution_count": null,
      "metadata": {
        "colab": {
          "base_uri": "https://localhost:8080/"
        },
        "id": "IfVZasjBiaER",
        "outputId": "f804207f-f3b1-404d-c036-7291ee418309"
      },
      "outputs": [
        {
          "data": {
            "text/plain": [
              "[1, 4, 9, 16, 25]"
            ]
          },
          "execution_count": 2,
          "metadata": {},
          "output_type": "execute_result"
        }
      ],
      "source": [
        "\"\"\"\n",
        "Bare Minimum Requirements\n",
        "람다를 조건에 적합하게 활용할 줄 알아야 합니다.\n",
        "요구사항:\n",
        "    람다라는 개념이 기본적으로 어떤 상황에서 활용되고 효율적인지 생각해봅니다.\n",
        "    요구사항은 간단하지만 람다를 활용했을 때와 아닐 때를 함께 고려하면서 문제를 해결해봅니다.\n",
        "    주어진 조건에 적합한 로직을 람다를 활용하여 구현합니다.\n",
        "    \n",
        "    문제 1.\n",
        "        매개변수로 들어온 리스트 요소들의 제곱수를 가지고 있는 리스트를 반환해주세요.\n",
        "        단 매개변수로 들어오는 리스트는 1이상의 자연수로만 구성되어있습니다.\n",
        "        람다키워드를 함수 내부에서 사용해야 합니다.\n",
        "    \n",
        "        *예시 1* \n",
        "            입력값:\n",
        "                [1, 2, 3, 4, 5]\n",
        "            출력값:\n",
        "                [1, 4, 9, 16, 25]\n",
        "        \n",
        "        *예시 2* \n",
        "            입력값:\n",
        "                [2, 4, 6, 8, 10, 12]\n",
        "            출력값:\n",
        "                [4, 16, 36, 64, 100, 144]\n",
        "    \n",
        "    문제 2.\n",
        "        매개변수로 들어온 리스트 요소들이 홀수인지 짝수인지 리스트를 통해 반환해주세요.\n",
        "        (반환되는 리스트 내부에는 '홀수', '짝수'만 있어야합니다.)\n",
        "        단 매개변수로 들어오는 리스트는 1이상의 자연수로만 구성되어있습니다.\n",
        "        람다키워드를 함수 내부에서 사용해야 합니다.\n",
        "        *예시 1* \n",
        "            입력값:\n",
        "                [1, 4, 9, 16, 25]\n",
        "            출력값:\n",
        "                ['홀수', '짝수', '홀수', '짝수', '홀수']\n",
        "        \n",
        "        *예시 2* \n",
        "            입력값:\n",
        "                [2, 3, 6, 7, 10, 12]\n",
        "            출력값:\n",
        "                ['짝수', '홀수', '짝수', '홀수', '짝수', '짝수']\n",
        "\"\"\"\n",
        "\n",
        "# 문제 1\n",
        "def part2_is_square_num(a):   \n",
        "    ##### 소스코드를 작성해주세요 #####\n",
        "    get_square = list(map(lambda x : x**2, a))\n",
        "    return get_square\n",
        "\n",
        "part2_is_square_num([1, 2, 3, 4, 5])"
      ]
    },
    {
      "cell_type": "code",
      "execution_count": null,
      "metadata": {
        "colab": {
          "base_uri": "https://localhost:8080/"
        },
        "id": "T9diddQAkWcU",
        "outputId": "67d0505b-7e2d-49e8-beaa-c1b55ce1a6d6"
      },
      "outputs": [
        {
          "data": {
            "text/plain": [
              "['홀수', '짝수', '홀수', '짝수', '홀수']"
            ]
          },
          "execution_count": 3,
          "metadata": {},
          "output_type": "execute_result"
        }
      ],
      "source": [
        "# 문제 2\n",
        "def part2_is_odd_num(a):   \n",
        "    ##### 소스코드를 작성해주세요 #####\n",
        "    is_odd = list(map(lambda x: '짝수' if x%2 == 0 else '홀수', a))\n",
        "    return is_odd\n",
        "\n",
        "part2_is_odd_num([1, 4, 9, 16, 25])"
      ]
    },
    {
      "attachments": {},
      "cell_type": "markdown",
      "metadata": {
        "id": "fjHQ41rhif_c"
      },
      "source": [
        "### Part_3 - 내장 메소드"
      ]
    },
    {
      "cell_type": "code",
      "execution_count": null,
      "metadata": {
        "colab": {
          "base_uri": "https://localhost:8080/",
          "height": 36
        },
        "id": "isphE5jHihQ8",
        "outputId": "86bf0a72-1de0-4ddd-81c0-9459559f1926"
      },
      "outputs": [
        {
          "data": {
            "application/vnd.google.colaboratory.intrinsic+json": {
              "type": "string"
            },
            "text/plain": [
              "'A D U X b c y z'"
            ]
          },
          "execution_count": 4,
          "metadata": {},
          "output_type": "execute_result"
        }
      ],
      "source": [
        "\n",
        "\"\"\"\n",
        "Bare Minimum Requirements\n",
        "컬렉션 자료형의 기본특징과 내장함수를 이해하고 활용할 줄 알아야 합니다.\n",
        "요구사항:\n",
        "    프로그래밍뿐만 아니라 데이터 직군, IT 직군에서 자주 활용되는 내장함수에 익숙해지도록 합니다.\n",
        "    내장함수를 활용한 경우와 활용하지 않은 경우의 차이점에 대해 생각해보면서 문제를 해결합니다.\n",
        "    자유롭게 문자를 입력받아 알파벳순서대로(A~Z, a~z) 정렬하세요.\n",
        "    문자를 정렬하기 위한 값의 비교는 아스키코드의 십진법을 기준으로 합니다.\n",
        "    중복되는 문자열을 처리해줄 수 있도록 기능을 구현해주세요.\n",
        "    영어 소문자와 대문자에 대해서만 정렬을 진행하도록 합니다.\n",
        "    \n",
        "    아래 예시입력값과 출력값을 참조하며 문제를 해결해봅니다.\n",
        "    *예시 1* \n",
        "        입력값:\n",
        "            'a T C'\n",
        "        출력값:\n",
        "            'C T a'\n",
        "    *예시 2* \n",
        "        입력값:\n",
        "            'z X y D c A b U'\n",
        "        출력값:\n",
        "            'A D U X b c y z'\n",
        "\"\"\"\n",
        "\n",
        "def part3(s):\n",
        "    ##### 소스코드를 작성해주세요 #####\n",
        "    words = [word for word in s.split(\" \")]\n",
        "    return \" \".join(sorted(list(set(words))))\n",
        "\n",
        "part3('z X y D c A b U')"
      ]
    },
    {
      "cell_type": "markdown",
      "metadata": {
        "id": "MtX4jzwGittj"
      },
      "source": [
        "# N512"
      ]
    },
    {
      "attachments": {},
      "cell_type": "markdown",
      "metadata": {
        "id": "OT9-wO_Liv5H"
      },
      "source": [
        "### Part_1 - 문제해결, 컴프리헨션"
      ]
    },
    {
      "cell_type": "code",
      "execution_count": null,
      "metadata": {
        "colab": {
          "base_uri": "https://localhost:8080/"
        },
        "id": "clHA3dPGivf-",
        "outputId": "9e2442e2-ea10-454b-c1e5-93ff1bd8bc97"
      },
      "outputs": [
        {
          "data": {
            "text/plain": [
              "[35, 70]"
            ]
          },
          "execution_count": 5,
          "metadata": {},
          "output_type": "execute_result"
        }
      ],
      "source": [
        "\"\"\"\n",
        "Bare Minimum Requirements\n",
        "파이썬의 기본형태를 이해하고 컴프리헨션을 활용할 줄 알아야 합니다.\n",
        "요구사항:\n",
        "    반복해서 수학적인 개념이 접목된 프로그래밍 문제를 해결해봅니다.\n",
        "    프로그래밍에 익숙해지는 과정에는 코드 자체에 대한 맥락을 읽어야 하는 것이 중요합니다.\n",
        "    리스트 컴프리헨션 개념을 적용하여 '1~100까지 7과 5의 공배수' 를 구하는 코드를 작성하세요.\n",
        "    아래 예시입력값과 출력값을 참조하며 문제를 해결해봅니다.\n",
        "    입력값:\n",
        "        없음\n",
        "    출력값:\n",
        "        [35, 70]\n",
        "\"\"\"\n",
        "\n",
        "def part1():\n",
        "    ##### 소스코드를 작성해주세요 #####\n",
        "    result = [i for i in range(1, 101) if i % 7==0 if i % 5 == 0]\n",
        "\n",
        "    return result\n",
        "\n",
        "part1()"
      ]
    },
    {
      "attachments": {},
      "cell_type": "markdown",
      "metadata": {
        "id": "MPcS3ZZpkDJN"
      },
      "source": [
        "### Part_2 - 문제해결"
      ]
    },
    {
      "cell_type": "code",
      "execution_count": null,
      "metadata": {
        "colab": {
          "base_uri": "https://localhost:8080/"
        },
        "id": "mLrR-czgkEQk",
        "outputId": "bdd7eb8c-b443-4e66-ceba-852f7eac53a8"
      },
      "outputs": [
        {
          "data": {
            "text/plain": [
              "11"
            ]
          },
          "execution_count": 6,
          "metadata": {},
          "output_type": "execute_result"
        }
      ],
      "source": [
        "\n",
        "\"\"\"\n",
        "Bare Minimum Requirements\n",
        "유기적으로 연결되는 파이썬 코드와 추상적인 숫자에 익숙해집니다.\n",
        "요구사항:\n",
        "    우리는 지금까지 다양한 코딩을 진행해왔습니다.\n",
        "    코딩을 뛰어넘어 생각하는 프로그래밍을 해야 데이터 직군뿐만아니라 직업인으로서 \n",
        "    문제를 찾고 더 나은 방향을 모색할 수 있습니다.\n",
        "    문제를 해결하고 더 나은 방법을 연구해보는 것은 여러분들을 위한 중요한 수행입니다.\n",
        "    '리스트의 값 중 최댓값'을 구하도록 코드를 구현하세요.\n",
        "    파이썬의 내장함수를 사용하지 않고, 반복문과 조건문을 활용합니다.\n",
        "    아래 예시입력값과 출력값을 참조하며 문제를 해결해봅니다.\n",
        "    입력값:\n",
        "        [4, 8, 5, 11, 7, 2]\n",
        "    출력값:\n",
        "        11\n",
        "\"\"\"\n",
        "\n",
        "def part2(num):\n",
        "    ##### 소스코드를 작성해주세요 #####\n",
        "    maximum_number = num[0]\n",
        "    for i in range(0,len(num)):\n",
        "        if int(num[i]) > int(maximum_number):\n",
        "            maximum_number = num[i]\n",
        "\n",
        "    return maximum_number\n",
        "\n",
        "part2([4, 8, 5, 11, 7, 2])"
      ]
    },
    {
      "cell_type": "markdown",
      "metadata": {
        "id": "eS8RTKe5kOLq"
      },
      "source": [
        "# N513"
      ]
    },
    {
      "attachments": {},
      "cell_type": "markdown",
      "metadata": {
        "id": "SurCIFa5kQMK"
      },
      "source": [
        "### Part_1 - 클래스"
      ]
    },
    {
      "cell_type": "code",
      "execution_count": null,
      "metadata": {
        "colab": {
          "base_uri": "https://localhost:8080/"
        },
        "id": "bpOnEeHPkPg7",
        "outputId": "d25bad74-1713-485e-8631-d2f38a0bd6d1"
      },
      "outputs": [
        {
          "name": "stdout",
          "output_type": "stream",
          "text": [
            "문제 1 : kimcoding_1\n",
            "문제 2 : kimcoding_1 can not do anything else\n"
          ]
        }
      ],
      "source": [
        "\"\"\"\n",
        "Bare Minimum Requirements\n",
        "요구사항:\n",
        "    아래 문제들을 확인하며 하나씩 문제를 풀어주세요.    \n",
        "\"\"\"\n",
        "\n",
        "class CarOwner:\n",
        "    \"\"\"\n",
        "    자동차 주인을 나타내는 클래스입니다. \n",
        "    자동차 주인은 이름(name)을 가지고 있으며\n",
        "    자동차 주인은 concentrate 메소드를 통해 이름 + ' can not do anything else'를 반환해야합니다. \n",
        "    \"\"\"\n",
        "    def __init__(self, name):\n",
        "        \"\"\"\n",
        "        문제 1. \n",
        "            CarOwner 클래스의 생성자 메소드를 작성해주세요.\n",
        "            매개변수를 수정하거나 추가하지 말아주세요.\n",
        "        \"\"\"\n",
        "        # pass\n",
        "        self.name = name\n",
        "\n",
        "    def concentrate(self):\n",
        "        \"\"\"\n",
        "        문제 2. \n",
        "            자동차 주인 이름에 따라 \n",
        "            '{자동차주인이름} can not do anything else'문구를 반환해주는 메소드를 작성해주세요.\n",
        "        \"\"\"\n",
        "        # pass\n",
        "        return('{} can not do anything else'.format\n",
        "              (self.name))\n",
        "\n",
        "# 문제 1\n",
        "owner = CarOwner('kimcoding_1')\n",
        "print(\"문제 1 :\", owner.name)\n",
        "\n",
        "# 문제 2\n",
        "print(\"문제 2 :\", owner.concentrate())"
      ]
    },
    {
      "cell_type": "code",
      "execution_count": null,
      "metadata": {
        "colab": {
          "base_uri": "https://localhost:8080/"
        },
        "id": "oFH5hSvslCtB",
        "outputId": "714a8699-5ac0-4fc8-9d46-a240b4e22d6b"
      },
      "outputs": [
        {
          "name": "stdout",
          "output_type": "stream",
          "text": [
            "문제 3 : kimcoding_2\n",
            "문제 4 : kimcoding_2 can not do anything else\n",
            "kimcoding_2 is driving now.\n"
          ]
        }
      ],
      "source": [
        "class Car:\n",
        "    \"\"\"\n",
        "    자동차를 나타내는 클래스입니다. \n",
        "    자동차는 주인(owner)을 가지고 있으며, 주인은 CarOwner를 통해서 생성됩니다.\n",
        "    자동차는 drive 메소드를 통해 \n",
        "    자동차 주인이 집중하고 있으며(concentrate), 누가 운전하고 있는지 반환해야합니다. \n",
        "    '{자동차주인이름} is driving now.'\n",
        "    \"\"\"\n",
        "    def __init__(self, owner_name):\n",
        "        \"\"\"\n",
        "        문제 3. \n",
        "            Car 클래스의 생성자 메소드를 작성해주세요.\n",
        "            매개변수를 수정하거나 추가하지 말아주세요\n",
        "        \"\"\"\n",
        "        # pass\n",
        "        self.owner = CarOwner(owner_name)\n",
        "\n",
        "\n",
        "    def drive(self):\n",
        "        \"\"\"\n",
        "        문제 4.\n",
        "            자동차 주인이 집중하고 있으며, 자동차 주인이 자동차를 운전하고 있다는 내용을 반환해야합니다. \n",
        "            '{자동차주인이름} can not do anything else\n",
        "            {자동차주인이름} is driving now.'\n",
        "            자동차 주인이 집중하고 있다는 사실을 어떻게 하면 편하게 나타낼 수 있을까요?\n",
        "            문자열에서 줄바꿈을 하고싶은 경우 '\\n'을 사용해주세요.\n",
        "            '\\n'에 대해서 더 공부하고 싶으신 분은 '이스케이프 문자' 라고 검색해보세요\n",
        "            (hint)\n",
        "            첫 번째 문장은 CarOwner 클래스의 concentrate() 메소드를 사용해 구현하고,\n",
        "            두 번째 문장은 아래에서 구현하여 반환되도록 구현해보세요!\n",
        "        \"\"\"\n",
        "        # pass\n",
        "        return(self.owner.concentrate()+'\\n{} is driving now.'.format(self.owner.name))\n",
        "\n",
        "# 문제 3\n",
        "car = Car('kimcoding_2')\n",
        "print(\"문제 3 :\", car.owner.name)\n",
        "\n",
        "# 문제 4\n",
        "print(\"문제 4 :\", car.drive())"
      ]
    },
    {
      "cell_type": "code",
      "execution_count": null,
      "metadata": {
        "colab": {
          "base_uri": "https://localhost:8080/"
        },
        "id": "EvXgnQ7ilCkx",
        "outputId": "e1ddb67e-3a4a-42cd-8213-5429aefaa5ff"
      },
      "outputs": [
        {
          "name": "stdout",
          "output_type": "stream",
          "text": [
            "문제 5 : kimcoding_3\n",
            "문제 6 : Car is driving by itself\n"
          ]
        }
      ],
      "source": [
        "class SelfDrivingCar(Car):\n",
        "    \"\"\"\n",
        "    문제 5. \n",
        "        이 자동차는 자율주행 자동차입니다! \n",
        "        자동차를 상속받아주세요!\n",
        "    \"\"\"\n",
        "    def drive(self):\n",
        "        \"\"\"\n",
        "        문제 6.\n",
        "            이 자동차는 자동차 주인이 있지만... 자동차 주인이 운전하지 않고 스스로 운전하네요! \n",
        "            drive 메소드를 통해\n",
        "            'Car is driving by itself'를 반환해야합니다. \n",
        "            상속을 받았는데.. drive메소드를 다시 선언해도 괜찮을까요?\n",
        "            메소드 오버라이딩 개념을 다시 생각해보며 코드를 작성해주세요.\n",
        "        \"\"\"\n",
        "        # pass\n",
        "        return('Car is driving by itself')\n",
        "\n",
        "# 문제 5\n",
        "scar = SelfDrivingCar('kimcoding_3')\n",
        "print(\"문제 5 :\", scar.owner.name)\n",
        "\n",
        "# 문제 6\n",
        "print(\"문제 6 :\", scar.drive())"
      ]
    },
    {
      "attachments": {},
      "cell_type": "markdown",
      "metadata": {
        "id": "XaxQQ5SFk1g8"
      },
      "source": [
        "### Part_2 - 클래스"
      ]
    },
    {
      "cell_type": "code",
      "execution_count": null,
      "metadata": {
        "colab": {
          "base_uri": "https://localhost:8080/"
        },
        "id": "qJjdcTAzk2b0",
        "outputId": "07c4ffd7-640a-4719-b99b-c36f9b37fe5b"
      },
      "outputs": [
        {
          "name": "stdout",
          "output_type": "stream",
          "text": [
            "문제 1 : cpu_10 ram_9 battery_100\n"
          ]
        }
      ],
      "source": [
        "\"\"\"\n",
        "Bare Minimum Requirements\n",
        "요구사항:\n",
        "    아래 문제들을 확인하며 하나씩 문제를 풀어주세요.    \n",
        "\"\"\"\n",
        "\n",
        "class Computer:\n",
        "    \"\"\"\n",
        "    ## Computer 클래스의 코드는 수정하지 마세요 ##\n",
        "    이미 완성된 코드입니다.\n",
        "    아래 코드를 활용하여 문제를 해결해주세요.\n",
        "    \"\"\"\n",
        "    def __init__(self, cpu, ram):\n",
        "        self.CPU = cpu\n",
        "        self.RAM = ram\n",
        "        \n",
        "    def browse(self):\n",
        "        return('browse')\n",
        "\n",
        "    def work(self):\n",
        "        return('work')\n",
        "        \n",
        "\n",
        "class Laptop(Computer):\n",
        "    \"\"\"\n",
        "    위에 작성된 Computer 클래스를 상속받는 Laptop 클래스를 완성해주세요. \n",
        "    \"\"\"\n",
        "    def __init__(self, cpu, ram, battery):\n",
        "        \"\"\"\n",
        "        문제 1.\n",
        "            Laptop 클래스의 생성자 함수를 완성해주세요.\n",
        "            Laptop은 컴퓨터에 기본적으로 들어가는 부품 이외에 배터리도 추가됩니다.\n",
        "            Computer 클래스에서 사용하는 변수에 battery를 추가해주세요.\n",
        "            super키워드를 사용하여 상속받는 클래스에서 부모 클래스의 생성자를 사용하는 방법에 대해 익혀주세요.\n",
        "            (hint)\n",
        "            괄호가 빠져있지 않은지 확인해보세요~!\n",
        "        \"\"\"\n",
        "        # pass\n",
        "        super().__init__(cpu, ram)\n",
        "        self.battery = battery\n",
        "\n",
        "\n",
        "# 문제 1\n",
        "cpu = 'cpu_10'\n",
        "ram = 'ram_9'\n",
        "battery = 'battery_100'\n",
        "\n",
        "laptop = Laptop(cpu, ram, battery)\n",
        "print(\"문제 1 :\", laptop.CPU, \n",
        "      laptop.RAM, \n",
        "      laptop.battery)"
      ]
    },
    {
      "cell_type": "code",
      "execution_count": null,
      "metadata": {
        "colab": {
          "base_uri": "https://localhost:8080/",
          "height": 36
        },
        "id": "eRd_4TzIoULP",
        "outputId": "3cec5349-7ea4-44a3-e3e8-42b9b0e53bac"
      },
      "outputs": [
        {
          "data": {
            "application/vnd.google.colaboratory.intrinsic+json": {
              "type": "string"
            },
            "text/plain": [
              "'캡슐화 상속 추상화 다형성'"
            ]
          },
          "execution_count": 29,
          "metadata": {},
          "output_type": "execute_result"
        }
      ],
      "source": [
        "def oop_explain():\n",
        "    \"\"\"\n",
        "    문제 2. OOP에 대해서 공부하신 내용들을 최대한 많이 작성해주세요.\n",
        "    OOP의 구성에 대해서도 설명을 작성해주세요\n",
        "    \"\"\"\n",
        "\n",
        "    answer = \"\"\"캡슐화 상속 추상화 다형성\"\"\"\n",
        "\n",
        "    return answer\n",
        "\n",
        "oop_explain()"
      ]
    },
    {
      "cell_type": "markdown",
      "metadata": {
        "id": "zc7c29GGme1p"
      },
      "source": [
        "# N514"
      ]
    },
    {
      "attachments": {},
      "cell_type": "markdown",
      "metadata": {
        "id": "T1UW3hNImiH5"
      },
      "source": [
        "### Part_1 - 빅오표기법"
      ]
    },
    {
      "cell_type": "code",
      "execution_count": null,
      "metadata": {
        "id": "VQ0pyCa9mkIa"
      },
      "outputs": [],
      "source": [
        "\"\"\"\n",
        "Bare Minimum Requirements\n",
        "요구사항:\n",
        "    작성되어있는 함수의 시간복잡도가 어떻게 되는지 판별할 수 있어야합니다. \n",
        "    문제로 작성된 함수를 확인하여, 해당 함수의 시간복잡도와 그 이유를 작성해주세요.\n",
        "    문제로 작성된 함수 (part1_q1, part1_q2, part1_q3)는 수정하시면 안됩니다. \n",
        "    정답을 작성하는 함수내부에 답을 작성해주세요 \n",
        "    (part1_q1_answer, part1_q2_answer, part1_q3_answer)\n",
        "    time_complexity에는 전역으로 선언된 시간복잡도 변수를 사용해주세요.\n",
        "    reason에는 그렇게 생각한 이유를 문자열로 작성해주세요.\n",
        "\"\"\"\n",
        "\n",
        "ANSWER = 'wrong answer'\n",
        "CONSTANT = 'O(1)'\n",
        "LOGARITHMIC = 'O(logn)'\n",
        "LINEAR = 'O(n)'\n",
        "LINEARITHMIC = 'O(nlogn)'\n",
        "QUADRATIC = 'O(n^2)'\n",
        "EXPONENTIAL = 'O(c^n)' \n",
        "\n",
        "\n",
        "def part1_q1():\n",
        "    a = 10\n",
        "    b = 30\n",
        "    return(a + b)\n",
        "\n",
        "\n",
        "def part1_q1_answer():\n",
        "    time_complexity = CONSTANT\n",
        "    reason = \"....\"\n",
        "\n",
        "    return (time_complexity, reason)\n",
        "\n",
        "\n",
        "def part1_q2(li):\n",
        "    sum = 0\n",
        "    for i in li:\n",
        "        sum += li\n",
        "    return sum\n",
        "\n",
        "\n",
        "def part1_q2_answer():\n",
        "    time_complexity = LINEAR\n",
        "    reason = \"....\"\n",
        "\n",
        "    return (time_complexity, reason)\n",
        "\n",
        "\n",
        "def part1_q3(li):\n",
        "    res = []\n",
        "    for i in li:\n",
        "        for j in li:\n",
        "            res.append(i * j)\n",
        "\n",
        "    return res\n",
        "\n",
        "\n",
        "def part1_q3_answer():\n",
        "    time_complexity = QUADRATIC\n",
        "    reason = \"....\"\n",
        "\n",
        "    return (time_complexity, reason)"
      ]
    },
    {
      "attachments": {},
      "cell_type": "markdown",
      "metadata": {
        "id": "78iKqm8snKnb"
      },
      "source": [
        "### Part_2 - 빅오표기법"
      ]
    },
    {
      "cell_type": "code",
      "execution_count": null,
      "metadata": {
        "id": "sMXlkDP2nM6w"
      },
      "outputs": [],
      "source": [
        "\"\"\"\n",
        "Bare Minimum Requirements\n",
        "요구사항:\n",
        "    작성되어있는 함수의 시간복잡도가 어떻게 되는지 판별할 수 있어야합니다. \n",
        "    문제로 작성된 함수를 확인하여, 해당 함수의 시간복잡도와 그 이유를 작성해주세요.\n",
        "    문제로 작성된 함수 (part1_q1, part1_q2, part1_q3)는 수정하시면 안됩니다. \n",
        "    정답을 작성하는 함수내부에 답을 작성해주세요 \n",
        "    (part1_q1_answer, part1_q2_answer, part1_q3_answer)\n",
        "    time_complexity에는 전역으로 선언된 시간복잡도 변수를 사용해주세요.\n",
        "    reason에는 그렇게 생각한 이유를 문자열로 작성해주세요.\n",
        "    \n",
        "\"\"\"\n",
        "\n",
        "ANSWER = 'wrong answer'\n",
        "CONSTANT = 'O(1)'\n",
        "LOGARITHMIC = 'O(logn)'\n",
        "LINEAR = 'O(n)'\n",
        "LINEARITHMIC = 'O(nlogn)'\n",
        "QUADRATIC = 'O(n^2)'\n",
        "EXPONENTIAL = 'O(c^n)' \n",
        "\n",
        "\n",
        "def part2_q1(li):\n",
        "    for i in li:\n",
        "        print(i)\n",
        "\n",
        "    res = []\n",
        "    for i in li:\n",
        "        for j in li:\n",
        "            res.append(i * j)\n",
        "\n",
        "    return res\n",
        "    \n",
        "\n",
        "def part2_q1_answer():\n",
        "    time_complexity = QUADRATIC\n",
        "    reason = \"...\"\n",
        "\n",
        "    return (time_complexity, reason)\n",
        "\n",
        "\n",
        "def part2_q2(li):\n",
        "    for i in li:\n",
        "        break\n",
        "\n",
        "\n",
        "def part2_q2_answer():\n",
        "    time_complexity = CONSTANT\n",
        "    reason = \"...\"\n",
        "\n",
        "    return (time_complexity, reason)\n",
        "\n",
        "\n",
        "def part2_q3(num):\n",
        "    res = 0\n",
        "    cur = 1\n",
        "    while (cur < num):\n",
        "        res += 1\n",
        "        cur = cur * 2\n",
        "    return res\n",
        "\n",
        "\n",
        "def part2_q3_answer():\n",
        "    time_complexity = LOGARITHMIC\n",
        "    reason = \"...\"\n",
        "\n",
        "    return (time_complexity, reason)"
      ]
    }
  ],
  "metadata": {
    "colab": {
      "collapsed_sections": [
        "h4vPzg8ShzOs",
        "4Pd3UaudiYiw",
        "fjHQ41rhif_c",
        "OT9-wO_Liv5H",
        "MPcS3ZZpkDJN",
        "SurCIFa5kQMK",
        "XaxQQ5SFk1g8",
        "T1UW3hNImiH5",
        "78iKqm8snKnb",
        "HbrWztcEra8i",
        "0JM9TiiSrcgi",
        "xtM5VrqqrgHj",
        "FAYLZRuerhxi"
      ],
      "provenance": []
    },
    "kernelspec": {
      "display_name": "base",
      "language": "python",
      "name": "python3"
    },
    "language_info": {
      "name": "python",
      "version": "3.9.12"
    },
    "vscode": {
      "interpreter": {
        "hash": "91082b31c80bb61497f81fd3782b7ed433c5597bb65f4b54a48bfb54cb7e9d0f"
      }
    }
  },
  "nbformat": 4,
  "nbformat_minor": 0
}
