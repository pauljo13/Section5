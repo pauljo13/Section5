{
  "nbformat": 4,
  "nbformat_minor": 0,
  "metadata": {
    "colab": {
      "provenance": [],
      "toc_visible": true
    },
    "kernelspec": {
      "name": "python3",
      "display_name": "Python 3"
    },
    "language_info": {
      "name": "python"
    }
  },
  "cells": [
    {
      "cell_type": "markdown",
      "source": [
        "### 재귀 호출과 분할 정복"
      ],
      "metadata": {
        "id": "nYFwrRFdkjFn"
      }
    },
    {
      "cell_type": "markdown",
      "source": [
        "\n",
        "재귀 호출과 분할 정복의 차이를 보여주는 파이썬 코드를 분석해보겠습니다.\n",
        "\n",
        "예시로는 팩토리얼(factorial)을 계산하는 문제를 다루도록 하겠습니다.\n",
        "\n",
        "먼저, 재귀 호출을 사용하여 팩토리얼을 계산하는 코드를 보겠습니다.\n",
        "\n"
      ],
      "metadata": {
        "id": "H7Kopvv6khTC"
      }
    },
    {
      "cell_type": "code",
      "source": [
        "def factorial_recursive(n):\n",
        "    if n == 0:\n",
        "        return 1\n",
        "    else:\n",
        "        return n * factorial_recursive(n-1)\n",
        "\n",
        "# 테스트\n",
        "num = 5\n",
        "result_recursive = factorial_recursive(num)\n",
        "print(f\"{num}의 팩토리얼(재귀 호출): {result_recursive}\")\n"
      ],
      "metadata": {
        "colab": {
          "base_uri": "https://localhost:8080/"
        },
        "id": "QvjKWHgBkmV6",
        "outputId": "36925418-80f1-4c40-8fc5-1ad7605e7771"
      },
      "execution_count": null,
      "outputs": [
        {
          "output_type": "stream",
          "name": "stdout",
          "text": [
            "5의 팩토리얼(재귀 호출): 120\n"
          ]
        }
      ]
    },
    {
      "cell_type": "markdown",
      "source": [
        "위의 코드에서 factorial_recursive 함수는 재귀 호출을 사용하여 주어진 숫자의 팩토리얼을 계산합니다.\n",
        "\n",
        "재귀 호출에서는 함수 자체를 내부에서 다시 호출하여 작은 부분 문제를 해결하는 방식으로 동작합니다.\n",
        "\n",
        "위의 예시에서는 factorial_recursive 함수가 자기 자신을 호출하면서 작은 숫자에 대한 팩토리얼을 계산하고, 이를 조합하여 큰 숫자의 팩토리얼을 계산합니다.\n",
        "\n",
        "이제 분할 정복을 사용하여 팩토리얼을 계산하는 코드를 작성해보겠습니다.\n",
        "\n"
      ],
      "metadata": {
        "id": "x_kuhfjBkoUQ"
      }
    },
    {
      "cell_type": "code",
      "source": [
        "def factorial_divide_and_conquer(n):\n",
        "    if n == 0:\n",
        "        return 1\n",
        "\n",
        "    def divide_and_conquer(low, high):\n",
        "        if low == high:\n",
        "            return low\n",
        "        else:\n",
        "            mid = (low + high) // 2\n",
        "            left_result = divide_and_conquer(low, mid)\n",
        "            right_result = divide_and_conquer(mid + 1, high)\n",
        "            return left_result * right_result\n",
        "\n",
        "    return divide_and_conquer(1, n)\n",
        "\n",
        "# 테스트\n",
        "num = 5\n",
        "result_divide_and_conquer = factorial_divide_and_conquer(num)\n",
        "print(f\"{num}의 팩토리얼(분할 정복): {result_divide_and_conquer}\")\n"
      ],
      "metadata": {
        "colab": {
          "base_uri": "https://localhost:8080/"
        },
        "id": "jP8K0evSkp39",
        "outputId": "7ec162dd-b76e-4c33-cb5f-64a0e2ff1b25"
      },
      "execution_count": null,
      "outputs": [
        {
          "output_type": "stream",
          "name": "stdout",
          "text": [
            "5의 팩토리얼(분할 정복): 120\n"
          ]
        }
      ]
    },
    {
      "cell_type": "markdown",
      "source": [
        "위의 코드에서 factorial_divide_and_conquer 함수는 분할 정복을 사용하여 주어진 숫자의 팩토리얼을 계산합니다.\n",
        "\n",
        "분할 정복에서는 큰 문제를 작은 부분 문제로 분할한 후, 각 부분 문제를 재귀적으로 해결하고, 그 결과를 조합하여 원래 문제의 해답을 구합니다.\n",
        "\n",
        "위의 예시에서는 divide_and_conquer 함수 내에서 숫자 범위를 반으로 나누어 분할하고, 각 부분 문제에 대해 재귀적으로 팩토리얼을 계산한 뒤, 부분 결과를 곱하여 전체 팩토리얼을 계산합니다.\n",
        "\n",
        "위의 두 코드는 팩토리얼 계산을 위해 재귀 호출과 분할 정복의 접근 방식을 보여줍니다.\n",
        "\n",
        "재귀 호출은 함수가 자기 자신을 호출하여 작은 부분 문제를 해결하는 방식으로 동작하고, 분할 정복은 큰 문제를 작은 부분 문제로 나누어 해결하고, 그 결과를 결합하여 원래 문제를 해결하는 방식으로 동작합니다.\n",
        "\n",
        "\n",
        "\n",
        "\n"
      ],
      "metadata": {
        "id": "Zz_DV_Gjkr-7"
      }
    },
    {
      "cell_type": "markdown",
      "source": [
        "### 분할정복을 더 잘 이해하기 위한 복습코드"
      ],
      "metadata": {
        "id": "funV9yYojr_8"
      }
    },
    {
      "cell_type": "markdown",
      "source": [
        "분할 정복(Divide and Conquer)은 큰 문제를 작은 문제로 분할하고, 각각의 작은 문제를 해결한 후에 그 결과를 결합하여 원래 문제를 해결하는 알고리즘 설계 패러다임입니다.\n",
        "\n",
        "이를 이해하기 쉽도록 재귀적인 패턴으로 표현된 예시 코드를 작성해보겠습니다.\n",
        "\n",
        "예시로는 리스트의 합을 구하는 문제를 다루도록 하겠습니다.\n",
        "\n"
      ],
      "metadata": {
        "id": "3dH8wW4mjtfN"
      }
    },
    {
      "cell_type": "code",
      "source": [
        "def divide_and_conquer_sum(arr):\n",
        "    # 기본 조건1: 배열이 비어있는 경우\n",
        "    if len(arr) == 0:\n",
        "        return 0\n",
        "\n",
        "    # 기본 조건2: 배열에 하나의 요소만 있는 경우\n",
        "    if len(arr) == 1:\n",
        "        return arr[0]\n",
        "\n",
        "    # 배열을 두 개의 부분 배열로 분할\n",
        "    mid = len(arr) // 2\n",
        "    left = arr[:mid]\n",
        "    right = arr[mid:]\n",
        "\n",
        "    # 재귀적으로 분할된 부분 배열의 합을 구함\n",
        "    left_sum = divide_and_conquer_sum(left)\n",
        "    right_sum = divide_and_conquer_sum(right)\n",
        "\n",
        "    # 부분 배열의 합을 결합하여 전체 배열의 합을 구함\n",
        "    return left_sum + right_sum\n",
        "\n",
        "# 테스트\n",
        "arr = [1, 2, 3, 4, 5]\n",
        "sum_of_arr = divide_and_conquer_sum(arr)\n",
        "print(\"배열의 합:\", sum_of_arr)\n"
      ],
      "metadata": {
        "colab": {
          "base_uri": "https://localhost:8080/"
        },
        "id": "HWrFw2sRjvlk",
        "outputId": "816a46bf-03b1-4e7a-eb2b-c9167e264040"
      },
      "execution_count": null,
      "outputs": [
        {
          "output_type": "stream",
          "name": "stdout",
          "text": [
            "배열의 합: 15\n"
          ]
        }
      ]
    },
    {
      "cell_type": "markdown",
      "source": [
        "위의 코드는 주어진 배열의 합을 분할 정복 방법을 사용하여 구하는 예시입니다.\n",
        "\n",
        "함수 divide_and_conquer_sum은 배열을 입력으로 받아서 합을 구하는 함수입니다.\n",
        "\n",
        "이 함수는 재귀적으로 동작하며, 배열의 크기가 0일 경우 합은 0을 반환합니다.\n",
        "\n",
        "배열의 크기가 1일 경우 해당 요소를 반환합니다.\n",
        "\n",
        "그 외의 경우에는 배열을 두 개의 부분 배열로 분할한 후, 각각의 부분 배열의 합을 재귀적으로 구한 뒤, 두 합을 결합하여 전체 배열의 합을 반환합니다.\n",
        "\n",
        "위의 예시에서는 주어진 배열 [1, 2, 3, 4, 5]의 합인 15가 출력될 것입니다.\n",
        "\n",
        "\n",
        "\n",
        "\n"
      ],
      "metadata": {
        "id": "nJv3Z7nEjyWl"
      }
    },
    {
      "cell_type": "markdown",
      "source": [
        "### 분할정복"
      ],
      "metadata": {
        "id": "DkP3Yuf9jS3k"
      }
    },
    {
      "cell_type": "markdown",
      "source": [
        "분할 정복(Divide and Conquer) 알고리즘은 큰 문제를 작은 부분 문제로 분할하고, 각 부분 문제를 재귀적으로 해결한 후, 그 결과를 조합하여 원래 문제를 해결하는 방법입니다.\n",
        "\n",
        "이를 파이썬 코드로 구현해보겠습니다.\n",
        "\n",
        "예시로 대표적인 분할 정복 알고리즘인 합병 정렬(Merge Sort)을 작성해보겠습니다.\n",
        "\n"
      ],
      "metadata": {
        "id": "rOimC_TyjT_r"
      }
    },
    {
      "cell_type": "code",
      "source": [
        "def merge_sort(arr):\n",
        "    if len(arr) <= 1:\n",
        "        return arr\n",
        "\n",
        "    # 배열을 반으로 분할\n",
        "    mid = len(arr) // 2\n",
        "    left = arr[:mid]\n",
        "    right = arr[mid:]\n",
        "\n",
        "    # 재귀적으로 분할 정복\n",
        "    left = merge_sort(left)\n",
        "    right = merge_sort(right)\n",
        "\n",
        "    # 분할된 배열을 병합\n",
        "    return merge(left, right)\n",
        "\n",
        "def merge(left, right):\n",
        "    merged = []\n",
        "    left_idx, right_idx = 0, 0\n",
        "\n",
        "    # 두 부분 배열을 비교하며 작은 값을 차례로 merged에 추가\n",
        "    while left_idx < len(left) and right_idx < len(right):\n",
        "        if left[left_idx] < right[right_idx]:\n",
        "            merged.append(left[left_idx])\n",
        "            left_idx += 1\n",
        "        else:\n",
        "            merged.append(right[right_idx])\n",
        "            right_idx += 1\n",
        "\n",
        "    # 남은 원소들을 추가\n",
        "    merged.extend(left[left_idx:])\n",
        "    merged.extend(right[right_idx:])\n",
        "\n",
        "    return merged\n",
        "\n",
        "# 테스트\n",
        "arr = [5, 2, 8, 1, 6, 9, 3]\n",
        "sorted_arr = merge_sort(arr)\n",
        "print(sorted_arr)\n"
      ],
      "metadata": {
        "colab": {
          "base_uri": "https://localhost:8080/"
        },
        "id": "lvAw-vbJjU6s",
        "outputId": "dd086206-f1da-4eb8-fc60-468f7e0eed61"
      },
      "execution_count": null,
      "outputs": [
        {
          "output_type": "stream",
          "name": "stdout",
          "text": [
            "[1, 2, 3, 5, 6, 8, 9]\n"
          ]
        }
      ]
    },
    {
      "cell_type": "markdown",
      "source": [
        "위의 코드는 주어진 배열을 합병 정렬을 이용하여 오름차순으로 정렬하는 예시입니다.\n",
        "\n",
        "배열을 반으로 나누고, 재귀적으로 각 부분 문제를 해결한 후에 병합하여 정렬된 배열을 반환합니다. 이를 실행하면 [1, 2, 3, 5, 6, 8, 9]가 출력될 것입니다.\n",
        "\n",
        "\n",
        "\n",
        "\n"
      ],
      "metadata": {
        "id": "RzZVgfZwjW1v"
      }
    },
    {
      "cell_type": "markdown",
      "source": [
        "### 분할정복2"
      ],
      "metadata": {
        "id": "usI09FTSjZdr"
      }
    },
    {
      "cell_type": "markdown",
      "source": [
        "분할 정복 알고리즘 중 하나인 이진 탐색(Binary Search) 알고리즘을 파이썬 코드로 작성해보겠습니다.\n",
        "\n",
        "이진 탐색은 정렬된 배열에서 특정한 값을 찾는 알고리즘으로, 배열의 중간 요소와 찾고자 하는 값을 비교하면서 범위를 좁혀가는 방식으로 동작합니다.\n",
        "\n"
      ],
      "metadata": {
        "id": "92tDipDAjaww"
      }
    },
    {
      "cell_type": "code",
      "source": [
        "def binary_search(arr, target):\n",
        "    low = 0\n",
        "    high = len(arr) - 1\n",
        "\n",
        "    while low <= high:\n",
        "        mid = (low + high) // 2\n",
        "\n",
        "        if arr[mid] == target:\n",
        "            return mid\n",
        "        elif arr[mid] < target:\n",
        "            low = mid + 1\n",
        "        else:\n",
        "            high = mid - 1\n",
        "\n",
        "    return -1  # 찾고자 하는 값이 배열에 없는 경우\n",
        "\n",
        "# 테스트\n",
        "arr = [1, 3, 5, 7, 9, 11, 13]\n",
        "target = 7\n",
        "result = binary_search(arr, target)\n",
        "\n",
        "if result != -1:\n",
        "    print(\"찾고자 하는 값\", target, \"은(는) 인덱스\", result, \"에 위치합니다.\")\n",
        "else:\n",
        "    print(\"찾고자 하는 값\", target, \"은(는) 배열에 존재하지 않습니다.\")\n"
      ],
      "metadata": {
        "colab": {
          "base_uri": "https://localhost:8080/"
        },
        "id": "aEVjVjEyjcKT",
        "outputId": "beda5048-1d63-4beb-9a06-adb0c4d2b046"
      },
      "execution_count": null,
      "outputs": [
        {
          "output_type": "stream",
          "name": "stdout",
          "text": [
            "찾고자 하는 값 7 은(는) 인덱스 3 에 위치합니다.\n"
          ]
        }
      ]
    },
    {
      "cell_type": "markdown",
      "source": [
        "위의 코드는 주어진 배열에서 이진 탐색을 이용하여 특정 값을 찾는 예시입니다.\n",
        "\n",
        "주어진 배열은 이미 정렬되어 있다고 가정하며, binary_search 함수는 배열과 찾고자 하는 값을 입력으로 받습니다.\n",
        "\n",
        "이진 탐색을 수행하여 찾고자 하는 값이 존재하면 해당 값의 인덱스를 반환하고, 존재하지 않으면 -1을 반환합니다.\n",
        "\n",
        "위의 예시에서는 찾고자 하는 값 7이 인덱스 3에 위치한다는 결과가 출력될 것입니다.\n",
        "\n",
        "\n",
        "\n",
        "\n"
      ],
      "metadata": {
        "id": "isFNGBiHjd39"
      }
    },
    {
      "cell_type": "markdown",
      "source": [
        "### 이커머스 서비스에서 재귀는?"
      ],
      "metadata": {
        "id": "0zar92avlGv3"
      }
    },
    {
      "cell_type": "markdown",
      "source": [
        "이커머스 서비스에서 재귀 호출을 활용할 수 있는 예시로, 카테고리 구조를 탐색하며 상품 목록을 출력하는 코드를 작성해보겠습니다. 이 예시에서는 간단한 딕셔너리 데이터 구조를 사용하여 카테고리와 상품 정보를 표현하고, 재귀 호출을 사용하여 카테고리의 하위 카테고리를 탐색하며 상품 목록을 출력하는 함수를 작성하겠습니다.\n",
        "\n"
      ],
      "metadata": {
        "id": "Ej0uVJI9lJ58"
      }
    },
    {
      "cell_type": "code",
      "source": [
        "def print_product_list(category):\n",
        "    if 'products' in category:\n",
        "        for product in category['products']:\n",
        "            print(product)\n",
        "\n",
        "    if 'subcategories' in category:\n",
        "        for subcategory in category['subcategories']:\n",
        "            print_product_list(subcategory)\n",
        "\n",
        "# 테스트용 데이터\n",
        "category_data = {\n",
        "    'name': '전자제품',\n",
        "    'subcategories': [\n",
        "        {\n",
        "            'name': '휴대폰',\n",
        "            'products': ['아이폰', '갤럭시', 'LG G']\n",
        "        },\n",
        "        {\n",
        "            'name': '컴퓨터',\n",
        "            'subcategories': [\n",
        "                {\n",
        "                    'name': '노트북',\n",
        "                    'products': ['맥북', 'Dell XPS', 'LG Gram']\n",
        "                },\n",
        "                {\n",
        "                    'name': '데스크탑',\n",
        "                    'products': ['iMac', '게이밍 PC']\n",
        "                }\n",
        "            ]\n",
        "        }\n",
        "    ]\n",
        "}\n",
        "\n",
        "# 카테고리의 상품 목록 출력\n",
        "print_product_list(category_data)\n"
      ],
      "metadata": {
        "colab": {
          "base_uri": "https://localhost:8080/"
        },
        "id": "_6Zyz8nSlLrv",
        "outputId": "c4683541-afc4-4d9d-fb81-1c79adab0a7d"
      },
      "execution_count": null,
      "outputs": [
        {
          "output_type": "stream",
          "name": "stdout",
          "text": [
            "아이폰\n",
            "갤럭시\n",
            "LG G\n",
            "맥북\n",
            "Dell XPS\n",
            "LG Gram\n",
            "iMac\n",
            "게이밍 PC\n"
          ]
        }
      ]
    },
    {
      "cell_type": "markdown",
      "source": [
        "위의 코드는 재귀 호출을 사용하여 카테고리 구조를 탐색하고, 각 카테고리에서 상품 목록을 출력하는 예시입니다. print_product_list 함수는 재귀적으로 동작하며, 입력으로 받은 카테고리 딕셔너리를 확인하고, 'products' 키를 가지고 있다면 해당 카테고리의 상품 목록을 출력합니다. 그리고 'subcategories' 키를 가지고 있다면 하위 카테고리를 순회하며 재귀적으로 print_product_list 함수를 호출합니다.\n",
        "\n",
        "위의 예시에서는 입력 데이터로 '전자제품' 카테고리를 포함한 여러 카테고리와 상품 정보를 가진 딕셔너리를 사용했습니다. 이 코드는 카테고리 구조를 탐색하며 상품 목록을 출력하는데, 재귀 호출을 사용하여 카테고리의 하위 카테고리까지 탐색하며 출력합니다.\n",
        "\n",
        "\n",
        "\n",
        "\n"
      ],
      "metadata": {
        "id": "BehA-C49lOL5"
      }
    },
    {
      "cell_type": "markdown",
      "source": [
        "### 이커머스 서비스에서 분할정복은?"
      ],
      "metadata": {
        "id": "Lo2dQROtlQWK"
      }
    },
    {
      "cell_type": "markdown",
      "source": [
        "이커머스 서비스에서 분할 정복을 활용할 수 있는 예시로, 주문 목록을 분할하여 처리하는 코드를 작성해보겠습니다. 이 예시에서는 간단한 리스트 데이터 구조를 사용하여 주문 목록을 표현하고, 분할 정복을 사용하여 주문 목록을 처리하는 함수를 작성하겠습니다.\n",
        "\n"
      ],
      "metadata": {
        "id": "fHdkAMS0lXOw"
      }
    },
    {
      "cell_type": "code",
      "source": [
        "def process_orders(order_list):\n",
        "    if len(order_list) == 0:\n",
        "        return None\n",
        "\n",
        "    if len(order_list) == 1:\n",
        "        process_order(order_list[0])\n",
        "        return\n",
        "\n",
        "    mid = len(order_list) // 2\n",
        "    left_orders = order_list[:mid]\n",
        "    right_orders = order_list[mid:]\n",
        "\n",
        "    process_orders(left_orders)\n",
        "    process_orders(right_orders)\n",
        "\n",
        "def process_order(order):\n",
        "    print(\"Processing order:\", order)\n",
        "\n",
        "# 테스트용 주문 목록\n",
        "order_list = [1, 2, 3, 4, 5, 6, 7, 8, 9, 10]\n",
        "\n",
        "# 주문 목록 처리\n",
        "process_orders(order_list)\n"
      ],
      "metadata": {
        "colab": {
          "base_uri": "https://localhost:8080/"
        },
        "id": "0sQCE1Zsla-J",
        "outputId": "3617e367-df90-41cd-8cf2-18fc2e74fd3c"
      },
      "execution_count": null,
      "outputs": [
        {
          "output_type": "stream",
          "name": "stdout",
          "text": [
            "Processing order: 1\n",
            "Processing order: 2\n",
            "Processing order: 3\n",
            "Processing order: 4\n",
            "Processing order: 5\n",
            "Processing order: 6\n",
            "Processing order: 7\n",
            "Processing order: 8\n",
            "Processing order: 9\n",
            "Processing order: 10\n"
          ]
        }
      ]
    },
    {
      "cell_type": "markdown",
      "source": [
        "위의 코드에서 process_orders 함수는 분할 정복을 사용하여 주문 목록을 처리하는 함수입니다. 함수는 다음과 같이 동작합니다.\n",
        "\n",
        "1) 기본 조건1: 주문 목록이 비어있는 경우(None 반환)\n",
        "\n",
        "2) 기본 조건2: 주문 목록에 하나의 주문만 있는 경우(해당 주문 처리 후 종료)\n",
        "\n",
        "3) 주문 목록을 반으로 분할하여 왼쪽 부분 주문 목록과 오른쪽 부분 주문 목록을 생성\n",
        "\n",
        "4) 왼쪽 부분 주문 목록을 재귀적으로 처리\n",
        "\n",
        "5) 오른쪽 부분 주문 목록을 재귀적으로 처리\n",
        "\n",
        "\n",
        "위의 예시에서는 테스트용 주문 목록으로 [1, 2, 3, 4, 5, 6, 7, 8, 9, 10]을 사용했습니다.\n",
        "\n",
        "이 코드는 주문 목록을 분할하여 작은 부분 주문 목록으로 나눈 뒤, 재귀적으로 처리하는 방식으로 동작합니다.\n",
        "분할 정복을 활용함으로써 주문 목록을 효율적으로 처리할 수 있습니다.\n",
        "\n",
        "\n",
        "\n",
        "\n"
      ],
      "metadata": {
        "id": "9WvejxtHlc7o"
      }
    },
    {
      "cell_type": "markdown",
      "source": [
        "### 이커머스 서비스에서 분할정복은 두번째"
      ],
      "metadata": {
        "id": "7lH7YHTivHGF"
      }
    },
    {
      "cell_type": "markdown",
      "source": [
        "이커머스 서비스에서 분할 정복을 활용할 수 있는 예시로, 상품 가격의 총합을 계산하는 코드를 작성해보겠습니다. 이 예시에서는 간단한 리스트 데이터 구조를 사용하여 상품 가격을 표현하고, 분할 정복을 사용하여 상품 가격의 총합을 계산하는 함수를 작성하겠습니다.\n",
        "\n"
      ],
      "metadata": {
        "id": "5WMYquIKvNLk"
      }
    },
    {
      "cell_type": "code",
      "source": [
        "def calculate_total_price(prices):\n",
        "    if len(prices) == 0:\n",
        "        return 0\n",
        "\n",
        "    if len(prices) == 1:\n",
        "        return prices[0]\n",
        "\n",
        "    mid = len(prices) // 2\n",
        "    left_prices = prices[:mid]\n",
        "    right_prices = prices[mid:]\n",
        "\n",
        "    left_sum = calculate_total_price(left_prices)\n",
        "    right_sum = calculate_total_price(right_prices)\n",
        "\n",
        "    return left_sum + right_sum\n",
        "\n",
        "# 테스트용 상품 가격 목록\n",
        "prices = [10, 20, 30, 40, 50]\n",
        "\n",
        "# 상품 가격의 총합 계산\n",
        "total_price = calculate_total_price(prices)\n",
        "print(\"상품 가격의 총합:\", total_price)\n"
      ],
      "metadata": {
        "colab": {
          "base_uri": "https://localhost:8080/"
        },
        "id": "qU04renbvOIF",
        "outputId": "ad4e5f51-63b2-4b38-9540-fa57ea7644b0"
      },
      "execution_count": 8,
      "outputs": [
        {
          "output_type": "stream",
          "name": "stdout",
          "text": [
            "상품 가격의 총합: 150\n"
          ]
        }
      ]
    },
    {
      "cell_type": "markdown",
      "source": [
        "위의 코드에서 calculate_total_price 함수는 분할 정복을 사용하여 상품 가격의 총합을 계산하는 함수입니다.\n",
        "함수는 다음과 같이 동작합니다.\n",
        "\n",
        "1)기본 조건: 가격 목록이 비어있는 경우(총합 0 반환)\n",
        "\n",
        "2)기본 조건: 가격 목록에 하나의 가격만 있는 경우(해당 가격 반환)\n",
        "\n",
        "3)가격 목록을 반으로 분할하여 왼쪽 부분 가격 목록과 오른쪽 부분 가격 목록을 생성\n",
        "\n",
        "4)왼쪽 부분 가격 목록의 총합을 재귀적으로 계산\n",
        "\n",
        "5)오른쪽 부분 가격 목록의 총합을 재귀적으로 계산\n",
        "\n",
        "6)왼쪽 부분 가격 목록의 총합과 오른쪽 부분 가격 목록의 총합을 합하여 전체 가격 총합을 반환\n",
        "\n",
        "\n",
        "위의 예시에서는 테스트용 상품 가격 목록으로 [10, 20, 30, 40, 50]을 사용했습니다.\n",
        "이 코드는 상품 가격 목록을 분할하여 작은 부분 목록으로 나눈 뒤, 재귀적으로 각 부분 목록의 총합을 계산하고, 부분 결과를 조합하여 전체 가격 총합을 계산합니다.\n",
        "분할 정복을 활용함으로써 상품 가격의 총합을 효율적으로 계산할 수 있습니다.\n",
        "\n",
        "\n",
        "\n",
        "\n"
      ],
      "metadata": {
        "id": "k5YM1I2svQLW"
      }
    },
    {
      "cell_type": "markdown",
      "source": [
        "### 퀵정렬"
      ],
      "metadata": {
        "id": "qdKFdqQsta9S"
      }
    },
    {
      "cell_type": "markdown",
      "source": [
        "예를 들어, 게시물을 최신순으로 정렬하여 보여주는 앱의 경우, 퀵 정렬을 사용하여 게시물 목록을 정렬할 수 있습니다.\n",
        "\n"
      ],
      "metadata": {
        "id": "mnK0dpv7x6eA"
      }
    },
    {
      "cell_type": "code",
      "source": [
        "def quick_sort_posts(posts):\n",
        "    if len(posts) <= 1:\n",
        "        return posts\n",
        "\n",
        "    pivot = posts[len(posts) // 2]\n",
        "    smaller = []\n",
        "    greater = []\n",
        "    equal = []\n",
        "\n",
        "    for post in posts:\n",
        "        if post['date'] < pivot['date']:\n",
        "            smaller.append(post)\n",
        "        elif post['date'] > pivot['date']:\n",
        "            greater.append(post)\n",
        "        else:\n",
        "            equal.append(post)\n",
        "\n",
        "    return quick_sort_posts(greater) + equal + quick_sort_posts(smaller)\n",
        "\n",
        "\n",
        "# 테스트용 게시물 목록\n",
        "posts = [\n",
        "    {'title': '게시물1', 'date': '2022-07-01'},\n",
        "    {'title': '게시물2', 'date': '2022-06-30'},\n",
        "    {'title': '게시물3', 'date': '2022-07-03'},\n",
        "    {'title': '게시물4', 'date': '2022-07-02'},\n",
        "]\n",
        "\n",
        "# 게시물 목록 최신순으로 정렬\n",
        "sorted_posts = quick_sort_posts(posts)\n",
        "print(\"정렬된 게시물 목록:\")\n",
        "for post in sorted_posts:\n",
        "    print(post['title'], post['date'])\n"
      ],
      "metadata": {
        "colab": {
          "base_uri": "https://localhost:8080/"
        },
        "id": "Nhljr8_rx7oY",
        "outputId": "aa41d8fc-86b5-4ac5-d27e-d6a546ce012c"
      },
      "execution_count": 9,
      "outputs": [
        {
          "output_type": "stream",
          "name": "stdout",
          "text": [
            "정렬된 게시물 목록:\n",
            "게시물3 2022-07-03\n",
            "게시물4 2022-07-02\n",
            "게시물1 2022-07-01\n",
            "게시물2 2022-06-30\n"
          ]
        }
      ]
    },
    {
      "cell_type": "markdown",
      "source": [
        "위의 코드에서 quick_sort_posts 함수는 퀵 정렬을 사용하여 주어진 게시물 목록을 최신순으로 정렬합니다.\n",
        "\n",
        "함수는 다음과 같이 동작합니다.\n",
        "\n",
        "\n",
        "1)기본 조건: 게시물 목록의 크기가 1 이하인 경우, 목록을 그대로 반환합니다.\n",
        "\n",
        "2)게시물 목록의 중간 요소를 기준으로 선택합니다. 이를 pivot이라고 합니다.\n",
        "\n",
        "3)pivot 날짜보다 이전인 게시물은 smaller 리스트에, pivot 날짜보다 이후인  게시물은 greater 리스트에, pivot 날짜와 동일한 게시물은 equal 리스트에 저장합니다.\n",
        "\n",
        "4)smaller와 greater 리스트에 대해 재귀적으로 quick_sort_posts 함수를 호출하여 각각 정렬을 수행합니다.\n",
        "\n",
        "5)정렬된 greater, equal, smaller 리스트를 결합하여 최종 정렬된 게시물 목록을 반환합니다.\n",
        "\n",
        "\n",
        "위의 예시에서는 테스트용 게시물 목록으로 날짜(date)를 포함한 딕셔너리들의 리스트를 사용했습니다.\n",
        "\n",
        "이 코드는 퀵 정렬을 활용하여 게시물 목록을 최신순으로 정렬하고, 정렬된 결과를 출력합니다.\n",
        "\n",
        "실행 결과로는 최신 날짜순으로 게시물이 정렬된 상태로 출력될 것입니다.\n",
        "\n",
        "\n",
        "\n",
        "\n"
      ],
      "metadata": {
        "id": "yP-RkkYYx93V"
      }
    },
    {
      "cell_type": "code",
      "source": [],
      "metadata": {
        "id": "g3zttX_GjVtL"
      },
      "execution_count": null,
      "outputs": []
    }
  ]
}